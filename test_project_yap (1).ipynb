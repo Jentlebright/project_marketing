{
 "cells": [
  {
   "cell_type": "markdown",
   "metadata": {
    "id": "pvnv2kcsr20b"
   },
   "source": [
    "# Marketing project"
   ]
  },
  {
   "cell_type": "markdown",
   "metadata": {
    "id": "muAtmIHhr9E8"
   },
   "source": [
    "Интернет-магазин собирает историю покупателей, проводит рассылки предложений и планирует будущие продажи. Для оптимизации процессов надо выделить пользователей, которые готовы совершить покупку в ближайшее время.\n",
    "\n",
    "Необходимо выполнить инженеринг признаков, обучить и оптимизировать модель бинарной классификации, которая предскажет вероятность совершения покупки пользователем в течение 90 дней.\n",
    "\n",
    "Целевая метрика - `ROC_AUC`."
   ]
  },
  {
   "cell_type": "code",
   "execution_count": 1,
   "metadata": {
    "id": "DakmRh1hrPLH"
   },
   "outputs": [],
   "source": [
    "from IPython.display import clear_output"
   ]
  },
  {
   "cell_type": "code",
   "execution_count": 2,
   "metadata": {
    "id": "P_LTl2zmr0NZ"
   },
   "outputs": [],
   "source": [
    "%pip install -r requirements.txt\n",
    "\n",
    "clear_output()"
   ]
  },
  {
   "cell_type": "code",
   "execution_count": 3,
   "metadata": {
    "id": "gPl9vA0DsIPA"
   },
   "outputs": [],
   "source": [
    "!pip install catboost -q\n",
    "!pip install lightgbm -q\n",
    "!pip install phik -q"
   ]
  },
  {
   "cell_type": "markdown",
   "metadata": {
    "id": "6b119Xp9siNQ"
   },
   "source": [
    "Сделаем импорты"
   ]
  },
  {
   "cell_type": "code",
   "execution_count": 4,
   "metadata": {
    "id": "Gb4rkhhvr07k"
   },
   "outputs": [],
   "source": [
    "import numpy as np\n",
    "import pandas as pd\n",
    "import matplotlib.pyplot as plt\n",
    "import seaborn as sns\n",
    "import shap\n",
    "\n",
    "# Pipelines\n",
    "from sklearn.pipeline import Pipeline\n",
    "from sklearn.base import (BaseEstimator,\n",
    "                          TransformerMixin)\n",
    "\n",
    "# Preprocessing\n",
    "from sklearn.preprocessing import MinMaxScaler, OneHotEncoder, OrdinalEncoder, StandardScaler\n",
    "from sklearn.impute import SimpleImputer\n",
    "\n",
    "# Models\n",
    "from sklearn.linear_model import LogisticRegression\n",
    "from sklearn.ensemble import RandomForestClassifier\n",
    "from sklearn.neighbors import KNeighborsClassifier\n",
    "from sklearn.svm import LinearSVC\n",
    "from catboost import CatBoostClassifier\n",
    "from lightgbm import LGBMClassifier\n",
    "\n",
    "# Hyperparams tuning\n",
    "from sklearn.model_selection import (train_test_split,\n",
    "                                     StratifiedKFold,\n",
    "                                     cross_val_score)\n",
    "from hyperopt import (hp,\n",
    "                      fmin,\n",
    "                      tpe,\n",
    "                      Trials,\n",
    "                      STATUS_OK)\n",
    "\n",
    "# Metrics\n",
    "from sklearn.metrics import (classification_report,\n",
    "                            ConfusionMatrixDisplay,\n",
    "                             roc_auc_score)\n",
    "\n",
    "from phik import phik_matrix  # this import IS accessed\n",
    "from prettytable import PrettyTable\n",
    "from termcolor import colored\n",
    "from statsmodels.stats.outliers_influence import variance_inflation_factor\n",
    "from statsmodels.tools.tools import add_constant"
   ]
  },
  {
   "cell_type": "markdown",
   "metadata": {
    "id": "JL1Yy2Irskpf"
   },
   "source": [
    "Создадим конфиг"
   ]
  },
  {
   "cell_type": "code",
   "execution_count": 5,
   "metadata": {
    "id": "2DU8CnfJs1E_"
   },
   "outputs": [],
   "source": [
    "RANDOM_STATE = 27\n",
    "TEST_SIZE = 0.20\n",
    "\n",
    "pd.options.display.float_format = '{:.2f}'.format\n",
    "\n",
    "import warnings\n",
    "warnings.filterwarnings('ignore')"
   ]
  },
  {
   "cell_type": "markdown",
   "metadata": {
    "id": "hiyC1QgetIqt"
   },
   "source": [
    "Далее импортируем сервисные функции для оптимизации"
   ]
  },
  {
   "cell_type": "code",
   "execution_count": 6,
   "metadata": {
    "id": "4pV73LwqtL0b"
   },
   "outputs": [],
   "source": [
    "def optimize_memory_usage(df: pd.DataFrame, print_size: bool=True) -> pd.DataFrame:\n",
    "    \"\"\"Function optimizes memory usage in dataframe\n",
    "\n",
    "    Args:\n",
    "        df (pd.DataFrame): DataFrame to optimize.\n",
    "        print_size (bool, optional): display of optimization results. Defaults to True.\n",
    "\n",
    "    Returns:\n",
    "        pd.DataFrame: optimized DataFrame\n",
    "    \"\"\"\n",
    "\n",
    "    numerics = ['int16', 'int32', 'int64', 'float16', 'float32', 'float64'] # Типы, которые будем проверять на оптимизацию\n",
    "\n",
    "    # Размер занимаемой памяти до оптимизации (в Мб)\n",
    "    before_size = df.memory_usage().sum() / 1024 ** 2\n",
    "\n",
    "    for column in df.columns:\n",
    "        column_type = df[column].dtypes\n",
    "        if column_type in numerics:\n",
    "            column_min = df[column].min()\n",
    "            column_max = df[column].max()\n",
    "            if str(column_type).startswith('int'):\n",
    "                if column_min > np.iinfo(np.int8).min and column_max < np.iinfo(np.int8).max:\n",
    "                    df[column] = df[column].astype(np.int8)\n",
    "                elif column_min > np.iinfo(np.int16).min and column_max < np.iinfo(np.int16).max:\n",
    "                    df[column] = df[column].astype(np.int16)\n",
    "                elif column_min > np.iinfo(np.int32).min and column_max < np.iinfo(np.int32).max:\n",
    "                    df[column] = df[column].astype(np.int32)\n",
    "                elif column_min > np.iinfo(np.int64).min and column_max < np.iinfo(np.int64).max:\n",
    "                    df[column] = df[column].astype(np.int64)\n",
    "            else:\n",
    "                if column_min > np.finfo(np.float32).min and column_max < np.finfo(np.float32).max:\n",
    "                    df[column] = df[column].astype(np.float32)\n",
    "                else:\n",
    "                    df[column] = df[column].astype(np.float64)\n",
    "\n",
    "    # Размер занимаемой памяти после оптимизации (в Мб)\n",
    "    after_size = df.memory_usage().sum() / 1024 ** 2\n",
    "    if print_size:\n",
    "        print('Размер использования памяти: до {:5.2f} Mb - после {:5.2f} Mb ({:.1f}%)'\n",
    "                            .format(before_size, after_size, 100 * (before_size - after_size) / before_size))\n",
    "    return df"
   ]
  },
  {
   "cell_type": "code",
   "execution_count": 7,
   "metadata": {
    "id": "22FN-nExtNrO"
   },
   "outputs": [],
   "source": [
    "def check_duplicates(df: pd.DataFrame) -> None:\n",
    "    duplicates_count = df.duplicated().sum()\n",
    "\n",
    "    if duplicates_count == 0:\n",
    "        print(colored('Полных дубликатов не обнаружено.', 'green'))\n",
    "    else:\n",
    "        duplicates_part = duplicates_count / len(df)\n",
    "        print(colored(f'Обнаружено {duplicates_count} дубликатов ({duplicates_part:.2%})', 'red'))"
   ]
  },
  {
   "cell_type": "code",
   "execution_count": 8,
   "metadata": {
    "id": "YNZXxLgLtPHM"
   },
   "outputs": [],
   "source": [
    "def check_nans(data: pd.DataFrame) -> None:\n",
    "    table = PrettyTable()\n",
    "    table.field_names = ['Feature', 'Missing values count']\n",
    "\n",
    "    missing_info = data.isna().sum().sort_values()\n",
    "    cols = missing_info.index.to_list()\n",
    "    for col in cols:\n",
    "        count = missing_info[col]\n",
    "        color = 'green' if count == 0 else 'red'\n",
    "        s = f'{count} ({count / len(data):.2%})'\n",
    "        table.add_row([col, colored(s, color)])\n",
    "\n",
    "    print(table)"
   ]
  },
  {
   "cell_type": "code",
   "execution_count": 9,
   "metadata": {
    "id": "SSpcFfcntQ9Y"
   },
   "outputs": [],
   "source": [
    "def check_nans_in_series(series: pd.Series) -> None:\n",
    "    nan_cnt = series.isna().sum()\n",
    "    text = colored('No missing values', 'green') if nan_cnt == 0 \\\n",
    "        else colored(f'{nan_cnt} ({nan_cnt / len(series):.2%})', 'red')\n",
    "    print(text)"
   ]
  },
  {
   "cell_type": "code",
   "execution_count": 10,
   "metadata": {
    "id": "YFohN_PftScr"
   },
   "outputs": [],
   "source": [
    "def get_value_counts(series: pd.Series) -> None:\n",
    "    data = pd.DataFrame()\n",
    "    data['count'] = series.value_counts()\n",
    "    data['part'] =series.value_counts(normalize=True)\n",
    "    display(data)"
   ]
  },
  {
   "cell_type": "code",
   "execution_count": 11,
   "metadata": {
    "id": "s4ev1Ojpt1N4"
   },
   "outputs": [],
   "source": [
    "def plot_pie_chart(series: pd.Series) -> None:\n",
    "    if not isinstance(series, pd.Series):\n",
    "        raise ValueError('Входные данные должны быть объектом pd.Series')\n",
    "\n",
    "    data = series.value_counts()\n",
    "\n",
    "    plt.figure(figsize=(4, 4), facecolor='black')  # Устанавливаем черный фон\n",
    "    data.plot.pie(labels=data.index, autopct='%1.1f%%', startangle=140,\n",
    "                   colormap='spring')  # Используем кислотные тона\n",
    "    plt.ylabel('')\n",
    "    plt.title('Распределение данных', color='white')  # Заголовок белым цветом\n",
    "    plt.axis('equal')\n",
    "    plt.tight_layout()\n",
    "\n",
    "    # Изменяем цвет текста на белый\n",
    "    for text in plt.gca().texts:\n",
    "        text.set_color('white')\n",
    "\n",
    "    plt.show()"
   ]
  },
  {
   "cell_type": "code",
   "execution_count": 12,
   "metadata": {
    "id": "YVFDrK0_t3MO"
   },
   "outputs": [],
   "source": [
    "def draw_plots_about_column(df: pd.DataFrame,\n",
    "                            column: str,\n",
    "                            column_description: str = None,\n",
    "                            bins: int = 20\n",
    "                            ) -> None:\n",
    "    if column_description is None:\n",
    "        column_description = column\n",
    "\n",
    "    # Установка стиля и фона\n",
    "    plt.style.use('dark_background')\n",
    "    plt.figure(facecolor='black')\n",
    "\n",
    "    # Создание подграфиков\n",
    "    _, ((ax1, ax2), (ax3, ax4)) = plt.subplots(2, 2, figsize=(12, 10), facecolor='black')\n",
    "\n",
    "    # Настройка цветовой палитры\n",
    "    sns.set_palette(\"bright\")\n",
    "\n",
    "    # Визуализация графиков\n",
    "    sns.violinplot(df, x=column, ax=ax1, orient='h', color='lime')\n",
    "    ax1.set_xlabel(column_description, color='white')\n",
    "    ax1.grid(color='gray')\n",
    "\n",
    "    sns.boxplot(df, x=column, ax=ax2, color='cyan')\n",
    "    ax2.set_xlabel(column_description, color='white')\n",
    "    ax2.grid(color='gray')\n",
    "\n",
    "    sns.histplot(df, x=column, bins=bins, ax=ax3, color='magenta')\n",
    "    ax3.set_xlabel(column_description, color='white')\n",
    "    ax3.set_ylabel('Количество', color='white')\n",
    "    ax3.grid(color='gray')\n",
    "\n",
    "    ax4.set_visible(False)\n",
    "\n",
    "    # Настройка заголовка\n",
    "    plt.suptitle(f'Информация о колонке `{column_description}`', fontsize=18, color='white')\n",
    "    plt.tight_layout()\n",
    "\n",
    "    plt.show()"
   ]
  },
  {
   "cell_type": "markdown",
   "metadata": {
    "id": "Xqwl7bcJzqzt"
   },
   "source": [
    "### Importing data"
   ]
  },
  {
   "cell_type": "code",
   "execution_count": 14,
   "metadata": {
    "id": "HTK7XYCYzttm"
   },
   "outputs": [],
   "source": [
    "apparel_messages = pd.read_csv('apparel-messages.csv', parse_dates=['date', 'created_at'])"
   ]
  },
  {
   "cell_type": "code",
   "execution_count": 15,
   "metadata": {
    "colab": {
     "base_uri": "https://localhost:8080/",
     "height": 206
    },
    "id": "cNKaRn2z0Rli",
    "outputId": "a682330c-a23d-4e5a-db54-f9ff8e6e5c90"
   },
   "outputs": [
    {
     "data": {
      "text/html": [
       "<div>\n",
       "<style scoped>\n",
       "    .dataframe tbody tr th:only-of-type {\n",
       "        vertical-align: middle;\n",
       "    }\n",
       "\n",
       "    .dataframe tbody tr th {\n",
       "        vertical-align: top;\n",
       "    }\n",
       "\n",
       "    .dataframe thead th {\n",
       "        text-align: right;\n",
       "    }\n",
       "</style>\n",
       "<table border=\"1\" class=\"dataframe\">\n",
       "  <thead>\n",
       "    <tr style=\"text-align: right;\">\n",
       "      <th></th>\n",
       "      <th>bulk_campaign_id</th>\n",
       "      <th>client_id</th>\n",
       "      <th>message_id</th>\n",
       "      <th>event</th>\n",
       "      <th>channel</th>\n",
       "      <th>date</th>\n",
       "      <th>created_at</th>\n",
       "    </tr>\n",
       "  </thead>\n",
       "  <tbody>\n",
       "    <tr>\n",
       "      <th>0</th>\n",
       "      <td>4439</td>\n",
       "      <td>1515915625626736623</td>\n",
       "      <td>1515915625626736623-4439-6283415ac07ea</td>\n",
       "      <td>open</td>\n",
       "      <td>email</td>\n",
       "      <td>2022-05-19</td>\n",
       "      <td>2022-05-19 00:14:20</td>\n",
       "    </tr>\n",
       "    <tr>\n",
       "      <th>1</th>\n",
       "      <td>4439</td>\n",
       "      <td>1515915625490086521</td>\n",
       "      <td>1515915625490086521-4439-62834150016dd</td>\n",
       "      <td>open</td>\n",
       "      <td>email</td>\n",
       "      <td>2022-05-19</td>\n",
       "      <td>2022-05-19 00:39:34</td>\n",
       "    </tr>\n",
       "    <tr>\n",
       "      <th>2</th>\n",
       "      <td>4439</td>\n",
       "      <td>1515915625553578558</td>\n",
       "      <td>1515915625553578558-4439-6283415b36b4f</td>\n",
       "      <td>open</td>\n",
       "      <td>email</td>\n",
       "      <td>2022-05-19</td>\n",
       "      <td>2022-05-19 00:51:49</td>\n",
       "    </tr>\n",
       "    <tr>\n",
       "      <th>3</th>\n",
       "      <td>4439</td>\n",
       "      <td>1515915625553578558</td>\n",
       "      <td>1515915625553578558-4439-6283415b36b4f</td>\n",
       "      <td>click</td>\n",
       "      <td>email</td>\n",
       "      <td>2022-05-19</td>\n",
       "      <td>2022-05-19 00:52:20</td>\n",
       "    </tr>\n",
       "    <tr>\n",
       "      <th>4</th>\n",
       "      <td>4439</td>\n",
       "      <td>1515915625471518311</td>\n",
       "      <td>1515915625471518311-4439-628341570c133</td>\n",
       "      <td>open</td>\n",
       "      <td>email</td>\n",
       "      <td>2022-05-19</td>\n",
       "      <td>2022-05-19 00:56:52</td>\n",
       "    </tr>\n",
       "  </tbody>\n",
       "</table>\n",
       "</div>"
      ],
      "text/plain": [
       "   bulk_campaign_id            client_id  \\\n",
       "0              4439  1515915625626736623   \n",
       "1              4439  1515915625490086521   \n",
       "2              4439  1515915625553578558   \n",
       "3              4439  1515915625553578558   \n",
       "4              4439  1515915625471518311   \n",
       "\n",
       "                               message_id  event channel       date  \\\n",
       "0  1515915625626736623-4439-6283415ac07ea   open   email 2022-05-19   \n",
       "1  1515915625490086521-4439-62834150016dd   open   email 2022-05-19   \n",
       "2  1515915625553578558-4439-6283415b36b4f   open   email 2022-05-19   \n",
       "3  1515915625553578558-4439-6283415b36b4f  click   email 2022-05-19   \n",
       "4  1515915625471518311-4439-628341570c133   open   email 2022-05-19   \n",
       "\n",
       "           created_at  \n",
       "0 2022-05-19 00:14:20  \n",
       "1 2022-05-19 00:39:34  \n",
       "2 2022-05-19 00:51:49  \n",
       "3 2022-05-19 00:52:20  \n",
       "4 2022-05-19 00:56:52  "
      ]
     },
     "execution_count": 15,
     "metadata": {},
     "output_type": "execute_result"
    }
   ],
   "source": [
    "apparel_messages.head()"
   ]
  },
  {
   "cell_type": "code",
   "execution_count": 16,
   "metadata": {
    "colab": {
     "base_uri": "https://localhost:8080/"
    },
    "id": "mPmyxRU-0WpE",
    "outputId": "d5edef31-4d06-41a0-ed72-668ae2929c76"
   },
   "outputs": [
    {
     "name": "stdout",
     "output_type": "stream",
     "text": [
      "<class 'pandas.core.frame.DataFrame'>\n",
      "RangeIndex: 12739798 entries, 0 to 12739797\n",
      "Data columns (total 7 columns):\n",
      " #   Column            Dtype         \n",
      "---  ------            -----         \n",
      " 0   bulk_campaign_id  int64         \n",
      " 1   client_id         int64         \n",
      " 2   message_id        object        \n",
      " 3   event             object        \n",
      " 4   channel           object        \n",
      " 5   date              datetime64[ns]\n",
      " 6   created_at        datetime64[ns]\n",
      "dtypes: datetime64[ns](2), int64(2), object(3)\n",
      "memory usage: 680.4+ MB\n"
     ]
    }
   ],
   "source": [
    "apparel_messages.info()"
   ]
  },
  {
   "cell_type": "markdown",
   "metadata": {
    "id": "m8gjdhG_0aqY"
   },
   "source": [
    "Чекнули типы данных, удостоверились, что все корректны. Сделаем оптимизацию памяти для нашего датасета6 применив функцию"
   ]
  },
  {
   "cell_type": "code",
   "execution_count": 17,
   "metadata": {
    "colab": {
     "base_uri": "https://localhost:8080/"
    },
    "id": "-YUhJ2kz0gWN",
    "outputId": "c1cea191-af6e-4228-98fb-7137a1389496"
   },
   "outputs": [
    {
     "name": "stdout",
     "output_type": "stream",
     "text": [
      "Размер использования памяти: до 680.38 Mb - после 607.48 Mb (10.7%)\n"
     ]
    }
   ],
   "source": [
    "apparel_messages = optimize_memory_usage(apparel_messages)"
   ]
  },
  {
   "cell_type": "markdown",
   "metadata": {
    "id": "holZjOvm0tkl"
   },
   "source": [
    "Теперь проверим дубли также сервисной функцией"
   ]
  },
  {
   "cell_type": "code",
   "execution_count": 18,
   "metadata": {
    "colab": {
     "base_uri": "https://localhost:8080/"
    },
    "id": "nnsWGtNd00Mx",
    "outputId": "5cdd068c-ecb1-45a3-8857-b66d34a3dc4c"
   },
   "outputs": [
    {
     "name": "stdout",
     "output_type": "stream",
     "text": [
      "\u001b[31mОбнаружено 48610 дубликатов (0.38%)\u001b[0m\n"
     ]
    }
   ],
   "source": [
    "check_duplicates(apparel_messages)"
   ]
  },
  {
   "cell_type": "markdown",
   "metadata": {
    "id": "5wkZwiS-08gB"
   },
   "source": [
    "достаточно много дублей, дропнем их"
   ]
  },
  {
   "cell_type": "code",
   "execution_count": 19,
   "metadata": {
    "id": "ay9G9nYt0_83"
   },
   "outputs": [],
   "source": [
    "apparel_messages = apparel_messages.drop_duplicates()"
   ]
  },
  {
   "cell_type": "code",
   "execution_count": 20,
   "metadata": {
    "colab": {
     "base_uri": "https://localhost:8080/"
    },
    "id": "kYM2phAH2H26",
    "outputId": "06d69af8-9af6-4020-a5b1-f841d3573ba9"
   },
   "outputs": [
    {
     "name": "stdout",
     "output_type": "stream",
     "text": [
      "+------------------+----------------------+\n",
      "|     Feature      | Missing values count |\n",
      "+------------------+----------------------+\n",
      "| bulk_campaign_id |      \u001b[32m0 (0.00%)\u001b[0m       |\n",
      "|    client_id     |      \u001b[32m0 (0.00%)\u001b[0m       |\n",
      "|    message_id    |      \u001b[32m0 (0.00%)\u001b[0m       |\n",
      "|      event       |      \u001b[32m0 (0.00%)\u001b[0m       |\n",
      "|     channel      |      \u001b[32m0 (0.00%)\u001b[0m       |\n",
      "|       date       |      \u001b[32m0 (0.00%)\u001b[0m       |\n",
      "|    created_at    |      \u001b[32m0 (0.00%)\u001b[0m       |\n",
      "+------------------+----------------------+\n"
     ]
    }
   ],
   "source": [
    "check_nans(apparel_messages)"
   ]
  },
  {
   "cell_type": "markdown",
   "metadata": {
    "id": "j3KrOaeb38Gn"
   },
   "source": [
    "Пропусков в датасете нет"
   ]
  },
  {
   "cell_type": "markdown",
   "metadata": {
    "id": "aua4Ivgo4EzW"
   },
   "source": [
    "Теперь посмотрим признаковые описания"
   ]
  },
  {
   "cell_type": "code",
   "execution_count": 21,
   "metadata": {
    "colab": {
     "base_uri": "https://localhost:8080/",
     "height": 458
    },
    "id": "ttEyrKMw3-TS",
    "outputId": "324a2855-0cbd-4d9c-c348-c3cf8ea6dc99"
   },
   "outputs": [
    {
     "data": {
      "text/plain": [
       "0            4439\n",
       "1            4439\n",
       "2            4439\n",
       "3            4439\n",
       "4            4439\n",
       "            ...  \n",
       "12739793    14657\n",
       "12739794    14657\n",
       "12739795    14641\n",
       "12739796    14624\n",
       "12739797    14641\n",
       "Name: bulk_campaign_id, Length: 12691188, dtype: int16"
      ]
     },
     "execution_count": 21,
     "metadata": {},
     "output_type": "execute_result"
    }
   ],
   "source": [
    "apparel_messages['bulk_campaign_id']"
   ]
  },
  {
   "cell_type": "code",
   "execution_count": 22,
   "metadata": {
    "colab": {
     "base_uri": "https://localhost:8080/"
    },
    "id": "0jZlOcQj4MhZ",
    "outputId": "e4295bef-3cde-488e-e36d-6a426dc44cb2"
   },
   "outputs": [
    {
     "data": {
      "text/plain": [
       "2709"
      ]
     },
     "execution_count": 22,
     "metadata": {},
     "output_type": "execute_result"
    }
   ],
   "source": [
    "apparel_messages['bulk_campaign_id'].nunique()"
   ]
  },
  {
   "cell_type": "markdown",
   "metadata": {
    "id": "uYuRzsib4NbK"
   },
   "source": [
    "Столбец по документации является идентификатором рассылки и может быть использован при объединении датасетов"
   ]
  },
  {
   "cell_type": "code",
   "execution_count": 23,
   "metadata": {
    "colab": {
     "base_uri": "https://localhost:8080/"
    },
    "id": "wr5A26hO4Xui",
    "outputId": "38c1b0c6-ce17-4a08-ce5b-e23ec27f9ba0"
   },
   "outputs": [
    {
     "data": {
      "text/plain": [
       "53329"
      ]
     },
     "execution_count": 23,
     "metadata": {},
     "output_type": "execute_result"
    }
   ],
   "source": [
    "apparel_messages['client_id'].nunique()"
   ]
  },
  {
   "cell_type": "markdown",
   "metadata": {
    "id": "sIFkRy3F4aOO"
   },
   "source": [
    "Этот столбец отвечает за идентификаторы клиента и также может быть использован при объединении"
   ]
  },
  {
   "cell_type": "code",
   "execution_count": 24,
   "metadata": {
    "colab": {
     "base_uri": "https://localhost:8080/",
     "height": 458
    },
    "id": "9FnNxBg-4gu1",
    "outputId": "926455b5-e923-425f-f0b4-525636624fa5"
   },
   "outputs": [
    {
     "data": {
      "text/plain": [
       "0            1515915625626736623-4439-6283415ac07ea\n",
       "1            1515915625490086521-4439-62834150016dd\n",
       "2            1515915625553578558-4439-6283415b36b4f\n",
       "3            1515915625553578558-4439-6283415b36b4f\n",
       "4            1515915625471518311-4439-628341570c133\n",
       "                             ...                   \n",
       "12739793    1515915625477497874-14657-65cdd371cc86c\n",
       "12739794    1515915625765994334-14657-65cdd36018eac\n",
       "12739795    1515915625545014677-14641-65cb2434b25a1\n",
       "12739796    1515915625477497874-14624-65c5e22fb401e\n",
       "12739797    1515915625477497874-14641-65cb249172d68\n",
       "Name: message_id, Length: 12691188, dtype: object"
      ]
     },
     "execution_count": 24,
     "metadata": {},
     "output_type": "execute_result"
    }
   ],
   "source": [
    "apparel_messages['message_id']"
   ]
  },
  {
   "cell_type": "code",
   "execution_count": 25,
   "metadata": {
    "colab": {
     "base_uri": "https://localhost:8080/"
    },
    "id": "JR-yvOpq5tO6",
    "outputId": "3d642275-94f8-4c97-f381-a3d85fc9c328"
   },
   "outputs": [
    {
     "data": {
      "text/plain": [
       "(9061667, 12691188)"
      ]
     },
     "execution_count": 25,
     "metadata": {},
     "output_type": "execute_result"
    }
   ],
   "source": [
    "apparel_messages['message_id'].nunique(), len(apparel_messages)"
   ]
  },
  {
   "cell_type": "markdown",
   "metadata": {
    "id": "iJRZt8Zc55Qu"
   },
   "source": [
    "Данный столбец является идентификатор сообщения. И состоит из 3 частей: id клиента (`client_id`), id рекламной компании (`bulk_campaign_id`) и (как я понимаю) непосредственно id сообщения."
   ]
  },
  {
   "cell_type": "code",
   "execution_count": 26,
   "metadata": {
    "colab": {
     "base_uri": "https://localhost:8080/",
     "height": 458
    },
    "id": "9iUvRKi_551c",
    "outputId": "4dc85fea-9e55-478b-dd27-83f1a296e308"
   },
   "outputs": [
    {
     "data": {
      "text/plain": [
       "0            open\n",
       "1            open\n",
       "2            open\n",
       "3           click\n",
       "4            open\n",
       "            ...  \n",
       "12739793     open\n",
       "12739794     open\n",
       "12739795     open\n",
       "12739796     open\n",
       "12739797     open\n",
       "Name: event, Length: 12691188, dtype: object"
      ]
     },
     "execution_count": 26,
     "metadata": {},
     "output_type": "execute_result"
    }
   ],
   "source": [
    "apparel_messages['event']"
   ]
  },
  {
   "cell_type": "code",
   "execution_count": 27,
   "metadata": {
    "colab": {
     "base_uri": "https://localhost:8080/",
     "height": 272
    },
    "id": "E2sejOOC58w7",
    "outputId": "0528d415-a33d-4efd-dd7f-4e3d4f079fe4"
   },
   "outputs": [
    {
     "data": {
      "text/plain": [
       "message_id\n",
       "1515915625489095763-6251-6311b13a4cf78    1427\n",
       "1515915625490241385-6973-633edf70723d8     438\n",
       "1515915625490540122-6973-633edf707840d     438\n",
       "1515915625629509124-6374-63241bd1541d5     286\n",
       "1515915625488270582-3433-6232d6007e929     249\n",
       "Name: event, dtype: int64"
      ]
     },
     "execution_count": 27,
     "metadata": {},
     "output_type": "execute_result"
    }
   ],
   "source": [
    "apparel_messages.groupby('message_id')['event'].count().sort_values(ascending=False)[:5]"
   ]
  },
  {
   "cell_type": "markdown",
   "metadata": {
    "id": "ooJX4wwK5-hv"
   },
   "source": [
    "Можно заметить, что для одного сообщения указаны все действия, происходящие с ним. Посмотрим подробнее."
   ]
  },
  {
   "cell_type": "code",
   "execution_count": 28,
   "metadata": {
    "colab": {
     "base_uri": "https://localhost:8080/",
     "height": 423
    },
    "id": "yLIKUVDi5_KS",
    "outputId": "cd820500-ae9c-472f-87d8-1637d1bd4632"
   },
   "outputs": [
    {
     "data": {
      "text/html": [
       "<div>\n",
       "<style scoped>\n",
       "    .dataframe tbody tr th:only-of-type {\n",
       "        vertical-align: middle;\n",
       "    }\n",
       "\n",
       "    .dataframe tbody tr th {\n",
       "        vertical-align: top;\n",
       "    }\n",
       "\n",
       "    .dataframe thead th {\n",
       "        text-align: right;\n",
       "    }\n",
       "</style>\n",
       "<table border=\"1\" class=\"dataframe\">\n",
       "  <thead>\n",
       "    <tr style=\"text-align: right;\">\n",
       "      <th></th>\n",
       "      <th>bulk_campaign_id</th>\n",
       "      <th>client_id</th>\n",
       "      <th>message_id</th>\n",
       "      <th>event</th>\n",
       "      <th>channel</th>\n",
       "      <th>date</th>\n",
       "      <th>created_at</th>\n",
       "    </tr>\n",
       "  </thead>\n",
       "  <tbody>\n",
       "    <tr>\n",
       "      <th>1382528</th>\n",
       "      <td>6251</td>\n",
       "      <td>1515915625489095763</td>\n",
       "      <td>1515915625489095763-6251-6311b13a4cf78</td>\n",
       "      <td>send</td>\n",
       "      <td>email</td>\n",
       "      <td>2022-09-02</td>\n",
       "      <td>2022-09-02 07:46:54</td>\n",
       "    </tr>\n",
       "    <tr>\n",
       "      <th>1382934</th>\n",
       "      <td>6251</td>\n",
       "      <td>1515915625489095763</td>\n",
       "      <td>1515915625489095763-6251-6311b13a4cf78</td>\n",
       "      <td>open</td>\n",
       "      <td>email</td>\n",
       "      <td>2022-09-02</td>\n",
       "      <td>2022-09-02 07:47:57</td>\n",
       "    </tr>\n",
       "    <tr>\n",
       "      <th>1402865</th>\n",
       "      <td>6251</td>\n",
       "      <td>1515915625489095763</td>\n",
       "      <td>1515915625489095763-6251-6311b13a4cf78</td>\n",
       "      <td>open</td>\n",
       "      <td>email</td>\n",
       "      <td>2022-09-02</td>\n",
       "      <td>2022-09-02 21:32:47</td>\n",
       "    </tr>\n",
       "    <tr>\n",
       "      <th>1402869</th>\n",
       "      <td>6251</td>\n",
       "      <td>1515915625489095763</td>\n",
       "      <td>1515915625489095763-6251-6311b13a4cf78</td>\n",
       "      <td>click</td>\n",
       "      <td>email</td>\n",
       "      <td>2022-09-02</td>\n",
       "      <td>2022-09-02 21:35:41</td>\n",
       "    </tr>\n",
       "    <tr>\n",
       "      <th>1402872</th>\n",
       "      <td>6251</td>\n",
       "      <td>1515915625489095763</td>\n",
       "      <td>1515915625489095763-6251-6311b13a4cf78</td>\n",
       "      <td>click</td>\n",
       "      <td>email</td>\n",
       "      <td>2022-09-02</td>\n",
       "      <td>2022-09-02 21:38:42</td>\n",
       "    </tr>\n",
       "    <tr>\n",
       "      <th>...</th>\n",
       "      <td>...</td>\n",
       "      <td>...</td>\n",
       "      <td>...</td>\n",
       "      <td>...</td>\n",
       "      <td>...</td>\n",
       "      <td>...</td>\n",
       "      <td>...</td>\n",
       "    </tr>\n",
       "    <tr>\n",
       "      <th>10209829</th>\n",
       "      <td>6251</td>\n",
       "      <td>1515915625489095763</td>\n",
       "      <td>1515915625489095763-6251-6311b13a4cf78</td>\n",
       "      <td>click</td>\n",
       "      <td>email</td>\n",
       "      <td>2023-12-10</td>\n",
       "      <td>2023-12-10 17:09:30</td>\n",
       "    </tr>\n",
       "    <tr>\n",
       "      <th>11491461</th>\n",
       "      <td>6251</td>\n",
       "      <td>1515915625489095763</td>\n",
       "      <td>1515915625489095763-6251-6311b13a4cf78</td>\n",
       "      <td>click</td>\n",
       "      <td>email</td>\n",
       "      <td>2024-01-11</td>\n",
       "      <td>2024-01-11 15:53:46</td>\n",
       "    </tr>\n",
       "    <tr>\n",
       "      <th>11778523</th>\n",
       "      <td>6251</td>\n",
       "      <td>1515915625489095763</td>\n",
       "      <td>1515915625489095763-6251-6311b13a4cf78</td>\n",
       "      <td>click</td>\n",
       "      <td>email</td>\n",
       "      <td>2024-01-20</td>\n",
       "      <td>2024-01-20 15:32:08</td>\n",
       "    </tr>\n",
       "    <tr>\n",
       "      <th>11778530</th>\n",
       "      <td>6251</td>\n",
       "      <td>1515915625489095763</td>\n",
       "      <td>1515915625489095763-6251-6311b13a4cf78</td>\n",
       "      <td>click</td>\n",
       "      <td>email</td>\n",
       "      <td>2024-01-20</td>\n",
       "      <td>2024-01-20 15:34:08</td>\n",
       "    </tr>\n",
       "    <tr>\n",
       "      <th>11931980</th>\n",
       "      <td>6251</td>\n",
       "      <td>1515915625489095763</td>\n",
       "      <td>1515915625489095763-6251-6311b13a4cf78</td>\n",
       "      <td>click</td>\n",
       "      <td>email</td>\n",
       "      <td>2024-01-24</td>\n",
       "      <td>2024-01-24 13:17:58</td>\n",
       "    </tr>\n",
       "  </tbody>\n",
       "</table>\n",
       "<p>1427 rows × 7 columns</p>\n",
       "</div>"
      ],
      "text/plain": [
       "          bulk_campaign_id            client_id  \\\n",
       "1382528               6251  1515915625489095763   \n",
       "1382934               6251  1515915625489095763   \n",
       "1402865               6251  1515915625489095763   \n",
       "1402869               6251  1515915625489095763   \n",
       "1402872               6251  1515915625489095763   \n",
       "...                    ...                  ...   \n",
       "10209829              6251  1515915625489095763   \n",
       "11491461              6251  1515915625489095763   \n",
       "11778523              6251  1515915625489095763   \n",
       "11778530              6251  1515915625489095763   \n",
       "11931980              6251  1515915625489095763   \n",
       "\n",
       "                                      message_id  event channel       date  \\\n",
       "1382528   1515915625489095763-6251-6311b13a4cf78   send   email 2022-09-02   \n",
       "1382934   1515915625489095763-6251-6311b13a4cf78   open   email 2022-09-02   \n",
       "1402865   1515915625489095763-6251-6311b13a4cf78   open   email 2022-09-02   \n",
       "1402869   1515915625489095763-6251-6311b13a4cf78  click   email 2022-09-02   \n",
       "1402872   1515915625489095763-6251-6311b13a4cf78  click   email 2022-09-02   \n",
       "...                                          ...    ...     ...        ...   \n",
       "10209829  1515915625489095763-6251-6311b13a4cf78  click   email 2023-12-10   \n",
       "11491461  1515915625489095763-6251-6311b13a4cf78  click   email 2024-01-11   \n",
       "11778523  1515915625489095763-6251-6311b13a4cf78  click   email 2024-01-20   \n",
       "11778530  1515915625489095763-6251-6311b13a4cf78  click   email 2024-01-20   \n",
       "11931980  1515915625489095763-6251-6311b13a4cf78  click   email 2024-01-24   \n",
       "\n",
       "                  created_at  \n",
       "1382528  2022-09-02 07:46:54  \n",
       "1382934  2022-09-02 07:47:57  \n",
       "1402865  2022-09-02 21:32:47  \n",
       "1402869  2022-09-02 21:35:41  \n",
       "1402872  2022-09-02 21:38:42  \n",
       "...                      ...  \n",
       "10209829 2023-12-10 17:09:30  \n",
       "11491461 2024-01-11 15:53:46  \n",
       "11778523 2024-01-20 15:32:08  \n",
       "11778530 2024-01-20 15:34:08  \n",
       "11931980 2024-01-24 13:17:58  \n",
       "\n",
       "[1427 rows x 7 columns]"
      ]
     },
     "execution_count": 28,
     "metadata": {},
     "output_type": "execute_result"
    }
   ],
   "source": [
    "mask = apparel_messages['message_id'] == '1515915625489095763-6251-6311b13a4cf78'\n",
    "apparel_messages[mask]"
   ]
  },
  {
   "cell_type": "markdown",
   "metadata": {
    "id": "TF4yB_DY6Q7z"
   },
   "source": [
    "Видно, что один клиент открывал одно и тоже письмо и кликал по нему большое количество раз. В будущем сгруппируем эти данные и сгенерируем на основе этого новые признаки."
   ]
  },
  {
   "cell_type": "code",
   "execution_count": 29,
   "metadata": {
    "colab": {
     "base_uri": "https://localhost:8080/"
    },
    "id": "U12EECaz6RcW",
    "outputId": "71e4c6f8-07bf-4d0d-c947-a6e5f121a91b"
   },
   "outputs": [
    {
     "data": {
      "text/plain": [
       "11"
      ]
     },
     "execution_count": 29,
     "metadata": {},
     "output_type": "execute_result"
    }
   ],
   "source": [
    "apparel_messages['event'].nunique()"
   ]
  },
  {
   "cell_type": "code",
   "execution_count": 30,
   "metadata": {
    "colab": {
     "base_uri": "https://localhost:8080/",
     "height": 425
    },
    "id": "mepYiAVh6TyE",
    "outputId": "4c90453d-a11c-4159-f202-de6040f22904"
   },
   "outputs": [
    {
     "data": {
      "text/html": [
       "<div>\n",
       "<style scoped>\n",
       "    .dataframe tbody tr th:only-of-type {\n",
       "        vertical-align: middle;\n",
       "    }\n",
       "\n",
       "    .dataframe tbody tr th {\n",
       "        vertical-align: top;\n",
       "    }\n",
       "\n",
       "    .dataframe thead th {\n",
       "        text-align: right;\n",
       "    }\n",
       "</style>\n",
       "<table border=\"1\" class=\"dataframe\">\n",
       "  <thead>\n",
       "    <tr style=\"text-align: right;\">\n",
       "      <th></th>\n",
       "      <th>count</th>\n",
       "      <th>part</th>\n",
       "    </tr>\n",
       "    <tr>\n",
       "      <th>event</th>\n",
       "      <th></th>\n",
       "      <th></th>\n",
       "    </tr>\n",
       "  </thead>\n",
       "  <tbody>\n",
       "    <tr>\n",
       "      <th>send</th>\n",
       "      <td>9058174</td>\n",
       "      <td>0.71</td>\n",
       "    </tr>\n",
       "    <tr>\n",
       "      <th>open</th>\n",
       "      <td>3052481</td>\n",
       "      <td>0.24</td>\n",
       "    </tr>\n",
       "    <tr>\n",
       "      <th>click</th>\n",
       "      <td>483326</td>\n",
       "      <td>0.04</td>\n",
       "    </tr>\n",
       "    <tr>\n",
       "      <th>purchase</th>\n",
       "      <td>62593</td>\n",
       "      <td>0.00</td>\n",
       "    </tr>\n",
       "    <tr>\n",
       "      <th>hard_bounce</th>\n",
       "      <td>19763</td>\n",
       "      <td>0.00</td>\n",
       "    </tr>\n",
       "    <tr>\n",
       "      <th>soft_bounce</th>\n",
       "      <td>10582</td>\n",
       "      <td>0.00</td>\n",
       "    </tr>\n",
       "    <tr>\n",
       "      <th>unsubscribe</th>\n",
       "      <td>2833</td>\n",
       "      <td>0.00</td>\n",
       "    </tr>\n",
       "    <tr>\n",
       "      <th>hbq_spam</th>\n",
       "      <td>823</td>\n",
       "      <td>0.00</td>\n",
       "    </tr>\n",
       "    <tr>\n",
       "      <th>complain</th>\n",
       "      <td>527</td>\n",
       "      <td>0.00</td>\n",
       "    </tr>\n",
       "    <tr>\n",
       "      <th>subscribe</th>\n",
       "      <td>85</td>\n",
       "      <td>0.00</td>\n",
       "    </tr>\n",
       "    <tr>\n",
       "      <th>close</th>\n",
       "      <td>1</td>\n",
       "      <td>0.00</td>\n",
       "    </tr>\n",
       "  </tbody>\n",
       "</table>\n",
       "</div>"
      ],
      "text/plain": [
       "               count  part\n",
       "event                     \n",
       "send         9058174  0.71\n",
       "open         3052481  0.24\n",
       "click         483326  0.04\n",
       "purchase       62593  0.00\n",
       "hard_bounce    19763  0.00\n",
       "soft_bounce    10582  0.00\n",
       "unsubscribe     2833  0.00\n",
       "hbq_spam         823  0.00\n",
       "complain         527  0.00\n",
       "subscribe         85  0.00\n",
       "close              1  0.00"
      ]
     },
     "metadata": {},
     "output_type": "display_data"
    }
   ],
   "source": [
    "get_value_counts(apparel_messages['event'])"
   ]
  },
  {
   "cell_type": "markdown",
   "metadata": {
    "id": "2LL_7enF6Xjf"
   },
   "source": [
    "Разберемся подробнее со статусами:\n",
    "\n",
    "|     Статус     | Пояснение                            |\n",
    "|:--------------:|--------------------------------------|\n",
    "|   `send`       | Письмо или пуш отправлены            |\n",
    "|   `open`       | Письмо или пуш открыты               |\n",
    "|   `click`      | Совершен клик по ссылке              |\n",
    "|   `purchase`   | Совершена покупка                    |\n",
    "| `hard_bounce`  | Письмо не доставлено (жесткий отказ) |\n",
    "| `soft_bounce`  | Письмо не доставлено (мягкий отказ)  |\n",
    "| `unsubscribe`  | Пользователь отписался               |\n",
    "|  `hbq_spam`    | Письмо помечено как спам             |\n",
    "|   `complain`   | Получена жалоба от пользователя      |\n",
    "|  `subscribe`   | Пользователь подписался              |\n",
    "|    `close`     | Операция завершена (письмо закрыто?) |"
   ]
  },
  {
   "cell_type": "code",
   "execution_count": 31,
   "metadata": {
    "colab": {
     "base_uri": "https://localhost:8080/",
     "height": 458
    },
    "id": "Vm3krmO96Ziz",
    "outputId": "241915e1-8db7-42b0-8ee2-b7586590f6b7"
   },
   "outputs": [
    {
     "data": {
      "text/plain": [
       "0           email\n",
       "1           email\n",
       "2           email\n",
       "3           email\n",
       "4           email\n",
       "            ...  \n",
       "12739793    email\n",
       "12739794    email\n",
       "12739795    email\n",
       "12739796    email\n",
       "12739797    email\n",
       "Name: channel, Length: 12691188, dtype: object"
      ]
     },
     "execution_count": 31,
     "metadata": {},
     "output_type": "execute_result"
    }
   ],
   "source": [
    "apparel_messages['channel']"
   ]
  },
  {
   "cell_type": "code",
   "execution_count": 32,
   "metadata": {
    "colab": {
     "base_uri": "https://localhost:8080/"
    },
    "id": "figy2Bzy6bf0",
    "outputId": "7cfe0084-5b8b-472d-ba2b-4a2b8d7dc716"
   },
   "outputs": [
    {
     "data": {
      "text/plain": [
       "2"
      ]
     },
     "execution_count": 32,
     "metadata": {},
     "output_type": "execute_result"
    }
   ],
   "source": [
    "apparel_messages['channel'].nunique()"
   ]
  },
  {
   "cell_type": "code",
   "execution_count": 33,
   "metadata": {
    "colab": {
     "base_uri": "https://localhost:8080/",
     "height": 143
    },
    "id": "yvHfSyhG6dIP",
    "outputId": "fbfc2c9d-e3ef-4eb4-dac7-486ec17edda6"
   },
   "outputs": [
    {
     "data": {
      "text/html": [
       "<div>\n",
       "<style scoped>\n",
       "    .dataframe tbody tr th:only-of-type {\n",
       "        vertical-align: middle;\n",
       "    }\n",
       "\n",
       "    .dataframe tbody tr th {\n",
       "        vertical-align: top;\n",
       "    }\n",
       "\n",
       "    .dataframe thead th {\n",
       "        text-align: right;\n",
       "    }\n",
       "</style>\n",
       "<table border=\"1\" class=\"dataframe\">\n",
       "  <thead>\n",
       "    <tr style=\"text-align: right;\">\n",
       "      <th></th>\n",
       "      <th>count</th>\n",
       "      <th>part</th>\n",
       "    </tr>\n",
       "    <tr>\n",
       "      <th>channel</th>\n",
       "      <th></th>\n",
       "      <th></th>\n",
       "    </tr>\n",
       "  </thead>\n",
       "  <tbody>\n",
       "    <tr>\n",
       "      <th>mobile_push</th>\n",
       "      <td>7470472</td>\n",
       "      <td>0.59</td>\n",
       "    </tr>\n",
       "    <tr>\n",
       "      <th>email</th>\n",
       "      <td>5220716</td>\n",
       "      <td>0.41</td>\n",
       "    </tr>\n",
       "  </tbody>\n",
       "</table>\n",
       "</div>"
      ],
      "text/plain": [
       "               count  part\n",
       "channel                   \n",
       "mobile_push  7470472  0.59\n",
       "email        5220716  0.41"
      ]
     },
     "metadata": {},
     "output_type": "display_data"
    }
   ],
   "source": [
    "get_value_counts(apparel_messages['channel'])"
   ]
  },
  {
   "cell_type": "code",
   "execution_count": 34,
   "metadata": {
    "colab": {
     "base_uri": "https://localhost:8080/",
     "height": 407
    },
    "id": "xEKA8vWl7S9A",
    "outputId": "21241bf4-6351-4a7b-d45d-cad976b95804"
   },
   "outputs": [
    {
     "data": {
      "image/png": "[encoded data removed]",
      "text/plain": [
       "<Figure size 400x400 with 1 Axes>"
      ]
     },
     "metadata": {},
     "output_type": "display_data"
    }
   ],
   "source": [
    "plot_pie_chart(apparel_messages['channel'])"
   ]
  },
  {
   "cell_type": "code",
   "execution_count": 35,
   "metadata": {
    "colab": {
     "base_uri": "https://localhost:8080/",
     "height": 458
    },
    "id": "otepOj267YZ-",
    "outputId": "86b44c19-f656-4038-badc-a65be8da92fc"
   },
   "outputs": [
    {
     "data": {
      "text/plain": [
       "0          2022-05-19\n",
       "1          2022-05-19\n",
       "2          2022-05-19\n",
       "3          2022-05-19\n",
       "4          2022-05-19\n",
       "              ...    \n",
       "12739793   2024-02-15\n",
       "12739794   2024-02-15\n",
       "12739795   2024-02-15\n",
       "12739796   2024-02-15\n",
       "12739797   2024-02-15\n",
       "Name: date, Length: 12691188, dtype: datetime64[ns]"
      ]
     },
     "execution_count": 35,
     "metadata": {},
     "output_type": "execute_result"
    }
   ],
   "source": [
    "apparel_messages['date']"
   ]
  },
  {
   "cell_type": "code",
   "execution_count": 36,
   "metadata": {
    "colab": {
     "base_uri": "https://localhost:8080/",
     "height": 303
    },
    "id": "5DJH6fOr7cM4",
    "outputId": "ce2c9521-8c39-466a-9ebf-717264c66333"
   },
   "outputs": [
    {
     "data": {
      "text/plain": [
       "count                         12691188\n",
       "mean     2023-06-04 17:27:00.569989632\n",
       "min                2022-05-19 00:00:00\n",
       "25%                2022-12-16 00:00:00\n",
       "50%                2023-07-20 00:00:00\n",
       "75%                2023-11-21 00:00:00\n",
       "max                2024-02-15 00:00:00\n",
       "Name: date, dtype: object"
      ]
     },
     "execution_count": 36,
     "metadata": {},
     "output_type": "execute_result"
    }
   ],
   "source": [
    "apparel_messages['date'].describe()"
   ]
  },
  {
   "cell_type": "markdown",
   "metadata": {
    "id": "ee51Mdmu7i4k"
   },
   "source": [
    "здесь все даты представлены правильно"
   ]
  },
  {
   "cell_type": "code",
   "execution_count": 37,
   "metadata": {
    "colab": {
     "base_uri": "https://localhost:8080/",
     "height": 458
    },
    "id": "bCCLgYYf7hDW",
    "outputId": "7b62f15b-19af-44ec-a343-c220714452fb"
   },
   "outputs": [
    {
     "data": {
      "text/plain": [
       "0          2022-05-19 00:14:20\n",
       "1          2022-05-19 00:39:34\n",
       "2          2022-05-19 00:51:49\n",
       "3          2022-05-19 00:52:20\n",
       "4          2022-05-19 00:56:52\n",
       "                   ...        \n",
       "12739793   2024-02-15 23:51:40\n",
       "12739794   2024-02-15 23:52:20\n",
       "12739795   2024-02-15 23:52:40\n",
       "12739796   2024-02-15 23:58:40\n",
       "12739797   2024-02-15 23:58:40\n",
       "Name: created_at, Length: 12691188, dtype: datetime64[ns]"
      ]
     },
     "execution_count": 37,
     "metadata": {},
     "output_type": "execute_result"
    }
   ],
   "source": [
    "apparel_messages['created_at']"
   ]
  },
  {
   "cell_type": "code",
   "execution_count": 38,
   "metadata": {
    "colab": {
     "base_uri": "https://localhost:8080/",
     "height": 303
    },
    "id": "JrWSFcI07m3v",
    "outputId": "9c5d7744-53b6-4e40-a3fb-12acec81f680"
   },
   "outputs": [
    {
     "data": {
      "text/plain": [
       "count                         12691188\n",
       "mean     2023-06-05 04:38:55.658559232\n",
       "min                2022-05-19 00:14:20\n",
       "25%                2022-12-16 19:15:55\n",
       "50%                2023-07-20 11:09:42\n",
       "75%                2023-11-21 15:58:05\n",
       "max                2024-02-15 23:58:40\n",
       "Name: created_at, dtype: object"
      ]
     },
     "execution_count": 38,
     "metadata": {},
     "output_type": "execute_result"
    }
   ],
   "source": [
    "apparel_messages['created_at'].describe()"
   ]
  },
  {
   "cell_type": "code",
   "execution_count": 39,
   "metadata": {
    "colab": {
     "base_uri": "https://localhost:8080/"
    },
    "id": "on267CaV7qSw",
    "outputId": "8667f4a2-8605-40a0-83c4-400799cfe10f"
   },
   "outputs": [
    {
     "data": {
      "text/plain": [
       "0"
      ]
     },
     "execution_count": 39,
     "metadata": {},
     "output_type": "execute_result"
    }
   ],
   "source": [
    "mask = (apparel_messages['date'].dt.year != apparel_messages['created_at'].dt.year) | \\\n",
    "       (apparel_messages['date'].dt.month != apparel_messages['created_at'].dt.month) | \\\n",
    "       (apparel_messages['date'].dt.day != apparel_messages['created_at'].dt.day)\n",
    "mask.sum()"
   ]
  },
  {
   "cell_type": "markdown",
   "metadata": {
    "id": "xE_Gz_H_7rte"
   },
   "source": [
    "Признак `created_at` содержит более полную информацию о дате рассылки, чем `date`, так содержит те же самые даты, но еще и время. По сути признак `created_at` включает в себя информацию столбца `date`, следовательно последний может быть удален."
   ]
  },
  {
   "cell_type": "code",
   "execution_count": 40,
   "metadata": {
    "id": "tToo2eTd7wQk"
   },
   "outputs": [],
   "source": [
    "shape_before = apparel_messages.shape\n",
    "apparel_messages = apparel_messages.drop(columns='date')\n",
    "\n",
    "assert apparel_messages.shape[0] == shape_before[0], 'Количество строк ДО и ПОСЛЕ удаления не совпадает.'\n",
    "assert 'date' not in apparel_messages.columns, 'Признак не был удален.'\n",
    "assert apparel_messages.shape[1] == shape_before[1] - 1, 'Количество признаков не совпадает с ожидаемым.'"
   ]
  },
  {
   "cell_type": "markdown",
   "metadata": {
    "id": "FX2LfT8U70fp"
   },
   "source": [
    "Датасет содержит данные о рассылках, которые были отправлены клиентам из таблицы покупок. Содержит несколько id (`client_id`, `message_id`), которые будут использованы для объединения с другими таблицами.\n",
    "\n",
    "Пропусков в датасете нет, полные дубликаты были обнаружены (`48610 (0.38%)`) и удалены.\n",
    "\n",
    "Было замечено, что признак `created_at` содержит более полную информацию о дате рассылки, чем `date`, так содержит те же самые даты, но еще время. По сути признак `created_at` включает в себя информацию столбца `date`. Поэтому признак `date` был удален."
   ]
  },
  {
   "cell_type": "markdown",
   "metadata": {
    "id": "_ZHTiZMU71lO"
   },
   "source": [
    "Теперь посмотрим другой датасет - `apparel_purchases`"
   ]
  },
  {
   "cell_type": "code",
   "execution_count": 43,
   "metadata": {
    "id": "Y-hRuFrD77yE"
   },
   "outputs": [],
   "source": [
    "apparel_purchases = pd.read_csv('apparel-purchases.csv', parse_dates=['date'])"
   ]
  },
  {
   "cell_type": "code",
   "execution_count": 44,
   "metadata": {
    "colab": {
     "base_uri": "https://localhost:8080/",
     "height": 206
    },
    "id": "dV4CeZb08Gd7",
    "outputId": "9ebc8d37-b829-44d8-801b-83a8b8005fd9"
   },
   "outputs": [
    {
     "data": {
      "text/html": [
       "<div>\n",
       "<style scoped>\n",
       "    .dataframe tbody tr th:only-of-type {\n",
       "        vertical-align: middle;\n",
       "    }\n",
       "\n",
       "    .dataframe tbody tr th {\n",
       "        vertical-align: top;\n",
       "    }\n",
       "\n",
       "    .dataframe thead th {\n",
       "        text-align: right;\n",
       "    }\n",
       "</style>\n",
       "<table border=\"1\" class=\"dataframe\">\n",
       "  <thead>\n",
       "    <tr style=\"text-align: right;\">\n",
       "      <th></th>\n",
       "      <th>client_id</th>\n",
       "      <th>quantity</th>\n",
       "      <th>price</th>\n",
       "      <th>category_ids</th>\n",
       "      <th>date</th>\n",
       "      <th>message_id</th>\n",
       "    </tr>\n",
       "  </thead>\n",
       "  <tbody>\n",
       "    <tr>\n",
       "      <th>0</th>\n",
       "      <td>1515915625468169594</td>\n",
       "      <td>1</td>\n",
       "      <td>1999.00</td>\n",
       "      <td>['4', '28', '57', '431']</td>\n",
       "      <td>2022-05-16</td>\n",
       "      <td>1515915625468169594-4301-627b661e9736d</td>\n",
       "    </tr>\n",
       "    <tr>\n",
       "      <th>1</th>\n",
       "      <td>1515915625468169594</td>\n",
       "      <td>1</td>\n",
       "      <td>2499.00</td>\n",
       "      <td>['4', '28', '57', '431']</td>\n",
       "      <td>2022-05-16</td>\n",
       "      <td>1515915625468169594-4301-627b661e9736d</td>\n",
       "    </tr>\n",
       "    <tr>\n",
       "      <th>2</th>\n",
       "      <td>1515915625471138230</td>\n",
       "      <td>1</td>\n",
       "      <td>6499.00</td>\n",
       "      <td>['4', '28', '57', '431']</td>\n",
       "      <td>2022-05-16</td>\n",
       "      <td>1515915625471138230-4437-6282242f27843</td>\n",
       "    </tr>\n",
       "    <tr>\n",
       "      <th>3</th>\n",
       "      <td>1515915625471138230</td>\n",
       "      <td>1</td>\n",
       "      <td>4999.00</td>\n",
       "      <td>['4', '28', '244', '432']</td>\n",
       "      <td>2022-05-16</td>\n",
       "      <td>1515915625471138230-4437-6282242f27843</td>\n",
       "    </tr>\n",
       "    <tr>\n",
       "      <th>4</th>\n",
       "      <td>1515915625471138230</td>\n",
       "      <td>1</td>\n",
       "      <td>4999.00</td>\n",
       "      <td>['4', '28', '49', '413']</td>\n",
       "      <td>2022-05-16</td>\n",
       "      <td>1515915625471138230-4437-6282242f27843</td>\n",
       "    </tr>\n",
       "  </tbody>\n",
       "</table>\n",
       "</div>"
      ],
      "text/plain": [
       "             client_id  quantity   price               category_ids  \\\n",
       "0  1515915625468169594         1 1999.00   ['4', '28', '57', '431']   \n",
       "1  1515915625468169594         1 2499.00   ['4', '28', '57', '431']   \n",
       "2  1515915625471138230         1 6499.00   ['4', '28', '57', '431']   \n",
       "3  1515915625471138230         1 4999.00  ['4', '28', '244', '432']   \n",
       "4  1515915625471138230         1 4999.00   ['4', '28', '49', '413']   \n",
       "\n",
       "        date                              message_id  \n",
       "0 2022-05-16  1515915625468169594-4301-627b661e9736d  \n",
       "1 2022-05-16  1515915625468169594-4301-627b661e9736d  \n",
       "2 2022-05-16  1515915625471138230-4437-6282242f27843  \n",
       "3 2022-05-16  1515915625471138230-4437-6282242f27843  \n",
       "4 2022-05-16  1515915625471138230-4437-6282242f27843  "
      ]
     },
     "execution_count": 44,
     "metadata": {},
     "output_type": "execute_result"
    }
   ],
   "source": [
    "apparel_purchases.head()"
   ]
  },
  {
   "cell_type": "code",
   "execution_count": 45,
   "metadata": {
    "colab": {
     "base_uri": "https://localhost:8080/"
    },
    "id": "QUgSOOeO8Irx",
    "outputId": "134dfee8-ea23-447a-c358-92fd24a45fdf"
   },
   "outputs": [
    {
     "name": "stdout",
     "output_type": "stream",
     "text": [
      "<class 'pandas.core.frame.DataFrame'>\n",
      "RangeIndex: 202208 entries, 0 to 202207\n",
      "Data columns (total 6 columns):\n",
      " #   Column        Non-Null Count   Dtype         \n",
      "---  ------        --------------   -----         \n",
      " 0   client_id     202208 non-null  int64         \n",
      " 1   quantity      202208 non-null  int64         \n",
      " 2   price         202208 non-null  float64       \n",
      " 3   category_ids  202208 non-null  object        \n",
      " 4   date          202208 non-null  datetime64[ns]\n",
      " 5   message_id    202208 non-null  object        \n",
      "dtypes: datetime64[ns](1), float64(1), int64(2), object(2)\n",
      "memory usage: 9.3+ MB\n"
     ]
    }
   ],
   "source": [
    "apparel_purchases.info()"
   ]
  },
  {
   "cell_type": "markdown",
   "metadata": {
    "id": "OtrSRpXX8Ki1"
   },
   "source": [
    "с типами данных и отображением проблем нет"
   ]
  },
  {
   "cell_type": "code",
   "execution_count": 46,
   "metadata": {
    "colab": {
     "base_uri": "https://localhost:8080/"
    },
    "id": "Pw4F3uHm8Nbc",
    "outputId": "02789ce9-d4cc-4904-95f3-19e49e8eb213"
   },
   "outputs": [
    {
     "name": "stdout",
     "output_type": "stream",
     "text": [
      "Размер использования памяти: до  9.26 Mb - после  7.14 Mb (22.9%)\n"
     ]
    }
   ],
   "source": [
    "apparel_purchases = optimize_memory_usage(apparel_purchases)"
   ]
  },
  {
   "cell_type": "code",
   "execution_count": 47,
   "metadata": {
    "colab": {
     "base_uri": "https://localhost:8080/"
    },
    "id": "izyiOWRD8RfE",
    "outputId": "5b188a42-02f1-4a25-a198-63fdcb37c6c1"
   },
   "outputs": [
    {
     "name": "stdout",
     "output_type": "stream",
     "text": [
      "\u001b[31mОбнаружено 73020 дубликатов (36.11%)\u001b[0m\n"
     ]
    }
   ],
   "source": [
    "check_duplicates(apparel_purchases)"
   ]
  },
  {
   "cell_type": "markdown",
   "metadata": {
    "id": "nNhbWtJ_8Xfd"
   },
   "source": [
    "Обнаружено довольно большое количество полных дубликатов (больше `36%`). Это выглядит довольно странно.\n",
    "\n",
    "Что значит, что строки полные дубликаты между собой? Что пользователь купил в один день один по одной рассылке товары с одной ценой из одной категории. Скорее всего это значит, что пользователь купил разные вкусы или оформил один и тот же товар разными заказами. Например, купил товар, подумал, что надо бы еще купить сразу прозапас. И вновь купил этот же товар.\n",
    "\n",
    "Поэтому самым логичным решением кажется сгруппировать эти строки, просуммировав признак `quantity`."
   ]
  },
  {
   "cell_type": "code",
   "execution_count": 48,
   "metadata": {
    "id": "gqhBnHsw8XOi"
   },
   "outputs": [],
   "source": [
    "other_columns = apparel_purchases.columns.difference(['quantity']).tolist()\n",
    "apparel_purchases = apparel_purchases.groupby(other_columns, as_index=False).agg({'quantity': 'sum'})"
   ]
  },
  {
   "cell_type": "code",
   "execution_count": 49,
   "metadata": {
    "colab": {
     "base_uri": "https://localhost:8080/"
    },
    "id": "XrrWo-lO8bxo",
    "outputId": "6ffc7f46-8628-4725-9b86-531cea954f21"
   },
   "outputs": [
    {
     "name": "stdout",
     "output_type": "stream",
     "text": [
      "\u001b[32mПолных дубликатов не обнаружено.\u001b[0m\n"
     ]
    }
   ],
   "source": [
    "check_duplicates(apparel_purchases)"
   ]
  },
  {
   "cell_type": "code",
   "execution_count": 50,
   "metadata": {
    "colab": {
     "base_uri": "https://localhost:8080/"
    },
    "id": "6fxuWVOA8jM_",
    "outputId": "5615848a-4580-4964-80f3-fb47184614b1"
   },
   "outputs": [
    {
     "name": "stdout",
     "output_type": "stream",
     "text": [
      "+--------------+----------------------+\n",
      "|   Feature    | Missing values count |\n",
      "+--------------+----------------------+\n",
      "| category_ids |      \u001b[32m0 (0.00%)\u001b[0m       |\n",
      "|  client_id   |      \u001b[32m0 (0.00%)\u001b[0m       |\n",
      "|     date     |      \u001b[32m0 (0.00%)\u001b[0m       |\n",
      "|  message_id  |      \u001b[32m0 (0.00%)\u001b[0m       |\n",
      "|    price     |      \u001b[32m0 (0.00%)\u001b[0m       |\n",
      "|   quantity   |      \u001b[32m0 (0.00%)\u001b[0m       |\n",
      "+--------------+----------------------+\n"
     ]
    }
   ],
   "source": [
    "check_nans(apparel_purchases)"
   ]
  },
  {
   "cell_type": "markdown",
   "metadata": {
    "id": "KmulIUYV8mDy"
   },
   "source": [
    "далее изучим признаки"
   ]
  },
  {
   "cell_type": "markdown",
   "metadata": {
    "id": "2aGz_ssc8oZc"
   },
   "source": [
    "Данные о покупках клиентов по дням и по товарам. В каждой записи покупка определенного товара, его цена, количество штук.\n",
    "\n",
    "В таблице есть списки идентификаторов, к каким категориям относится товар. Часто это вложенные категории (например, автотовары-аксессуары-освежители), но также может включать в начале списка маркер распродажи или маркер женщинам/мужчинам.\n",
    "\n",
    "Нумерация категорий сквозная для всех уровней, то есть 44 на второй позиции списка или на третьей – это одна и та же категория. Иногда дерево категорий обновляется, поэтому могут меняться вложенности, например ['4', '28', '44', '1594'] или ['4', '44', '1594'].\n",
    "\n",
    "**Признаки:**\n",
    "|     Признак    | Описание                            |\n",
    "|:--------------:|-------------------------------------|\n",
    "|   `client_id`  | идентификатор клиента               |\n",
    "|   `quantity`   | количество единиц товара            |\n",
    "|     `price`    | цена товара                         |\n",
    "| `category_ids` | идентификаторы категорий            |\n",
    "|     `date`     | дата покупки                        |\n",
    "|  `message_id`  | идентификатор сообщения из рассылки |"
   ]
  },
  {
   "cell_type": "code",
   "execution_count": 51,
   "metadata": {
    "colab": {
     "base_uri": "https://localhost:8080/",
     "height": 458
    },
    "id": "Xj1eSjuL8npA",
    "outputId": "75a9b86e-b0eb-44fb-d02a-1f1b157ef24c"
   },
   "outputs": [
    {
     "data": {
      "text/plain": [
       "0         1515915625489044168\n",
       "1         1515915625789566616\n",
       "2         1515915625666901395\n",
       "3         1515915625468069875\n",
       "4         1515915625468124765\n",
       "                 ...         \n",
       "129013    1515915626009515678\n",
       "129014    1515915626009608336\n",
       "129015    1515915626009661190\n",
       "129016    1515915626009681249\n",
       "129017    1515915626010183608\n",
       "Name: client_id, Length: 129018, dtype: int64"
      ]
     },
     "execution_count": 51,
     "metadata": {},
     "output_type": "execute_result"
    }
   ],
   "source": [
    "apparel_purchases['client_id']"
   ]
  },
  {
   "cell_type": "code",
   "execution_count": 52,
   "metadata": {
    "colab": {
     "base_uri": "https://localhost:8080/"
    },
    "id": "EAYEyhl-8sSY",
    "outputId": "539ce025-c3e1-4baa-cc0e-8f7562821413"
   },
   "outputs": [
    {
     "data": {
      "text/plain": [
       "49849"
      ]
     },
     "execution_count": 52,
     "metadata": {},
     "output_type": "execute_result"
    }
   ],
   "source": [
    "apparel_purchases['client_id'].nunique()"
   ]
  },
  {
   "cell_type": "markdown",
   "metadata": {
    "id": "7Hxfnpra8tvZ"
   },
   "source": [
    "Данный столбец содержит идентификаторы клиентов и может быть использован при объединении таблиц."
   ]
  },
  {
   "cell_type": "code",
   "execution_count": 53,
   "metadata": {
    "colab": {
     "base_uri": "https://localhost:8080/",
     "height": 458
    },
    "id": "VxOEVOuy8uGC",
    "outputId": "b3e22361-8e0b-456c-e7cc-250429a9a751"
   },
   "outputs": [
    {
     "data": {
      "text/plain": [
       "0         1\n",
       "1         1\n",
       "2         1\n",
       "3         1\n",
       "4         1\n",
       "         ..\n",
       "129013    2\n",
       "129014    2\n",
       "129015    2\n",
       "129016    2\n",
       "129017    2\n",
       "Name: quantity, Length: 129018, dtype: int8"
      ]
     },
     "execution_count": 53,
     "metadata": {},
     "output_type": "execute_result"
    }
   ],
   "source": [
    "apparel_purchases['quantity']"
   ]
  },
  {
   "cell_type": "code",
   "execution_count": 54,
   "metadata": {
    "colab": {
     "base_uri": "https://localhost:8080/"
    },
    "id": "ZGHFMAoH8wlI",
    "outputId": "1a56ba4d-37b3-47d4-c370-f4bc3ffe55a3"
   },
   "outputs": [
    {
     "data": {
      "text/plain": [
       "35"
      ]
     },
     "execution_count": 54,
     "metadata": {},
     "output_type": "execute_result"
    }
   ],
   "source": [
    "apparel_purchases['quantity'].nunique()"
   ]
  },
  {
   "cell_type": "code",
   "execution_count": 55,
   "metadata": {
    "colab": {
     "base_uri": "https://localhost:8080/",
     "height": 335
    },
    "id": "GyQd0jf08x0k",
    "outputId": "b289361d-adff-428a-beeb-2d7ad120cc01"
   },
   "outputs": [
    {
     "data": {
      "text/plain": [
       "count   129018.00\n",
       "mean         1.58\n",
       "std          0.99\n",
       "min          1.00\n",
       "25%          1.00\n",
       "50%          1.00\n",
       "75%          2.00\n",
       "max         96.00\n",
       "Name: quantity, dtype: float64"
      ]
     },
     "execution_count": 55,
     "metadata": {},
     "output_type": "execute_result"
    }
   ],
   "source": [
    "apparel_purchases['quantity'].describe()"
   ]
  },
  {
   "cell_type": "code",
   "execution_count": 56,
   "metadata": {
    "colab": {
     "base_uri": "https://localhost:8080/",
     "height": 1000
    },
    "id": "0D2cyLW-8zg9",
    "outputId": "ef2b222c-d593-43c8-c681-e5891a5cc73d"
   },
   "outputs": [
    {
     "data": {
      "text/html": [
       "<div>\n",
       "<style scoped>\n",
       "    .dataframe tbody tr th:only-of-type {\n",
       "        vertical-align: middle;\n",
       "    }\n",
       "\n",
       "    .dataframe tbody tr th {\n",
       "        vertical-align: top;\n",
       "    }\n",
       "\n",
       "    .dataframe thead th {\n",
       "        text-align: right;\n",
       "    }\n",
       "</style>\n",
       "<table border=\"1\" class=\"dataframe\">\n",
       "  <thead>\n",
       "    <tr style=\"text-align: right;\">\n",
       "      <th></th>\n",
       "      <th>count</th>\n",
       "      <th>part</th>\n",
       "    </tr>\n",
       "    <tr>\n",
       "      <th>quantity</th>\n",
       "      <th></th>\n",
       "      <th></th>\n",
       "    </tr>\n",
       "  </thead>\n",
       "  <tbody>\n",
       "    <tr>\n",
       "      <th>1</th>\n",
       "      <td>69620</td>\n",
       "      <td>0.54</td>\n",
       "    </tr>\n",
       "    <tr>\n",
       "      <th>2</th>\n",
       "      <td>52277</td>\n",
       "      <td>0.41</td>\n",
       "    </tr>\n",
       "    <tr>\n",
       "      <th>4</th>\n",
       "      <td>3038</td>\n",
       "      <td>0.02</td>\n",
       "    </tr>\n",
       "    <tr>\n",
       "      <th>3</th>\n",
       "      <td>2930</td>\n",
       "      <td>0.02</td>\n",
       "    </tr>\n",
       "    <tr>\n",
       "      <th>6</th>\n",
       "      <td>508</td>\n",
       "      <td>0.00</td>\n",
       "    </tr>\n",
       "    <tr>\n",
       "      <th>5</th>\n",
       "      <td>312</td>\n",
       "      <td>0.00</td>\n",
       "    </tr>\n",
       "    <tr>\n",
       "      <th>8</th>\n",
       "      <td>87</td>\n",
       "      <td>0.00</td>\n",
       "    </tr>\n",
       "    <tr>\n",
       "      <th>7</th>\n",
       "      <td>69</td>\n",
       "      <td>0.00</td>\n",
       "    </tr>\n",
       "    <tr>\n",
       "      <th>10</th>\n",
       "      <td>44</td>\n",
       "      <td>0.00</td>\n",
       "    </tr>\n",
       "    <tr>\n",
       "      <th>12</th>\n",
       "      <td>39</td>\n",
       "      <td>0.00</td>\n",
       "    </tr>\n",
       "    <tr>\n",
       "      <th>9</th>\n",
       "      <td>31</td>\n",
       "      <td>0.00</td>\n",
       "    </tr>\n",
       "    <tr>\n",
       "      <th>11</th>\n",
       "      <td>12</td>\n",
       "      <td>0.00</td>\n",
       "    </tr>\n",
       "    <tr>\n",
       "      <th>15</th>\n",
       "      <td>6</td>\n",
       "      <td>0.00</td>\n",
       "    </tr>\n",
       "    <tr>\n",
       "      <th>20</th>\n",
       "      <td>6</td>\n",
       "      <td>0.00</td>\n",
       "    </tr>\n",
       "    <tr>\n",
       "      <th>14</th>\n",
       "      <td>5</td>\n",
       "      <td>0.00</td>\n",
       "    </tr>\n",
       "    <tr>\n",
       "      <th>18</th>\n",
       "      <td>4</td>\n",
       "      <td>0.00</td>\n",
       "    </tr>\n",
       "    <tr>\n",
       "      <th>16</th>\n",
       "      <td>4</td>\n",
       "      <td>0.00</td>\n",
       "    </tr>\n",
       "    <tr>\n",
       "      <th>30</th>\n",
       "      <td>3</td>\n",
       "      <td>0.00</td>\n",
       "    </tr>\n",
       "    <tr>\n",
       "      <th>21</th>\n",
       "      <td>2</td>\n",
       "      <td>0.00</td>\n",
       "    </tr>\n",
       "    <tr>\n",
       "      <th>17</th>\n",
       "      <td>2</td>\n",
       "      <td>0.00</td>\n",
       "    </tr>\n",
       "    <tr>\n",
       "      <th>13</th>\n",
       "      <td>2</td>\n",
       "      <td>0.00</td>\n",
       "    </tr>\n",
       "    <tr>\n",
       "      <th>40</th>\n",
       "      <td>2</td>\n",
       "      <td>0.00</td>\n",
       "    </tr>\n",
       "    <tr>\n",
       "      <th>31</th>\n",
       "      <td>2</td>\n",
       "      <td>0.00</td>\n",
       "    </tr>\n",
       "    <tr>\n",
       "      <th>24</th>\n",
       "      <td>2</td>\n",
       "      <td>0.00</td>\n",
       "    </tr>\n",
       "    <tr>\n",
       "      <th>22</th>\n",
       "      <td>1</td>\n",
       "      <td>0.00</td>\n",
       "    </tr>\n",
       "    <tr>\n",
       "      <th>28</th>\n",
       "      <td>1</td>\n",
       "      <td>0.00</td>\n",
       "    </tr>\n",
       "    <tr>\n",
       "      <th>96</th>\n",
       "      <td>1</td>\n",
       "      <td>0.00</td>\n",
       "    </tr>\n",
       "    <tr>\n",
       "      <th>19</th>\n",
       "      <td>1</td>\n",
       "      <td>0.00</td>\n",
       "    </tr>\n",
       "    <tr>\n",
       "      <th>38</th>\n",
       "      <td>1</td>\n",
       "      <td>0.00</td>\n",
       "    </tr>\n",
       "    <tr>\n",
       "      <th>25</th>\n",
       "      <td>1</td>\n",
       "      <td>0.00</td>\n",
       "    </tr>\n",
       "    <tr>\n",
       "      <th>41</th>\n",
       "      <td>1</td>\n",
       "      <td>0.00</td>\n",
       "    </tr>\n",
       "    <tr>\n",
       "      <th>50</th>\n",
       "      <td>1</td>\n",
       "      <td>0.00</td>\n",
       "    </tr>\n",
       "    <tr>\n",
       "      <th>71</th>\n",
       "      <td>1</td>\n",
       "      <td>0.00</td>\n",
       "    </tr>\n",
       "    <tr>\n",
       "      <th>46</th>\n",
       "      <td>1</td>\n",
       "      <td>0.00</td>\n",
       "    </tr>\n",
       "    <tr>\n",
       "      <th>63</th>\n",
       "      <td>1</td>\n",
       "      <td>0.00</td>\n",
       "    </tr>\n",
       "  </tbody>\n",
       "</table>\n",
       "</div>"
      ],
      "text/plain": [
       "          count  part\n",
       "quantity             \n",
       "1         69620  0.54\n",
       "2         52277  0.41\n",
       "4          3038  0.02\n",
       "3          2930  0.02\n",
       "6           508  0.00\n",
       "5           312  0.00\n",
       "8            87  0.00\n",
       "7            69  0.00\n",
       "10           44  0.00\n",
       "12           39  0.00\n",
       "9            31  0.00\n",
       "11           12  0.00\n",
       "15            6  0.00\n",
       "20            6  0.00\n",
       "14            5  0.00\n",
       "18            4  0.00\n",
       "16            4  0.00\n",
       "30            3  0.00\n",
       "21            2  0.00\n",
       "17            2  0.00\n",
       "13            2  0.00\n",
       "40            2  0.00\n",
       "31            2  0.00\n",
       "24            2  0.00\n",
       "22            1  0.00\n",
       "28            1  0.00\n",
       "96            1  0.00\n",
       "19            1  0.00\n",
       "38            1  0.00\n",
       "25            1  0.00\n",
       "41            1  0.00\n",
       "50            1  0.00\n",
       "71            1  0.00\n",
       "46            1  0.00\n",
       "63            1  0.00"
      ]
     },
     "metadata": {},
     "output_type": "display_data"
    }
   ],
   "source": [
    "get_value_counts(apparel_purchases['quantity'])"
   ]
  },
  {
   "cell_type": "code",
   "execution_count": 57,
   "metadata": {
    "colab": {
     "base_uri": "https://localhost:8080/",
     "height": 1000
    },
    "id": "aNaTNGHH83n8",
    "outputId": "b1a72359-a5dd-43ab-97db-cb090cf9d288"
   },
   "outputs": [
    {
     "data": {
      "text/plain": [
       "<Figure size 640x480 with 0 Axes>"
      ]
     },
     "metadata": {},
     "output_type": "display_data"
    },
    {
     "data": {
      "image/png": "[encoded data removed]",
      "text/plain": [
       "<Figure size 1200x1000 with 4 Axes>"
      ]
     },
     "metadata": {},
     "output_type": "display_data"
    }
   ],
   "source": [
    "draw_plots_about_column(apparel_purchases, 'quantity', bins=10)"
   ]
  },
  {
   "cell_type": "code",
   "execution_count": 58,
   "metadata": {
    "colab": {
     "base_uri": "https://localhost:8080/",
     "height": 458
    },
    "id": "DN9S8jwu9gE7",
    "outputId": "720046a6-7ae0-402b-c484-316822db7669"
   },
   "outputs": [
    {
     "data": {
      "text/plain": [
       "0        1799.00\n",
       "1        1799.00\n",
       "2         199.00\n",
       "3         999.00\n",
       "4         999.00\n",
       "           ...  \n",
       "129013      7.00\n",
       "129014      7.00\n",
       "129015      5.00\n",
       "129016      7.00\n",
       "129017      5.00\n",
       "Name: price, Length: 129018, dtype: float32"
      ]
     },
     "execution_count": 58,
     "metadata": {},
     "output_type": "execute_result"
    }
   ],
   "source": [
    "apparel_purchases['price']"
   ]
  },
  {
   "cell_type": "code",
   "execution_count": 59,
   "metadata": {
    "colab": {
     "base_uri": "https://localhost:8080/",
     "height": 335
    },
    "id": "sFiNSSoH9iWB",
    "outputId": "19f8c5ed-3f32-4d9a-ae12-6c2519dae1d4"
   },
   "outputs": [
    {
     "data": {
      "text/plain": [
       "count   129018.00\n",
       "mean      1264.69\n",
       "std       1375.35\n",
       "min          1.00\n",
       "25%        399.00\n",
       "50%        999.00\n",
       "75%       1750.00\n",
       "max      85499.00\n",
       "Name: price, dtype: float64"
      ]
     },
     "execution_count": 59,
     "metadata": {},
     "output_type": "execute_result"
    }
   ],
   "source": [
    "apparel_purchases['price'].describe()"
   ]
  },
  {
   "cell_type": "code",
   "execution_count": 60,
   "metadata": {
    "colab": {
     "base_uri": "https://localhost:8080/",
     "height": 1000
    },
    "id": "4Xp9ALYE9mTp",
    "outputId": "5dc6f4d8-b9a3-4b5d-9654-23b439a9aa96"
   },
   "outputs": [
    {
     "data": {
      "text/plain": [
       "<Figure size 640x480 with 0 Axes>"
      ]
     },
     "metadata": {},
     "output_type": "display_data"
    },
    {
     "data": {
      "image/png": "[encoded data removed]",
      "text/plain": [
       "<Figure size 1200x1000 with 4 Axes>"
      ]
     },
     "metadata": {},
     "output_type": "display_data"
    }
   ],
   "source": [
    "draw_plots_about_column(apparel_purchases, 'price')"
   ]
  },
  {
   "cell_type": "code",
   "execution_count": 61,
   "metadata": {
    "colab": {
     "base_uri": "https://localhost:8080/",
     "height": 458
    },
    "id": "ugEtxxfUC_ga",
    "outputId": "355d0793-9bff-4265-b552-df14fee30ace"
   },
   "outputs": [
    {
     "data": {
      "text/plain": [
       "0          ['1', '22', '50', '685']\n",
       "1          ['1', '22', '50', '685']\n",
       "2          ['1', '8', '280', '710']\n",
       "3         ['2', '17', '107', '453']\n",
       "4         ['2', '17', '107', '453']\n",
       "                    ...            \n",
       "129013                           []\n",
       "129014                           []\n",
       "129015                           []\n",
       "129016                           []\n",
       "129017                           []\n",
       "Name: category_ids, Length: 129018, dtype: object"
      ]
     },
     "execution_count": 61,
     "metadata": {},
     "output_type": "execute_result"
    }
   ],
   "source": [
    "apparel_purchases['category_ids']"
   ]
  },
  {
   "cell_type": "code",
   "execution_count": 62,
   "metadata": {
    "colab": {
     "base_uri": "https://localhost:8080/"
    },
    "id": "lqK32IIODVN7",
    "outputId": "6566d386-6918-4755-fbfa-74755e8adfa9"
   },
   "outputs": [
    {
     "data": {
      "text/plain": [
       "array([\"['1', '22', '50', '685']\", \"['1', '8', '280', '710']\",\n",
       "       \"['2', '17', '107', '453']\", \"['2', '17', '137', '469']\",\n",
       "       \"['2', '17', '171', '475']\", \"['2', '17', '173', '1598']\",\n",
       "       \"['2', '17', '173', '1845']\", \"['2', '17', '173', '459']\",\n",
       "       \"['2', '17', '180', '465']\", \"['2', '17', '1826', '1818']\",\n",
       "       \"['2', '17', '188', '525']\", \"['2', '17', '198', '497']\",\n",
       "       \"['2', '17', '232', '463']\", \"['2', '17', '279', '5807']\",\n",
       "       \"['2', '17', '286', '455']\", \"['2', '17', '293', '5819']\",\n",
       "       \"['2', '17', '330', '387', '467']\", \"['2', '17', '83', '519']\",\n",
       "       \"['2', '17', '83', '5810']\", \"['2', '18', '123', '451']\",\n",
       "       \"['2', '18', '155', '1325']\", \"['2', '18', '155', '439']\",\n",
       "       \"['2', '18', '212', '658']\", \"['2', '18', '212', '659']\",\n",
       "       \"['2', '18', '212', '726']\", \"['2', '18', '217', '662']\",\n",
       "       \"['2', '18', '217', '663']\", \"['2', '18', '243', '440']\",\n",
       "       \"['2', '18', '248', '449']\", \"['2', '18', '248', '677']\",\n",
       "       \"['2', '18', '258', '1195']\", \"['2', '18', '258', '1561']\",\n",
       "       \"['2', '18', '258', '1562']\", \"['2', '18', '258', '1569']\",\n",
       "       \"['2', '18', '258', '1590']\", \"['2', '18', '258', '441']\",\n",
       "       \"['2', '18', '267', '1330']\", \"['2', '18', '267', '1592']\",\n",
       "       \"['2', '18', '267', '1597']\", \"['2', '18', '267', '442']\",\n",
       "       \"['2', '18', '267', '443']\", \"['2', '18', '267', '6201']\",\n",
       "       \"['2', '18', '274', '446']\", \"['2', '18', '274', '450']\",\n",
       "       \"['2', '18', '341', '1311']\", \"['2', '18', '344', '445']\",\n",
       "       \"['2', '18', '61', '660']\", \"['2', '18', '61', '661']\",\n",
       "       \"['3', '12', '219', '1083']\", \"['3', '14', '79', '1169']\",\n",
       "       \"['4', '1822', '1821', '1613']\", \"['4', '1822', '1821', '1814']\",\n",
       "       \"['4', '1822', '1821', '1815']\", \"['4', '1822', '1821', '1816']\",\n",
       "       \"['4', '1822', '1821', '5511']\", \"['4', '1822', '1821', '5822']\",\n",
       "       \"['4', '1822', '1821', '5988']\", \"['4', '1822', '1821', '6036']\",\n",
       "       \"['4', '1822', '1821', '6037']\", \"['4', '1822', '1821', '6038']\",\n",
       "       \"['4', '1822', '1821', '6039']\", \"['4', '1822', '1821', '6050']\",\n",
       "       \"['4', '1822', '1823', '1819']\", \"['4', '1822', '1823', '1820']\",\n",
       "       \"['4', '1822', '1823', '6234']\", \"['4', '1822', '1824', '1615']\",\n",
       "       \"['4', '1822', '1824', '1616']\", \"['4', '1822', '1824', '1618']\",\n",
       "       \"['4', '1822', '1824', '1619']\", \"['4', '1822', '1824', '1620']\",\n",
       "       \"['4', '1822', '1824', '1621']\", \"['4', '1822', '1824', '1623']\",\n",
       "       \"['4', '1822', '1824', '1624']\", \"['4', '1822', '1824', '1625']\",\n",
       "       \"['4', '1822', '1824', '1626']\", \"['4', '1822', '1824', '1813']\",\n",
       "       \"['4', '1822', '1824', '1847']\", \"['4', '1822', '1827', '1817']\",\n",
       "       \"['4', '1822', '38', '478']\", \"['4', '1822', '38', '479']\",\n",
       "       \"['4', '1822', '38', '480']\", \"['4', '1822', '38', '481']\",\n",
       "       \"['4', '1822', '38', '482']\", \"['4', '1822', '38', '597']\",\n",
       "       \"['4', '1822', '499']\", \"['4', '1822', '5984', '5480']\",\n",
       "       \"['4', '1822', '5984', '5481']\", \"['4', '1822', '5984', '5532']\",\n",
       "       \"['4', '1822', '5984', '5816']\", \"['4', '1822', '5984', '5936']\",\n",
       "       \"['4', '1822', '5984', '5937']\", \"['4', '1822', '5984', '6018']\",\n",
       "       \"['4', '1822', '5984', '6019']\", \"['4', '1822', '5985', '1847']\",\n",
       "       \"['4', '1822', '5985', '471']\", \"['4', '1822', '5985', '476']\",\n",
       "       \"['4', '1822', '5985', '644']\", \"['4', '1822', '5985', '645']\",\n",
       "       \"['4', '1822', '6265', '6045']\", \"['4', '1822', '6265', '6109']\",\n",
       "       \"['4', '1822', '6309', '6036']\", \"['4', '1822', '6309', '6038']\",\n",
       "       \"['4', '1822', '6309', '6039']\", \"['4', '27', '108', '452']\",\n",
       "       \"['4', '27', '138', '1355']\", \"['4', '27', '138', '468']\",\n",
       "       \"['4', '27', '138', '720']\", \"['4', '27', '142', '496']\",\n",
       "       \"['4', '27', '172', '474']\", \"['4', '27', '176', '1313']\",\n",
       "       \"['4', '27', '176', '1844']\", \"['4', '27', '176', '458']\",\n",
       "       \"['4', '27', '176', '460']\", \"['4', '27', '176', '520']\",\n",
       "       \"['4', '27', '176', '522']\", \"['4', '27', '176', '523']\",\n",
       "       \"['4', '27', '176', '524']\", \"['4', '27', '181', '464']\",\n",
       "       \"['4', '27', '181', '722']\", \"['4', '27', '181', '723']\",\n",
       "       \"['4', '27', '1828', '1572']\", \"['4', '27', '1828', '1599']\",\n",
       "       \"['4', '27', '1828', '1603']\", \"['4', '27', '1828', '1604']\",\n",
       "       \"['4', '27', '1828', '1605']\", \"['4', '27', '1828', '1606']\",\n",
       "       \"['4', '27', '1828', '1612']\", \"['4', '27', '1828', '5717']\",\n",
       "       \"['4', '27', '1828', '5803']\", \"['4', '27', '1828', '5804']\",\n",
       "       \"['4', '27', '186', '526']\", \"['4', '27', '186', '527']\",\n",
       "       \"['4', '27', '202', '701']\", \"['4', '27', '205', '1081']\",\n",
       "       \"['4', '27', '205', '650']\", \"['4', '27', '205', '868']\",\n",
       "       \"['4', '27', '233', '462']\", \"['4', '27', '278', '1556']\",\n",
       "       \"['4', '27', '278', '1613']\", \"['4', '27', '278', '470']\",\n",
       "       \"['4', '27', '278', '471']\", \"['4', '27', '278', '472']\",\n",
       "       \"['4', '27', '278', '473']\", \"['4', '27', '278', '476']\",\n",
       "       \"['4', '27', '278', '477']\", \"['4', '27', '278', '586']\",\n",
       "       \"['4', '27', '278', '644']\", \"['4', '27', '278', '864']\",\n",
       "       \"['4', '27', '282', '596']\", \"['4', '27', '287', '509']\",\n",
       "       \"['4', '27', '287', '510']\", \"['4', '27', '287', '513']\",\n",
       "       \"['4', '27', '287', '544']\", \"['4', '27', '287', '546']\",\n",
       "       \"['4', '27', '336', '1854']\", \"['4', '27', '350', '1392']\",\n",
       "       \"['4', '27', '350', '1589']\", \"['4', '27', '353', '1610']\",\n",
       "       \"['4', '27', '353', '1798']\", \"['4', '27', '353', '1799']\",\n",
       "       \"['4', '27', '353', '1800']\", \"['4', '27', '353', '840']\",\n",
       "       \"['4', '27', '38', '478']\", \"['4', '27', '38', '479']\",\n",
       "       \"['4', '27', '38', '480']\", \"['4', '27', '38', '481']\",\n",
       "       \"['4', '27', '38', '482']\", \"['4', '27', '84', '1382']\",\n",
       "       \"['4', '27', '84', '1595']\", \"['4', '27', '84', '456']\",\n",
       "       \"['4', '27', '84', '515']\", \"['4', '27', '84', '568']\",\n",
       "       \"['4', '28', '104', '429']\", \"['4', '28', '124', '1602']\",\n",
       "       \"['4', '28', '124', '415']\", \"['4', '28', '146', '1587']\",\n",
       "       \"['4', '28', '146', '548']\", \"['4', '28', '156', '1586']\",\n",
       "       \"['4', '28', '156', '416']\", \"['4', '28', '213', '417']\",\n",
       "       \"['4', '28', '213', '436']\", \"['4', '28', '218', '652']\",\n",
       "       \"['4', '28', '218', '653']\", \"['4', '28', '228', '1596']\",\n",
       "       \"['4', '28', '228', '435']\", \"['4', '28', '239', '1622']\",\n",
       "       \"['4', '28', '239', '1844']\", \"['4', '28', '239', '418']\",\n",
       "       \"['4', '28', '239', '6202']\", \"['4', '28', '244', '432']\",\n",
       "       \"['4', '28', '249', '615']\", \"['4', '28', '249', '616']\",\n",
       "       \"['4', '28', '254', '680']\", \"['4', '28', '260', '1194']\",\n",
       "       \"['4', '28', '260', '1568']\", \"['4', '28', '260', '1570']\",\n",
       "       \"['4', '28', '260', '420']\", \"['4', '28', '275', '1305']\",\n",
       "       \"['4', '28', '275', '421']\", \"['4', '28', '275', '673']\",\n",
       "       \"['4', '28', '290', '1329']\", \"['4', '28', '290', '422']\",\n",
       "       \"['4', '28', '290', '424']\", \"['4', '28', '290', '547']\",\n",
       "       \"['4', '28', '304', '423']\", \"['4', '28', '340', '1312']\",\n",
       "       \"['4', '28', '343', '1602']\", \"['4', '28', '343', '425']\",\n",
       "       \"['4', '28', '44', '1097']\", \"['4', '28', '44', '1564']\",\n",
       "       \"['4', '28', '44', '1571']\", \"['4', '28', '44', '1593']\",\n",
       "       \"['4', '28', '44', '1594']\", \"['4', '28', '44', '428']\",\n",
       "       \"['4', '28', '44', '430']\", \"['4', '28', '44', '489']\",\n",
       "       \"['4', '28', '44', '490']\", \"['4', '28', '44', '491']\",\n",
       "       \"['4', '28', '44', '492']\", \"['4', '28', '44', '493']\",\n",
       "       \"['4', '28', '44', '494']\", \"['4', '28', '44', '499']\",\n",
       "       \"['4', '28', '44', '501']\", \"['4', '28', '44', '528']\",\n",
       "       \"['4', '28', '44', '549']\", \"['4', '28', '44', '989']\",\n",
       "       \"['4', '28', '49', '413']\", \"['4', '28', '49', '684']\",\n",
       "       \"['4', '28', '57', '431']\", \"['4', '28', '58', '1560']\",\n",
       "       \"['4', '28', '58', '434']\", \"['4', '28', '62', '656']\",\n",
       "       \"['4', '28', '62', '657']\", \"['4', '28', '63', '654']\",\n",
       "       \"['4', '28', '63', '655']\", \"['4', '29', '309', '1578']\",\n",
       "       \"['4', '29', '309', '1835']\", \"['4', '29', '309', '5796']\",\n",
       "       \"['4', '29', '309', '939']\", \"['4', '29', '310', '1577']\",\n",
       "       \"['4', '29', '310', '1833']\", \"['4', '29', '310', '1834']\",\n",
       "       \"['4', '29', '310', '500']\", \"['4', '29', '311', '1575']\",\n",
       "       \"['4', '29', '311', '1836']\", \"['4', '29', '311', '5797']\",\n",
       "       \"['4', '29', '311', '928']\", \"['4', '29', '312', '1576']\",\n",
       "       \"['4', '29', '312', '1581']\", \"['4', '29', '312', '1837']\",\n",
       "       \"['4', '29', '312', '5508']\", \"['4', '29', '312', '934']\",\n",
       "       \"['4', '29', '313', '1574']\", \"['4', '29', '313', '5798']\",\n",
       "       \"['4', '29', '313', '938']\", \"['4', '29', '314', '1398']\",\n",
       "       \"['4', '29', '314', '1579']\", \"['4', '29', '339', '1559']\",\n",
       "       \"['4', '29', '347', '1318']\", \"['4', '29', '503']\",\n",
       "       \"['4', '30', '315', '541']\", \"['4', '30', '503']\",\n",
       "       \"['4', '31', '324', '1431']\", \"['4', '31', '324', '1432']\",\n",
       "       \"['4', '31', '324', '466']\", \"['4', '31', '324', '5813']\",\n",
       "       \"['4', '31', '324', '879']\", \"['4', '31', '326', '505']\",\n",
       "       \"['4', '31', '327', '507']\", \"['4', '31', '328', '567']\",\n",
       "       \"['4', '31', '329', '506']\", \"['4', '44', '1097']\",\n",
       "       \"['4', '44', '1381']\", \"['4', '44', '1564']\",\n",
       "       \"['4', '44', '1571']\", \"['4', '44', '1594']\",\n",
       "       \"['4', '44', '1600']\", \"['4', '44', '428']\", \"['4', '44', '430']\",\n",
       "       \"['4', '44', '489']\", \"['4', '44', '490']\", \"['4', '44', '491']\",\n",
       "       \"['4', '44', '492']\", \"['4', '44', '493']\", \"['4', '44', '494']\",\n",
       "       \"['4', '44', '501']\", \"['4', '44', '528']\", \"['4', '44', '549']\",\n",
       "       \"['4', '44', '989']\", \"['4', '5837', '5836', '1047']\",\n",
       "       \"['4', '5837', '5836', '1167']\", \"['4', '5837', '5836', '1357']\",\n",
       "       \"['4', '5837', '5836', '1567']\", \"['4', '5837', '5836', '1601']\",\n",
       "       \"['4', '5837', '5836', '839']\", \"['4', '5837', '5838', '1168']\",\n",
       "       \"['4', '5837', '5838', '1565']\", \"['4', '5837', '5838', '1566']\",\n",
       "       \"['4', '5837', '5838', '1584']\", \"['4', '5837', '5838', '1585']\",\n",
       "       \"['4', '5837', '5838', '1848']\", \"['4', '5837', '5838', '5498']\",\n",
       "       \"['4', '5837', '5838', '5499']\", \"['4', '5837', '5838', '5500']\",\n",
       "       \"['4', '5837', '5838', '5501']\", \"['4', '5837', '5838', '5502']\",\n",
       "       \"['4', '5837', '5838', '5503']\", \"['4', '5837', '5838', '5504']\",\n",
       "       \"['4', '5837', '5838', '5505']\", \"['4', '5837', '5838', '5720']\",\n",
       "       \"['4', '5837', '5838', '5834']\", \"['4', '5837', '5838', '5835']\",\n",
       "       \"['4', '5837', '5838', '5956']\", \"['4', '5837', '6013', '1153']\",\n",
       "       \"['4', '5837', '6013', '1607']\", \"['4', '5837', '6013', '1853']\",\n",
       "       \"['4', '5837', '6013', '1855']\", \"['4', '5837', '6013', '1856']\",\n",
       "       \"['4', '5837', '6013', '1857']\", \"['4', '5837', '6013', '863']\",\n",
       "       \"['5', '10', '105', '1794']\", \"['5562', '5536', '5535', '1563']\",\n",
       "       \"['5562', '5536', '5535', '1573']\",\n",
       "       \"['5562', '5536', '5535', '856']\",\n",
       "       \"['5562', '5536', '5537', '841']\",\n",
       "       \"['5562', '5536', '5537', '842']\",\n",
       "       \"['5562', '5536', '5537', '843']\",\n",
       "       \"['5562', '5536', '5537', '844']\",\n",
       "       \"['5562', '5536', '5537', '845']\",\n",
       "       \"['5562', '5536', '5537', '846']\",\n",
       "       \"['5562', '5536', '5542', '1799']\",\n",
       "       \"['5562', '5536', '5544', '854']\",\n",
       "       \"['5562', '5536', '5580', '963']\",\n",
       "       \"['5562', '5536', '5581', '1420']\",\n",
       "       \"['5562', '5536', '5581', '1421']\",\n",
       "       \"['5562', '5536', '5581', '1591']\",\n",
       "       \"['5562', '5536', '5581', '601']\",\n",
       "       \"['5562', '5536', '5581', '602']\",\n",
       "       \"['5562', '5536', '5581', '619']\",\n",
       "       \"['5562', '5536', '5581', '620']\",\n",
       "       \"['5562', '5536', '5581', '792']\",\n",
       "       \"['5562', '5536', '5581', '930']\",\n",
       "       \"['5562', '5536', '5581', '933']\",\n",
       "       \"['5562', '5536', '5581', '954']\",\n",
       "       \"['5562', '5536', '5581', '956']\",\n",
       "       \"['5562', '5536', '5656', '614']\",\n",
       "       \"['5562', '5536', '5658', '1302']\",\n",
       "       \"['5562', '5536', '5658', '724']\",\n",
       "       \"['5562', '5536', '5658', '725']\",\n",
       "       \"['5562', '5536', '5680', '575']\",\n",
       "       \"['5562', '5536', '5680', '576']\",\n",
       "       \"['5562', '5536', '5685', '569']\",\n",
       "       \"['5562', '5536', '5685', '570']\",\n",
       "       \"['5562', '5536', '5685', '6323']\",\n",
       "       \"['5562', '5536', '5685', '651']\",\n",
       "       \"['5562', '5536', '5685', '727']\",\n",
       "       \"['5562', '5536', '5685', '857']\",\n",
       "       \"['5562', '5536', '5702', '623']\",\n",
       "       \"['5562', '5536', '5702', '624']\",\n",
       "       \"['5562', '5536', '5702', '625']\",\n",
       "       \"['5562', '5536', '5702', '626']\",\n",
       "       \"['5562', '5536', '5707', '1173']\",\n",
       "       \"['5562', '5536', '5712', '1140']\",\n",
       "       \"['5562', '5536', '5712', '1846']\",\n",
       "       \"['5562', '5536', '5714', '1588']\",\n",
       "       \"['5562', '5536', '5714', '577']\",\n",
       "       \"['5562', '5536', '5829', '1679']\",\n",
       "       \"['5562', '5536', '5829', '447']\",\n",
       "       \"['5562', '5558', '5559', '1094']\",\n",
       "       \"['5562', '5558', '5559', '1100']\",\n",
       "       \"['5562', '5558', '5560', '1110']\",\n",
       "       \"['5562', '5558', '5561', '1631']\",\n",
       "       \"['5562', '5558', '5582', '1111']\",\n",
       "       \"['5562', '5558', '5590', '1055']\",\n",
       "       \"['5562', '5558', '5617', '1102']\",\n",
       "       \"['5562', '5558', '5618', '1083']\",\n",
       "       \"['5562', '5558', '5618', '1088']\",\n",
       "       \"['5562', '5558', '5618', '1091']\",\n",
       "       \"['5562', '5558', '5618', '878']\",\n",
       "       \"['5562', '5558', '5620', '1791']\",\n",
       "       \"['5562', '5558', '5635', '1012']\",\n",
       "       \"['5562', '5558', '5655', '1145']\",\n",
       "       \"['5562', '5558', '5655', '1146']\",\n",
       "       \"['5562', '5558', '5655', '1147']\",\n",
       "       \"['5562', '5558', '5655', '1149']\",\n",
       "       \"['5562', '5558', '5655', '1787']\",\n",
       "       \"['5562', '5558', '5684', '1104']\",\n",
       "       \"['5562', '5558', '5684', '1108']\",\n",
       "       \"['5562', '5558', '5711', '1128']\",\n",
       "       \"['5562', '5589', '5563', '1684']\",\n",
       "       \"['5562', '5589', '5563', '1732']\",\n",
       "       \"['5562', '5589', '5563', '1733']\",\n",
       "       \"['5562', '5589', '5563', '1734']\",\n",
       "       \"['5562', '5589', '5563', '1735']\",\n",
       "       \"['5562', '5589', '5563', '1807']\",\n",
       "       \"['5562', '5589', '5563', '1808']\",\n",
       "       \"['5562', '5589', '5563', '1811']\",\n",
       "       \"['5562', '5589', '5576', '1239']\",\n",
       "       \"['5562', '5589', '5576', '1681']\",\n",
       "       \"['5562', '5589', '5576', '1682']\",\n",
       "       \"['5562', '5589', '5576', '1683']\",\n",
       "       \"['5562', '5589', '5576', '1703']\",\n",
       "       \"['5562', '5589', '5576', '1705']\",\n",
       "       \"['5562', '5589', '5576', '1706']\",\n",
       "       \"['5562', '5589', '5576', '1794']\",\n",
       "       \"['5562', '5589', '5584', '1783']\",\n",
       "       \"['5562', '5589', '5584', '1784']\",\n",
       "       \"['5562', '5589', '5584', '1785']\",\n",
       "       \"['5562', '5589', '5584', '1786']\",\n",
       "       \"['5562', '5589', '5584', '1787']\",\n",
       "       \"['5562', '5589', '5584', '1795']\",\n",
       "       \"['5562', '5589', '5584', '1796']\",\n",
       "       \"['5562', '5589', '5586', '1766']\",\n",
       "       \"['5562', '5589', '5586', '1767']\",\n",
       "       \"['5562', '5589', '5586', '1768']\",\n",
       "       \"['5562', '5589', '5586', '1769']\",\n",
       "       \"['5562', '5589', '5586', '1771']\",\n",
       "       \"['5562', '5589', '5587', '1699']\",\n",
       "       \"['5562', '5589', '5587', '1700']\",\n",
       "       \"['5562', '5589', '5587', '1701']\",\n",
       "       \"['5562', '5589', '5587', '1702']\",\n",
       "       \"['5562', '5589', '5587', '1704']\",\n",
       "       \"['5562', '5589', '5587', '1707']\",\n",
       "       \"['5562', '5589', '5587', '1708']\",\n",
       "       \"['5562', '5589', '5587', '1765']\",\n",
       "       \"['5562', '5589', '5588', '1001']\",\n",
       "       \"['5562', '5589', '5588', '1778']\",\n",
       "       \"['5562', '5589', '5588', '1779']\",\n",
       "       \"['5562', '5589', '5588', '1780']\",\n",
       "       \"['5562', '5589', '5588', '1781']\",\n",
       "       \"['5562', '5589', '5588', '1782']\",\n",
       "       \"['5562', '5589', '5588', '1809']\",\n",
       "       \"['5562', '5589', '5588', '6166']\",\n",
       "       \"['5562', '5589', '5588', '993']\",\n",
       "       \"['5562', '5589', '5588', '994']\",\n",
       "       \"['5562', '5589', '5588', '995']\",\n",
       "       \"['5562', '5589', '5605', '1710']\",\n",
       "       \"['5562', '5589', '5605', '1711']\",\n",
       "       \"['5562', '5589', '5605', '1712']\",\n",
       "       \"['5562', '5589', '5605', '1713']\",\n",
       "       \"['5562', '5589', '5610', '1635']\",\n",
       "       \"['5562', '5589', '5610', '1636']\",\n",
       "       \"['5562', '5589', '5610', '1637']\",\n",
       "       \"['5562', '5589', '5610', '1638']\",\n",
       "       \"['5562', '5589', '5610', '1639']\",\n",
       "       \"['5562', '5589', '5610', '1659']\",\n",
       "       \"['5562', '5589', '5610', '1660']\",\n",
       "       \"['5562', '5589', '5610', '1661']\",\n",
       "       \"['5562', '5589', '5610', '1662']\",\n",
       "       \"['5562', '5589', '5610', '1663']\",\n",
       "       \"['5562', '5589', '5610', '1664']\",\n",
       "       \"['5562', '5589', '5610', '1665']\",\n",
       "       \"['5562', '5589', '5613', '1714']\",\n",
       "       \"['5562', '5589', '5613', '1715']\",\n",
       "       \"['5562', '5589', '5613', '1716']\",\n",
       "       \"['5562', '5589', '5613', '1717']\",\n",
       "       \"['5562', '5589', '5613', '1718']\",\n",
       "       \"['5562', '5589', '5613', '1719']\",\n",
       "       \"['5562', '5589', '5613', '1720']\",\n",
       "       \"['5562', '5589', '5613', '1722']\",\n",
       "       \"['5562', '5589', '5613', '1724']\",\n",
       "       \"['5562', '5589', '5613', '1726']\",\n",
       "       \"['5562', '5589', '5613', '1727']\",\n",
       "       \"['5562', '5589', '5613', '1728']\",\n",
       "       \"['5562', '5589', '5613', '1729']\",\n",
       "       \"['5562', '5589', '5619', '1685']\",\n",
       "       \"['5562', '5589', '5623', '1772']\",\n",
       "       \"['5562', '5589', '5623', '1773']\",\n",
       "       \"['5562', '5589', '5623', '1774']\",\n",
       "       \"['5562', '5589', '5623', '1775']\",\n",
       "       \"['5562', '5589', '5623', '1777']\",\n",
       "       \"['5562', '5589', '5624', '1686']\",\n",
       "       \"['5562', '5589', '5624', '1687']\",\n",
       "       \"['5562', '5589', '5624', '1689']\",\n",
       "       \"['5562', '5589', '5624', '1690']\",\n",
       "       \"['5562', '5589', '5624', '1695']\",\n",
       "       \"['5562', '5589', '5624', '1696']\",\n",
       "       \"['5562', '5589', '5624', '1697']\",\n",
       "       \"['5562', '5589', '5624', '1698']\",\n",
       "       \"['5562', '5589', '5624', '1788']\",\n",
       "       \"['5562', '5589', '5624', '1789']\",\n",
       "       \"['5562', '5589', '5624', '1790']\",\n",
       "       \"['5562', '5589', '5624', '1792']\",\n",
       "       \"['5562', '5589', '5624', '1793']\",\n",
       "       \"['5562', '5589', '5624', '5739']\",\n",
       "       \"['5562', '5589', '5624', '764']\",\n",
       "       \"['5562', '5589', '5661', '1805']\",\n",
       "       \"['5562', '5589', '5661', '1806']\",\n",
       "       \"['5562', '5589', '5661', '1810']\",\n",
       "       \"['5562', '5589', '5686', '1667']\",\n",
       "       \"['5562', '5589', '5686', '1668']\",\n",
       "       \"['5562', '5589', '5686', '1669']\",\n",
       "       \"['5562', '5589', '5686', '1670']\",\n",
       "       \"['5562', '5589', '5686', '1672']\",\n",
       "       \"['5562', '5589', '5686', '1673']\",\n",
       "       \"['5562', '5589', '5686', '1674']\",\n",
       "       \"['5562', '5589', '5686', '1675']\",\n",
       "       \"['5562', '5589', '5686', '1676']\",\n",
       "       \"['5562', '5589', '5686', '1677']\",\n",
       "       \"['5562', '5589', '5686', '1678']\",\n",
       "       \"['5562', '5589', '6047', '1691']\",\n",
       "       \"['5562', '5589', '6047', '5726']\",\n",
       "       \"['5562', '5589', '6047', '5738']\",\n",
       "       \"['5562', '5597', '5540', '5779']\",\n",
       "       \"['5562', '5597', '5540', '914']\",\n",
       "       \"['5562', '5597', '5540', '915']\",\n",
       "       \"['5562', '5597', '5540', '916']\",\n",
       "       \"['5562', '5597', '5565', '1214']\",\n",
       "       \"['5562', '5597', '5566', '5514']\",\n",
       "       \"['5562', '5597', '5566', '5519']\",\n",
       "       \"['5562', '5597', '5566', '913']\",\n",
       "       \"['5562', '5597', '5573', '5789']\",\n",
       "       \"['5562', '5597', '5583', '1426']\",\n",
       "       \"['5562', '5597', '5583', '1764']\",\n",
       "       \"['5562', '5597', '5596', '1424']\",\n",
       "       \"['5562', '5597', '5596', '1428']\",\n",
       "       \"['5562', '5597', '5596', '917']\",\n",
       "       \"['5562', '5597', '5614', '1688']\",\n",
       "       \"['5562', '5597', '5614', '1691']\",\n",
       "       \"['5562', '5597', '5614', '1694']\",\n",
       "       \"['5562', '5597', '5614', '5740']\",\n",
       "       \"['5562', '5597', '5614', '919']\",\n",
       "       \"['5562', '5597', '5629', '1419']\",\n",
       "       \"['5562', '5597', '5629', '1427']\",\n",
       "       \"['5562', '5597', '5629', '5781']\",\n",
       "       \"['5562', '5597', '5629', '5783']\",\n",
       "       \"['5562', '5597', '5629', '5785']\",\n",
       "       \"['5562', '5597', '5629', '5786']\",\n",
       "       \"['5562', '5597', '5629', '5787']\",\n",
       "       \"['5562', '5597', '5629', '5788']\",\n",
       "       \"['5562', '5597', '5637', '1213']\",\n",
       "       \"['5562', '5597', '5637', '890']\",\n",
       "       \"['5562', '5597', '5637', '896']\",\n",
       "       \"['5562', '5597', '5637', '905']\",\n",
       "       \"['5562', '5597', '5642', '1215']\",\n",
       "       \"['5562', '5597', '5642', '1216']\",\n",
       "       \"['5562', '5597', '5642', '1217']\",\n",
       "       \"['5562', '5597', '5642', '1218']\",\n",
       "       \"['5562', '5597', '5642', '1219']\",\n",
       "       \"['5562', '5597', '5642', '1220']\",\n",
       "       \"['5562', '5597', '5642', '1221']\",\n",
       "       \"['5562', '5597', '5642', '1222']\",\n",
       "       \"['5562', '5597', '5642', '1223']\",\n",
       "       \"['5562', '5597', '5642', '1224']\",\n",
       "       \"['5562', '5597', '5642', '5520']\",\n",
       "       \"['5562', '5597', '5642', '882']\",\n",
       "       \"['5562', '5597', '5642', '883']\",\n",
       "       \"['5562', '5597', '5642', '885']\",\n",
       "       \"['5562', '5597', '5642', '886']\",\n",
       "       \"['5562', '5597', '5642', '887']\",\n",
       "       \"['5562', '5597', '5642', '899']\",\n",
       "       \"['5562', '5597', '5642', '900']\",\n",
       "       \"['5562', '5597', '5642', '901']\",\n",
       "       \"['5562', '5597', '5691', '888']\",\n",
       "       \"['5562', '5597', '5691', '889']\",\n",
       "       \"['5562', '5597', '5696', '1418']\",\n",
       "       \"['5562', '5597', '5696', '1429']\",\n",
       "       \"['5562', '5597', '5696', '5529']\",\n",
       "       \"['5562', '5597', '5696', '5741']\",\n",
       "       \"['5562', '5597', '5696', '5754']\",\n",
       "       \"['5562', '5597', '5696', '751']\",\n",
       "       \"['5562', '5597', '5696', '891']\",\n",
       "       \"['5562', '5597', '5696', '892']\",\n",
       "       \"['5562', '5597', '5696', '893']\",\n",
       "       \"['5562', '5597', '5696', '894']\",\n",
       "       \"['5562', '5597', '5696', '895']\", \"['5562', '5597', '5782']\",\n",
       "       \"['5562', '5599', '5539', '1075']\",\n",
       "       \"['5562', '5599', '5539', '1076']\",\n",
       "       \"['5562', '5599', '5539', '1077']\",\n",
       "       \"['5562', '5599', '5539', '1078']\",\n",
       "       \"['5562', '5599', '5539', '5949']\",\n",
       "       \"['5562', '5599', '5539', '5950']\",\n",
       "       \"['5562', '5599', '5539', '5953']\",\n",
       "       \"['5562', '5599', '5553', '1080']\",\n",
       "       \"['5562', '5599', '5553', '1396']\",\n",
       "       \"['5562', '5599', '5602', '1115']\",\n",
       "       \"['5562', '5599', '5602', '1116']\",\n",
       "       \"['5562', '5599', '5848', '5710']\",\n",
       "       \"['5562', '5630', '5541', '557']\",\n",
       "       \"['5562', '5630', '5541', '685']\",\n",
       "       \"['5562', '5630', '5547', '552']\",\n",
       "       \"['5562', '5630', '5548', '1304']\",\n",
       "       \"['5562', '5630', '5548', '1328']\",\n",
       "       \"['5562', '5630', '5548', '1368']\",\n",
       "       \"['5562', '5630', '5548', '1830']\",\n",
       "       \"['5562', '5630', '5548', '554']\",\n",
       "       \"['5562', '5630', '5548', '664']\",\n",
       "       \"['5562', '5630', '5548', '665']\",\n",
       "       \"['5562', '5630', '5575', '681']\",\n",
       "       \"['5562', '5630', '5592', '1307']\",\n",
       "       \"['5562', '5630', '5592', '676']\",\n",
       "       \"['5562', '5630', '5607', '1326']\",\n",
       "       \"['5562', '5630', '5607', '555']\",\n",
       "       \"['5562', '5630', '5649', '1582']\",\n",
       "       \"['5562', '5630', '5649', '678']\",\n",
       "       \"['5562', '5630', '5659', '607']\",\n",
       "       \"['5562', '5630', '5667', '551']\",\n",
       "       \"['5562', '5630', '5669', '606']\",\n",
       "       \"['5562', '5630', '5669', '668']\",\n",
       "       \"['5562', '5630', '5669', '669']\",\n",
       "       \"['5562', '5630', '5669', '670']\",\n",
       "       \"['5562', '5630', '5669', '671']\",\n",
       "       \"['5562', '5630', '5677', '628']\",\n",
       "       \"['5562', '5630', '5687', '553']\",\n",
       "       \"['5562', '5630', '5687', '558']\",\n",
       "       \"['5562', '5630', '5699', '1200']\",\n",
       "       \"['5562', '5630', '5699', '1306']\",\n",
       "       \"['5562', '5630', '5699', '1829']\",\n",
       "       \"['5562', '5630', '5699', '550']\",\n",
       "       \"['5562', '5631', '5549', '1303']\",\n",
       "       \"['5562', '5631', '5549', '1831']\",\n",
       "       \"['5562', '5631', '5549', '608']\",\n",
       "       \"['5562', '5631', '5549', '666']\",\n",
       "       \"['5562', '5631', '5549', '667']\",\n",
       "       \"['5562', '5631', '5549', '732']\",\n",
       "       \"['5562', '5631', '5549', '734']\",\n",
       "       \"['5562', '5631', '5549', '735']\",\n",
       "       \"['5562', '5631', '5593', '1308']\",\n",
       "       \"['5562', '5631', '5593', '675']\",\n",
       "       \"['5562', '5631', '5608', '1327']\",\n",
       "       \"['5562', '5631', '5608', '561']\",\n",
       "       \"['5562', '5631', '5622', '1367']\",\n",
       "       \"['5562', '5631', '5622', '560']\",\n",
       "       \"['5562', '5631', '5648', '1583']\",\n",
       "       \"['5562', '5631', '5648', '508']\",\n",
       "       \"['5562', '5631', '5660', '611']\",\n",
       "       \"['5562', '5631', '5666', '563']\",\n",
       "       \"['5562', '5631', '5670', '1399']\",\n",
       "       \"['5562', '5631', '5670', '609']\",\n",
       "       \"['5562', '5631', '5670', '612']\",\n",
       "       \"['5562', '5631', '5688', '562']\",\n",
       "       \"['5562', '5631', '5688', '564']\",\n",
       "       \"['5562', '5631', '5700', '448']\",\n",
       "       \"['5562', '5632', '5546', '1323']\",\n",
       "       \"['5562', '5632', '5546', '1334']\",\n",
       "       \"['5562', '5632', '5546', '1335']\",\n",
       "       \"['5562', '5632', '5546', '1344']\",\n",
       "       \"['5562', '5632', '5546', '1345']\",\n",
       "       \"['5562', '5632', '5546', '965']\",\n",
       "       \"['5562', '5632', '5546', '966']\",\n",
       "       \"['5562', '5632', '5552', '1089']\",\n",
       "       \"['5562', '5632', '5552', '1257']\",\n",
       "       \"['5562', '5632', '5552', '1298']\",\n",
       "       \"['5562', '5632', '5552', '1340']\",\n",
       "       \"['5562', '5632', '5552', '1341']\",\n",
       "       \"['5562', '5632', '5552', '1363']\",\n",
       "       \"['5562', '5632', '5552', '836']\",\n",
       "       \"['5562', '5632', '5552', '855']\",\n",
       "       \"['5562', '5632', '5552', '971']\",\n",
       "       \"['5562', '5632', '5564', '1287']\",\n",
       "       \"['5562', '5632', '5564', '1309']\",\n",
       "       \"['5562', '5632', '5564', '1310']\",\n",
       "       \"['5562', '5632', '5564', '969']\",\n",
       "       \"['5562', '5632', '5577', '1337']\",\n",
       "       \"['5562', '5632', '5577', '1338']\",\n",
       "       \"['5562', '5632', '5577', '808']\",\n",
       "       \"['5562', '5632', '5577', '850']\",\n",
       "       \"['5562', '5632', '5598', '1294']\",\n",
       "       \"['5562', '5632', '5598', '1324']\",\n",
       "       \"['5562', '5632', '5598', '1336']\",\n",
       "       \"['5562', '5632', '5598', '1356']\",\n",
       "       \"['5562', '5632', '5598', '824']\",\n",
       "       \"['5562', '5632', '5598', '967']\",\n",
       "       \"['5562', '5632', '5598', '968']\",\n",
       "       \"['5562', '5632', '5603', '1095']\",\n",
       "       \"['5562', '5632', '5603', '1096']\",\n",
       "       \"['5562', '5632', '5603', '1124']\",\n",
       "       \"['5562', '5632', '5603', '1342']\",\n",
       "       \"['5562', '5632', '5603', '1343']\",\n",
       "       \"['5562', '5632', '5603', '1359']\",\n",
       "       \"['5562', '5632', '5603', '1360']\",\n",
       "       \"['5562', '5632', '5638', '1339']\",\n",
       "       \"['5562', '5632', '5638', '970']\",\n",
       "       \"['5562', '5632', '5639', '1629']\",\n",
       "       \"['5562', '5632', '5647', '1288']\",\n",
       "       \"['5562', '5632', '5647', '1361']\",\n",
       "       \"['5562', '5632', '5647', '6012']\",\n",
       "       \"['5562', '5632', '5657', '972']\",\n",
       "       \"['5562', '5632', '5706', '1095']\",\n",
       "       \"['5562', '5632', '5706', '1096']\",\n",
       "       \"['5562', '5632', '5706', '1124']\",\n",
       "       \"['5562', '5632', '5706', '1125']\",\n",
       "       \"['5562', '5632', '5706', '1292']\",\n",
       "       \"['5562', '5632', '5706', '1293']\",\n",
       "       \"['5562', '5632', '5706', '1346']\",\n",
       "       \"['5562', '5632', '5706', '1347']\",\n",
       "       \"['5562', '5632', '5706', '1851']\",\n",
       "       \"['5562', '5632', '5706', '1852']\",\n",
       "       \"['5562', '5633', '5545', '706']\",\n",
       "       \"['5562', '5633', '5545', '707']\",\n",
       "       \"['5562', '5633', '5545', '755']\",\n",
       "       \"['5562', '5633', '5545', '761']\",\n",
       "       \"['5562', '5633', '5550', '5999']\",\n",
       "       \"['5562', '5633', '5550', '6011']\",\n",
       "       \"['5562', '5633', '5550', '690']\",\n",
       "       \"['5562', '5633', '5550', '705']\",\n",
       "       \"['5562', '5633', '5550', '743']\",\n",
       "       \"['5562', '5633', '5550', '848']\",\n",
       "       \"['5562', '5633', '5550', '927']\",\n",
       "       \"['5562', '5633', '5567', '1286']\",\n",
       "       \"['5562', '5633', '5567', '590']\",\n",
       "       \"['5562', '5633', '5567', '640']\",\n",
       "       \"['5562', '5633', '5567', '697']\",\n",
       "       \"['5562', '5633', '5569', '581']\",\n",
       "       \"['5562', '5633', '5569', '940']\",\n",
       "       \"['5562', '5633', '5578', '1353']\",\n",
       "       \"['5562', '5633', '5578', '6272']\",\n",
       "       \"['5562', '5633', '5578', '700']\",\n",
       "       \"['5562', '5633', '5600', '634']\",\n",
       "       \"['5562', '5633', '5611', '713']\",\n",
       "       \"['5562', '5633', '5612', '5998']\",\n",
       "       \"['5562', '5633', '5612', '6000']\",\n",
       "       \"['5562', '5633', '5612', '793']\",\n",
       "       \"['5562', '5633', '5615', '1281']\",\n",
       "       \"['5562', '5633', '5625', '1383']\",\n",
       "       \"['5562', '5633', '5625', '571']\",\n",
       "       \"['5562', '5633', '5625', '718']\",\n",
       "       \"['5562', '5633', '5625', '941']\",\n",
       "       \"['5562', '5633', '5627', '573']\",\n",
       "       \"['5562', '5633', '5627', '719']\",\n",
       "       \"['5562', '5633', '5644', '631']\",\n",
       "       \"['5562', '5633', '5646', '1364']\",\n",
       "       \"['5562', '5633', '5646', '5723']\",\n",
       "       \"['5562', '5633', '5646', '638']\",\n",
       "       \"['5562', '5633', '5646', '692']\",\n",
       "       \"['5562', '5633', '5646', '699']\",\n",
       "       \"['5562', '5633', '5646', '765']\",\n",
       "       \"['5562', '5633', '5646', '838']\",\n",
       "       \"['5562', '5633', '5646', '936']\",\n",
       "       \"['5562', '5633', '5646', '937']\",\n",
       "       \"['5562', '5633', '5671', '6009']\",\n",
       "       \"['5562', '5633', '5673', '594']\",\n",
       "       \"['5562', '5633', '5681', '1633']\",\n",
       "       \"['5562', '5633', '5681', '1838']\",\n",
       "       \"['5562', '5633', '5681', '591']\",\n",
       "       \"['5562', '5633', '5681', '5997']\",\n",
       "       \"['5562', '5633', '5689', '1107']\",\n",
       "       \"['5562', '5633', '5692', '637']\",\n",
       "       \"['5562', '5633', '5701', '702']\",\n",
       "       \"['5562', '5633', '5701', '767']\",\n",
       "       \"['5562', '5633', '5704', '1283']\",\n",
       "       \"['5562', '5633', '5704', '1284']\",\n",
       "       \"['5562', '5633', '5704', '1285']\",\n",
       "       \"['5562', '5633', '5704', '1352']\",\n",
       "       \"['5562', '5633', '5704', '1365']\",\n",
       "       \"['5562', '5633', '5704', '1849']\",\n",
       "       \"['5562', '5633', '5704', '600']\",\n",
       "       \"['5562', '5633', '5704', '858']\",\n",
       "       \"['5562', '5633', '5704', '923']\",\n",
       "       \"['5562', '5633', '5708', '935']\",\n",
       "       \"['5562', '5634', '5551', '1258']\",\n",
       "       \"['5562', '5634', '5551', '1277']\",\n",
       "       \"['5562', '5634', '5551', '1842']\",\n",
       "       \"['5562', '5634', '5551', '6010']\",\n",
       "       \"['5562', '5634', '5551', '691']\",\n",
       "       \"['5562', '5634', '5551', '769']\",\n",
       "       \"['5562', '5634', '5551', '953']\",\n",
       "       \"['5562', '5634', '5568', '1351']\",\n",
       "       \"['5562', '5634', '5568', '589']\",\n",
       "       \"['5562', '5634', '5568', '641']\",\n",
       "       \"['5562', '5634', '5568', '957']\",\n",
       "       \"['5562', '5634', '5570', '582']\",\n",
       "       \"['5562', '5634', '5579', '710']\",\n",
       "       \"['5562', '5634', '5601', '635']\",\n",
       "       \"['5562', '5634', '5616', '1279']\",\n",
       "       \"['5562', '5634', '5626', '572']\",\n",
       "       \"['5562', '5634', '5626', '959']\",\n",
       "       \"['5562', '5634', '5628', '574']\",\n",
       "       \"['5562', '5634', '5645', '632']\",\n",
       "       \"['5562', '5634', '5650', '712']\",\n",
       "       \"['5562', '5634', '5663', '592']\",\n",
       "       \"['5562', '5634', '5663', '708']\",\n",
       "       \"['5562', '5634', '5663', '799']\",\n",
       "       \"['5562', '5634', '5663', '806']\",\n",
       "       \"['5562', '5634', '5672', '1273']\",\n",
       "       \"['5562', '5634', '5672', '961']\",\n",
       "       \"['5562', '5634', '5674', '593']\",\n",
       "       \"['5562', '5634', '5682', '1634']\",\n",
       "       \"['5562', '5634', '5682', '1839']\",\n",
       "       \"['5562', '5634', '5682', '639']\",\n",
       "       \"['5562', '5634', '5682', '835']\",\n",
       "       \"['5562', '5634', '5690', '1106']\",\n",
       "       \"['5562', '5634', '5693', '636']\",\n",
       "       \"['5562', '5634', '5705', '1274']\",\n",
       "       \"['5562', '5634', '5705', '1275']\",\n",
       "       \"['5562', '5634', '5705', '1276']\",\n",
       "       \"['5562', '5634', '5705', '1350']\",\n",
       "       \"['5562', '5634', '5705', '1366']\",\n",
       "       \"['5562', '5634', '5705', '1850']\",\n",
       "       \"['5562', '5634', '5705', '595']\",\n",
       "       \"['5562', '5634', '5705', '859']\",\n",
       "       \"['5562', '5634', '5709', '958']\",\n",
       "       \"['5562', '5683', '5538', '1123']\",\n",
       "       \"['5562', '5683', '5556', '1052']\",\n",
       "       \"['5562', '5683', '5556', '1053']\",\n",
       "       \"['5562', '5683', '5572', '1011']\",\n",
       "       \"['5562', '5683', '5572', '1314']\",\n",
       "       \"['5562', '5683', '5662', '1002']\",\n",
       "       \"['5562', '5683', '5662', '1003']\",\n",
       "       \"['5562', '5683', '5662', '559']\",\n",
       "       \"['5562', '5683', '5665', '1006']\",\n",
       "       \"['5562', '5683', '5665', '1007']\",\n",
       "       \"['5562', '5683', '5668', '986']\",\n",
       "       \"['5562', '5683', '5668', '992']\",\n",
       "       \"['5562', '5683', '5676', '1005']\",\n",
       "       \"['5562', '5683', '5679', '988']\",\n",
       "       \"['5562', '5683', '5695', '1013']\",\n",
       "       \"['5562', '5683', '5695', '1014']\",\n",
       "       \"['5562', '5683', '5695', '1016']\",\n",
       "       \"['5562', '5683', '5695', '1020']\",\n",
       "       \"['5562', '5683', '5695', '1378']\",\n",
       "       \"['5562', '5683', '5695', '5854']\",\n",
       "       \"['5562', '5683', '5698', '987']\",\n",
       "       \"['5562', '5683', '5698', '991']\",\n",
       "       \"['5562', '5683', '5703', '1008']\",\n",
       "       \"['5562', '5683', '5703', '1009']\",\n",
       "       \"['5562', '5683', '5703', '1010']\",\n",
       "       \"['5562', '5683', '5703', '5857']\",\n",
       "       \"['5562', '5683', '5713', '1004']\",\n",
       "       \"['5562', '5697', '5591', '1103']\",\n",
       "       \"['5562', '5697', '5591', '1118']\",\n",
       "       \"['5562', '5697', '5591', '5755']\",\n",
       "       \"['5562', '5697', '5651', '1153']\",\n",
       "       \"['5562', '5697', '5694', '5746']\",\n",
       "       \"['5963', '5959', '5542', '1798']\",\n",
       "       \"['5963', '5959', '5542', '1799']\",\n",
       "       \"['5963', '5959', '6020', '1798']\",\n",
       "       \"['5963', '5959', '6020', '1799']\",\n",
       "       \"['5963', '5959', '6020', '1800']\",\n",
       "       \"['5963', '5959', '6021', '1043']\",\n",
       "       \"['5963', '5959', '6021', '5526']\",\n",
       "       \"['5963', '5959', '6021', '5978']\",\n",
       "       \"['5963', '5959', '6021', '5979']\",\n",
       "       \"['5963', '5959', '6021', '5980']\",\n",
       "       \"['5963', '5959', '6021', '5981']\",\n",
       "       \"['5963', '5959', '6021', '5982']\",\n",
       "       \"['5963', '5959', '6021', '5983']\",\n",
       "       \"['5963', '5959', '6021', '6079']\",\n",
       "       \"['5963', '5959', '6021', '6204']\",\n",
       "       \"['5963', '5959', '6021', '6205']\",\n",
       "       \"['5963', '5959', '6021', '6255']\",\n",
       "       \"['5963', '5959', '6021', '6257']\",\n",
       "       \"['5963', '5959', '6021', '6278']\",\n",
       "       \"['5963', '5959', '6021', '999']\",\n",
       "       \"['5963', '5959', '6022', '840']\",\n",
       "       \"['5963', '5959', '6023', '1392']\",\n",
       "       \"['5963', '5959', '6023', '1589']\",\n",
       "       \"['5963', '5959', '6024', '1037']\",\n",
       "       \"['5963', '5959', '6024', '1039']\",\n",
       "       \"['5963', '5959', '6025', '839']\",\n",
       "       \"['6060', '6057', '6069', '1047']\",\n",
       "       \"['6060', '6057', '6069', '1081']\",\n",
       "       \"['6060', '6057', '6069', '1610']\",\n",
       "       \"['6060', '6057', '6073', '1566']\",\n",
       "       \"['6060', '6057', '6074', '1167']\",\n",
       "       \"['6060', '6057', '6074', '1211']\",\n",
       "       \"['6060', '6057', '6074', '1357']\",\n",
       "       \"['6060', '6057', '6074', '1567']\",\n",
       "       \"['6060', '6057', '6074', '1593']\",\n",
       "       \"['6060', '6057', '6074', '1601']\",\n",
       "       \"['6060', '6057', '6074', '499']\",\n",
       "       \"['6060', '6057', '6074', '6046']\",\n",
       "       \"['6060', '6057', '6074', '6200']\",\n",
       "       \"['6060', '6057', '6074', '6239']\",\n",
       "       \"['6060', '6057', '6074', '6254']\",\n",
       "       \"['6060', '6057', '6074', '6269']\",\n",
       "       \"['6060', '6057', '6074', '6281']\",\n",
       "       \"['6060', '6057', '6074', '6296']\",\n",
       "       \"['6060', '6057', '6074', '999']\",\n",
       "       \"['6060', '6057', '6075', '1565']\",\n",
       "       \"['6060', '6057', '6075', '1584']\",\n",
       "       \"['6060', '6057', '6075', '1585']\",\n",
       "       \"['6060', '6057', '6243', '6145']\",\n",
       "       \"['6060', '6057', '6243', '6146']\",\n",
       "       \"['6060', '6057', '6243', '6148']\",\n",
       "       \"['6060', '6057', '6243', '6149']\",\n",
       "       \"['6060', '6057', '6243', '6151']\",\n",
       "       \"['6060', '6057', '6243', '6152']\",\n",
       "       \"['6060', '6057', '6243', '6153']\",\n",
       "       \"['6060', '6057', '6243', '6154']\",\n",
       "       \"['6060', '6057', '6243', '6155']\",\n",
       "       \"['6060', '6057', '6243', '6177']\",\n",
       "       \"['6060', '6057', '6243', '6178']\",\n",
       "       \"['6060', '6057', '6243', '6240']\",\n",
       "       \"['6060', '6057', '6243', '6264']\",\n",
       "       \"['6060', '6057', '6244', '6147']\",\n",
       "       \"['6060', '6057', '6244', '6150']\",\n",
       "       \"['6060', '6057', '6244', '6156']\",\n",
       "       \"['6060', '6057', '6244', '6157']\",\n",
       "       \"['6060', '6057', '6244', '6231']\",\n",
       "       \"['6060', '6057', '6244', '6235']\",\n",
       "       \"['6060', '6057', '6244', '6236']\",\n",
       "       \"['6060', '6057', '6244', '6237']\",\n",
       "       \"['6060', '6057', '6245', '6088']\",\n",
       "       \"['6060', '6057', '6245', '6089']\",\n",
       "       \"['6060', '6057', '6245', '6090']\",\n",
       "       \"['6060', '6057', '6245', '6091']\",\n",
       "       \"['6060', '6057', '6245', '6305']\",\n",
       "       \"['6060', '6057', '6266', '6162']\",\n",
       "       \"['6060', '6057', '6266', '6163']\",\n",
       "       \"['6060', '6057', '6266', '6198']\",\n",
       "       \"['6060', '6057', '6266', '6199']\",\n",
       "       \"['6060', '6057', '6266', '6241']\",\n",
       "       \"['6060', '6058', '6061', '5504']\",\n",
       "       \"['6060', '6058', '6062', '5502']\",\n",
       "       \"['6060', '6058', '6063', '5720']\",\n",
       "       \"['6060', '6058', '6064', '5956']\",\n",
       "       \"['6060', '6058', '6065', '1848']\",\n",
       "       \"['6060', '6058', '6065', '5499']\",\n",
       "       \"['6060', '6058', '6065', '5501']\",\n",
       "       \"['6060', '6058', '6065', '5503']\",\n",
       "       \"['6060', '6058', '6065', '5505']\",\n",
       "       \"['6060', '6058', '6065', '5835']\",\n",
       "       \"['6060', '6058', '6065', '5847']\",\n",
       "       \"['6060', '6058', '6065', '6097']\",\n",
       "       \"['6060', '6058', '6066', '1168']\",\n",
       "       \"['6060', '6058', '6066', '5500']\",\n",
       "       \"['6060', '6058', '6067', '5498']\",\n",
       "       \"['6060', '6058', '6068', '5834']\",\n",
       "       \"['6060', '6059', '6070', '1855']\",\n",
       "       \"['6060', '6059', '6070', '1856']\",\n",
       "       \"['6060', '6059', '6071', '1607']\",\n",
       "       \"['6060', '6059', '6071', '1632']\",\n",
       "       \"['6060', '6059', '6071', '1854']\",\n",
       "       \"['6060', '6059', '6071', '1857']\",\n",
       "       \"['6060', '6059', '6071', '5746']\",\n",
       "       \"['6060', '6059', '6071', '5756']\",\n",
       "       \"['6060', '6059', '6071', '6292']\",\n",
       "       \"['6060', '6059', '6072', '1853']\",\n",
       "       \"['6060', '6059', '6076', '1153']\", '[None]', '[]'], dtype=object)"
      ]
     },
     "execution_count": 62,
     "metadata": {},
     "output_type": "execute_result"
    }
   ],
   "source": [
    "apparel_purchases['category_ids'].unique()"
   ]
  },
  {
   "cell_type": "markdown",
   "metadata": {
    "id": "ThPsrrAEDh2T"
   },
   "source": [
    "В задании было указано, что\n",
    "\n",
    "> Иногда дерево категорий обновляется, поэтому могут меняться вложенности, например ['4', '28', '44', '1594'] или ['4', '44', '1594']. Как обработать такие случаи – можете предлагать свои варианты решения."
   ]
  },
  {
   "cell_type": "code",
   "execution_count": 63,
   "metadata": {
    "colab": {
     "base_uri": "https://localhost:8080/",
     "height": 458
    },
    "id": "N0qsI_BpDeIz",
    "outputId": "f4bf8270-6571-4c99-ec33-6a08c5e60988"
   },
   "outputs": [
    {
     "data": {
      "text/plain": [
       "0        2022-07-12\n",
       "1        2022-08-07\n",
       "2        2022-06-01\n",
       "3        2022-07-09\n",
       "4        2022-07-08\n",
       "            ...    \n",
       "129013   2024-02-03\n",
       "129014   2024-02-06\n",
       "129015   2024-02-07\n",
       "129016   2024-02-05\n",
       "129017   2024-02-13\n",
       "Name: date, Length: 129018, dtype: datetime64[ns]"
      ]
     },
     "execution_count": 63,
     "metadata": {},
     "output_type": "execute_result"
    }
   ],
   "source": [
    "apparel_purchases['date']"
   ]
  },
  {
   "cell_type": "code",
   "execution_count": 64,
   "metadata": {
    "colab": {
     "base_uri": "https://localhost:8080/",
     "height": 303
    },
    "id": "4GrkJgNcDmcD",
    "outputId": "244cea5d-2c6a-4c91-bef4-28a0586ee78c"
   },
   "outputs": [
    {
     "data": {
      "text/plain": [
       "count                           129018\n",
       "mean     2023-02-26 10:13:27.292005632\n",
       "min                2022-05-16 00:00:00\n",
       "25%                2022-09-09 00:00:00\n",
       "50%                2023-03-22 00:00:00\n",
       "75%                2023-06-28 00:00:00\n",
       "max                2024-02-16 00:00:00\n",
       "Name: date, dtype: object"
      ]
     },
     "execution_count": 64,
     "metadata": {},
     "output_type": "execute_result"
    }
   ],
   "source": [
    "apparel_purchases['date'].describe()"
   ]
  },
  {
   "cell_type": "markdown",
   "metadata": {
    "id": "knmaSSeCDuUw"
   },
   "source": [
    "представления дат адекватны"
   ]
  },
  {
   "cell_type": "code",
   "execution_count": 65,
   "metadata": {
    "colab": {
     "base_uri": "https://localhost:8080/",
     "height": 458
    },
    "id": "umLEYT9hDwaH",
    "outputId": "aa41a9cf-ad08-46c2-866c-d49be4946918"
   },
   "outputs": [
    {
     "data": {
      "text/plain": [
       "0          1515915625489044168-5335-62c7d2d6bd056\n",
       "1          1515915625789566616-5785-62ecc38c85606\n",
       "2          1515915625666901395-4698-62971583c7270\n",
       "3          1515915625487285028-5335-62c7d2b9eef22\n",
       "4          1515915625468124765-5335-62c7d2d245db8\n",
       "                           ...                   \n",
       "129013    1515915625776547382-14587-65bcc2a78a468\n",
       "129014    1515915626009608336-14594-65c0879eaf1ec\n",
       "129015    1515915626009661190-14600-65c1e75b31a21\n",
       "129016    1515915625558930991-14595-65c085673111d\n",
       "129017    1515915625489302721-14623-65c5c5804cb67\n",
       "Name: message_id, Length: 129018, dtype: object"
      ]
     },
     "execution_count": 65,
     "metadata": {},
     "output_type": "execute_result"
    }
   ],
   "source": [
    "apparel_purchases['message_id']"
   ]
  },
  {
   "cell_type": "markdown",
   "metadata": {
    "id": "oe_wQO7lEIcH"
   },
   "source": [
    "Значения в данном столбце состоят из 3 частей: id клиента (`client_id`), id рекламной компании (`bulk_campaign_id`) и (как я понимаю) непосредственно id сообщения."
   ]
  },
  {
   "cell_type": "markdown",
   "metadata": {
    "id": "XXDpv7M2ETrR"
   },
   "source": [
    "Данный датасет содержит данные о покупках клиентов по дням и по товарам. В каждой записи покупка определенного товара, его цена, количество штук.\n",
    "\n",
    "Было обнаружено довольно много полных дубликатов - `73020 (36%)`. В итоге было принято решение, сгруппировать такие записи, просуммировав количество (признак `quantity`). После проведенного преобразования полных дубликатов больше нет.\n",
    "\n",
    "Пропусков в датасете нет."
   ]
  },
  {
   "cell_type": "markdown",
   "metadata": {
    "id": "cl80STeDEkaR"
   },
   "source": [
    "Перейдём к исследованию следующего датасета"
   ]
  },
  {
   "cell_type": "code",
   "execution_count": 67,
   "metadata": {
    "id": "MY4y9kApEpyg"
   },
   "outputs": [],
   "source": [
    "apparel_target_binary = pd.read_csv('apparel-target_binary.csv')"
   ]
  },
  {
   "cell_type": "code",
   "execution_count": 68,
   "metadata": {
    "colab": {
     "base_uri": "https://localhost:8080/",
     "height": 206
    },
    "id": "prZ6Y6D5EzKx",
    "outputId": "af2222c3-940b-41d2-8abc-1438784ac756"
   },
   "outputs": [
    {
     "data": {
      "text/html": [
       "<div>\n",
       "<style scoped>\n",
       "    .dataframe tbody tr th:only-of-type {\n",
       "        vertical-align: middle;\n",
       "    }\n",
       "\n",
       "    .dataframe tbody tr th {\n",
       "        vertical-align: top;\n",
       "    }\n",
       "\n",
       "    .dataframe thead th {\n",
       "        text-align: right;\n",
       "    }\n",
       "</style>\n",
       "<table border=\"1\" class=\"dataframe\">\n",
       "  <thead>\n",
       "    <tr style=\"text-align: right;\">\n",
       "      <th></th>\n",
       "      <th>client_id</th>\n",
       "      <th>target</th>\n",
       "    </tr>\n",
       "  </thead>\n",
       "  <tbody>\n",
       "    <tr>\n",
       "      <th>0</th>\n",
       "      <td>1515915625468060902</td>\n",
       "      <td>0</td>\n",
       "    </tr>\n",
       "    <tr>\n",
       "      <th>1</th>\n",
       "      <td>1515915625468061003</td>\n",
       "      <td>1</td>\n",
       "    </tr>\n",
       "    <tr>\n",
       "      <th>2</th>\n",
       "      <td>1515915625468061099</td>\n",
       "      <td>0</td>\n",
       "    </tr>\n",
       "    <tr>\n",
       "      <th>3</th>\n",
       "      <td>1515915625468061100</td>\n",
       "      <td>0</td>\n",
       "    </tr>\n",
       "    <tr>\n",
       "      <th>4</th>\n",
       "      <td>1515915625468061170</td>\n",
       "      <td>0</td>\n",
       "    </tr>\n",
       "  </tbody>\n",
       "</table>\n",
       "</div>"
      ],
      "text/plain": [
       "             client_id  target\n",
       "0  1515915625468060902       0\n",
       "1  1515915625468061003       1\n",
       "2  1515915625468061099       0\n",
       "3  1515915625468061100       0\n",
       "4  1515915625468061170       0"
      ]
     },
     "execution_count": 68,
     "metadata": {},
     "output_type": "execute_result"
    }
   ],
   "source": [
    "apparel_target_binary.head()"
   ]
  },
  {
   "cell_type": "code",
   "execution_count": 69,
   "metadata": {
    "colab": {
     "base_uri": "https://localhost:8080/"
    },
    "id": "MzfNqbmDFBmw",
    "outputId": "b5c54ce2-7c40-45fd-ff7d-360ae0ccdd54"
   },
   "outputs": [
    {
     "name": "stdout",
     "output_type": "stream",
     "text": [
      "<class 'pandas.core.frame.DataFrame'>\n",
      "RangeIndex: 49849 entries, 0 to 49848\n",
      "Data columns (total 2 columns):\n",
      " #   Column     Non-Null Count  Dtype\n",
      "---  ------     --------------  -----\n",
      " 0   client_id  49849 non-null  int64\n",
      " 1   target     49849 non-null  int64\n",
      "dtypes: int64(2)\n",
      "memory usage: 779.0 KB\n"
     ]
    }
   ],
   "source": [
    "apparel_target_binary.info()"
   ]
  },
  {
   "cell_type": "markdown",
   "metadata": {
    "id": "NgAU6ggYFHKg"
   },
   "source": [
    "Общая информация о данных корректна"
   ]
  },
  {
   "cell_type": "code",
   "execution_count": 70,
   "metadata": {
    "colab": {
     "base_uri": "https://localhost:8080/"
    },
    "id": "wmpMdRBTFTE_",
    "outputId": "4c1a5951-12c8-46fc-8208-df7284dd59bf"
   },
   "outputs": [
    {
     "name": "stdout",
     "output_type": "stream",
     "text": [
      "Размер использования памяти: до  0.76 Mb - после  0.43 Mb (43.7%)\n"
     ]
    }
   ],
   "source": [
    "apparel_target_binary = optimize_memory_usage(apparel_target_binary)"
   ]
  },
  {
   "cell_type": "code",
   "execution_count": 71,
   "metadata": {
    "colab": {
     "base_uri": "https://localhost:8080/"
    },
    "id": "qOPm0svGFWca",
    "outputId": "68a69936-aa09-483f-99ae-9d355983bbed"
   },
   "outputs": [
    {
     "name": "stdout",
     "output_type": "stream",
     "text": [
      "\u001b[32mПолных дубликатов не обнаружено.\u001b[0m\n"
     ]
    }
   ],
   "source": [
    "check_duplicates(apparel_target_binary)"
   ]
  },
  {
   "cell_type": "code",
   "execution_count": 72,
   "metadata": {
    "colab": {
     "base_uri": "https://localhost:8080/"
    },
    "id": "n3LTHQX9Fv50",
    "outputId": "d3239fe9-84db-4132-aaac-de2582cf67f5"
   },
   "outputs": [
    {
     "name": "stdout",
     "output_type": "stream",
     "text": [
      "+-----------+----------------------+\n",
      "|  Feature  | Missing values count |\n",
      "+-----------+----------------------+\n",
      "| client_id |      \u001b[32m0 (0.00%)\u001b[0m       |\n",
      "|   target  |      \u001b[32m0 (0.00%)\u001b[0m       |\n",
      "+-----------+----------------------+\n"
     ]
    }
   ],
   "source": [
    "check_nans(apparel_target_binary)"
   ]
  },
  {
   "cell_type": "markdown",
   "metadata": {
    "id": "jeTjl-PrFyQ2"
   },
   "source": [
    "Далее посмотрим признаки"
   ]
  },
  {
   "cell_type": "code",
   "execution_count": 73,
   "metadata": {
    "colab": {
     "base_uri": "https://localhost:8080/",
     "height": 458
    },
    "id": "Gll7XgIrF0PZ",
    "outputId": "f923219a-c1eb-4ad5-cf56-5057e94905da"
   },
   "outputs": [
    {
     "data": {
      "text/plain": [
       "0        1515915625468060902\n",
       "1        1515915625468061003\n",
       "2        1515915625468061099\n",
       "3        1515915625468061100\n",
       "4        1515915625468061170\n",
       "                ...         \n",
       "49844    1515915626010261344\n",
       "49845    1515915626010266132\n",
       "49846    1515915626010439406\n",
       "49847    1515915626010443527\n",
       "49848    1515915626010443624\n",
       "Name: client_id, Length: 49849, dtype: int64"
      ]
     },
     "execution_count": 73,
     "metadata": {},
     "output_type": "execute_result"
    }
   ],
   "source": [
    "apparel_target_binary['client_id']"
   ]
  },
  {
   "cell_type": "code",
   "execution_count": 74,
   "metadata": {
    "colab": {
     "base_uri": "https://localhost:8080/"
    },
    "id": "_6wYAzPMF4C7",
    "outputId": "5f781895-205b-40a2-c7b3-0c444d15334b"
   },
   "outputs": [
    {
     "data": {
      "text/plain": [
       "(49849, 49849)"
      ]
     },
     "execution_count": 74,
     "metadata": {},
     "output_type": "execute_result"
    }
   ],
   "source": [
    "apparel_target_binary['client_id'].nunique(), len(apparel_target_binary)"
   ]
  },
  {
   "cell_type": "markdown",
   "metadata": {
    "id": "PuHG_qhjGEP8"
   },
   "source": [
    "все id уникальны"
   ]
  },
  {
   "cell_type": "code",
   "execution_count": 75,
   "metadata": {
    "colab": {
     "base_uri": "https://localhost:8080/",
     "height": 143
    },
    "id": "tRp0p5nGGU8v",
    "outputId": "329b41b9-4458-4d2b-c324-c573a962d86a"
   },
   "outputs": [
    {
     "data": {
      "text/html": [
       "<div>\n",
       "<style scoped>\n",
       "    .dataframe tbody tr th:only-of-type {\n",
       "        vertical-align: middle;\n",
       "    }\n",
       "\n",
       "    .dataframe tbody tr th {\n",
       "        vertical-align: top;\n",
       "    }\n",
       "\n",
       "    .dataframe thead th {\n",
       "        text-align: right;\n",
       "    }\n",
       "</style>\n",
       "<table border=\"1\" class=\"dataframe\">\n",
       "  <thead>\n",
       "    <tr style=\"text-align: right;\">\n",
       "      <th></th>\n",
       "      <th>count</th>\n",
       "      <th>part</th>\n",
       "    </tr>\n",
       "    <tr>\n",
       "      <th>target</th>\n",
       "      <th></th>\n",
       "      <th></th>\n",
       "    </tr>\n",
       "  </thead>\n",
       "  <tbody>\n",
       "    <tr>\n",
       "      <th>0</th>\n",
       "      <td>48888</td>\n",
       "      <td>0.98</td>\n",
       "    </tr>\n",
       "    <tr>\n",
       "      <th>1</th>\n",
       "      <td>961</td>\n",
       "      <td>0.02</td>\n",
       "    </tr>\n",
       "  </tbody>\n",
       "</table>\n",
       "</div>"
      ],
      "text/plain": [
       "        count  part\n",
       "target             \n",
       "0       48888  0.98\n",
       "1         961  0.02"
      ]
     },
     "metadata": {},
     "output_type": "display_data"
    }
   ],
   "source": [
    "get_value_counts(apparel_target_binary['target'])"
   ]
  },
  {
   "cell_type": "code",
   "execution_count": 76,
   "metadata": {
    "colab": {
     "base_uri": "https://localhost:8080/",
     "height": 407
    },
    "id": "Fpy3O8NnGV5o",
    "outputId": "365cab48-a353-4f63-c8d1-b12714f9e999"
   },
   "outputs": [
    {
     "data": {
      "image/png": "[encoded data removed]",
      "text/plain": [
       "<Figure size 400x400 with 1 Axes>"
      ]
     },
     "metadata": {},
     "output_type": "display_data"
    }
   ],
   "source": [
    "plot_pie_chart(apparel_target_binary['target'])"
   ]
  },
  {
   "cell_type": "markdown",
   "metadata": {
    "id": "6kCIQvl0Graz"
   },
   "source": [
    "Видим крайне сильный дизбаланс в сторону класса `0`."
   ]
  },
  {
   "cell_type": "markdown",
   "metadata": {
    "id": "xi-aZrRFG9yn"
   },
   "source": [
    "Датасет содержит информацию о целевом признаке - совершил ли клиент покупку в целевом периоде.\n",
    "\n",
    "В датасете всего 2 столбца:\n",
    "- `client_id` - идентификатор клиента, который будет использован для объединения таблиц\n",
    "- `target` - целевой признак\n",
    "\n",
    "Пропусков в датасете нет, полные дубликаты не обнаружены."
   ]
  },
  {
   "cell_type": "markdown",
   "metadata": {
    "id": "1cHITD5JHAVT"
   },
   "source": [
    "Далее преобразуем датафрейм `apparel_messages`"
   ]
  },
  {
   "cell_type": "code",
   "execution_count": 77,
   "metadata": {
    "colab": {
     "base_uri": "https://localhost:8080/",
     "height": 206
    },
    "id": "aocxicTdGtOJ",
    "outputId": "2cefba0a-c2a7-45ba-f3e5-5895db0d8b14"
   },
   "outputs": [
    {
     "data": {
      "text/html": [
       "<div>\n",
       "<style scoped>\n",
       "    .dataframe tbody tr th:only-of-type {\n",
       "        vertical-align: middle;\n",
       "    }\n",
       "\n",
       "    .dataframe tbody tr th {\n",
       "        vertical-align: top;\n",
       "    }\n",
       "\n",
       "    .dataframe thead th {\n",
       "        text-align: right;\n",
       "    }\n",
       "</style>\n",
       "<table border=\"1\" class=\"dataframe\">\n",
       "  <thead>\n",
       "    <tr style=\"text-align: right;\">\n",
       "      <th></th>\n",
       "      <th>bulk_campaign_id</th>\n",
       "      <th>client_id</th>\n",
       "      <th>message_id</th>\n",
       "      <th>event</th>\n",
       "      <th>channel</th>\n",
       "      <th>created_at</th>\n",
       "    </tr>\n",
       "  </thead>\n",
       "  <tbody>\n",
       "    <tr>\n",
       "      <th>0</th>\n",
       "      <td>4439</td>\n",
       "      <td>1515915625626736623</td>\n",
       "      <td>1515915625626736623-4439-6283415ac07ea</td>\n",
       "      <td>open</td>\n",
       "      <td>email</td>\n",
       "      <td>2022-05-19 00:14:20</td>\n",
       "    </tr>\n",
       "    <tr>\n",
       "      <th>1</th>\n",
       "      <td>4439</td>\n",
       "      <td>1515915625490086521</td>\n",
       "      <td>1515915625490086521-4439-62834150016dd</td>\n",
       "      <td>open</td>\n",
       "      <td>email</td>\n",
       "      <td>2022-05-19 00:39:34</td>\n",
       "    </tr>\n",
       "    <tr>\n",
       "      <th>2</th>\n",
       "      <td>4439</td>\n",
       "      <td>1515915625553578558</td>\n",
       "      <td>1515915625553578558-4439-6283415b36b4f</td>\n",
       "      <td>open</td>\n",
       "      <td>email</td>\n",
       "      <td>2022-05-19 00:51:49</td>\n",
       "    </tr>\n",
       "    <tr>\n",
       "      <th>3</th>\n",
       "      <td>4439</td>\n",
       "      <td>1515915625553578558</td>\n",
       "      <td>1515915625553578558-4439-6283415b36b4f</td>\n",
       "      <td>click</td>\n",
       "      <td>email</td>\n",
       "      <td>2022-05-19 00:52:20</td>\n",
       "    </tr>\n",
       "    <tr>\n",
       "      <th>4</th>\n",
       "      <td>4439</td>\n",
       "      <td>1515915625471518311</td>\n",
       "      <td>1515915625471518311-4439-628341570c133</td>\n",
       "      <td>open</td>\n",
       "      <td>email</td>\n",
       "      <td>2022-05-19 00:56:52</td>\n",
       "    </tr>\n",
       "  </tbody>\n",
       "</table>\n",
       "</div>"
      ],
      "text/plain": [
       "   bulk_campaign_id            client_id  \\\n",
       "0              4439  1515915625626736623   \n",
       "1              4439  1515915625490086521   \n",
       "2              4439  1515915625553578558   \n",
       "3              4439  1515915625553578558   \n",
       "4              4439  1515915625471518311   \n",
       "\n",
       "                               message_id  event channel          created_at  \n",
       "0  1515915625626736623-4439-6283415ac07ea   open   email 2022-05-19 00:14:20  \n",
       "1  1515915625490086521-4439-62834150016dd   open   email 2022-05-19 00:39:34  \n",
       "2  1515915625553578558-4439-6283415b36b4f   open   email 2022-05-19 00:51:49  \n",
       "3  1515915625553578558-4439-6283415b36b4f  click   email 2022-05-19 00:52:20  \n",
       "4  1515915625471518311-4439-628341570c133   open   email 2022-05-19 00:56:52  "
      ]
     },
     "execution_count": 77,
     "metadata": {},
     "output_type": "execute_result"
    }
   ],
   "source": [
    "apparel_messages.head()"
   ]
  },
  {
   "cell_type": "markdown",
   "metadata": {
    "id": "HmLDQWWSHIcp"
   },
   "source": [
    "создадим аггрегированный датафрейм"
   ]
  },
  {
   "cell_type": "code",
   "execution_count": 78,
   "metadata": {
    "colab": {
     "base_uri": "https://localhost:8080/",
     "height": 257
    },
    "id": "QTvUzcsDHIAh",
    "outputId": "8889f6f3-14c6-4064-a37c-d445e7b6369d"
   },
   "outputs": [
    {
     "data": {
      "text/html": [
       "<div>\n",
       "<style scoped>\n",
       "    .dataframe tbody tr th:only-of-type {\n",
       "        vertical-align: middle;\n",
       "    }\n",
       "\n",
       "    .dataframe tbody tr th {\n",
       "        vertical-align: top;\n",
       "    }\n",
       "\n",
       "    .dataframe thead th {\n",
       "        text-align: right;\n",
       "    }\n",
       "</style>\n",
       "<table border=\"1\" class=\"dataframe\">\n",
       "  <thead>\n",
       "    <tr style=\"text-align: right;\">\n",
       "      <th></th>\n",
       "      <th>email_click_cnt</th>\n",
       "      <th>email_complain_cnt</th>\n",
       "      <th>email_hard_bounce_cnt</th>\n",
       "      <th>email_hbq_spam_cnt</th>\n",
       "      <th>email_open_cnt</th>\n",
       "      <th>email_purchase_cnt</th>\n",
       "      <th>email_send_cnt</th>\n",
       "      <th>email_soft_bounce_cnt</th>\n",
       "      <th>email_subscribe_cnt</th>\n",
       "      <th>email_unsubscribe_cnt</th>\n",
       "      <th>mobile_push_click_cnt</th>\n",
       "      <th>mobile_push_close_cnt</th>\n",
       "      <th>mobile_push_hard_bounce_cnt</th>\n",
       "      <th>mobile_push_open_cnt</th>\n",
       "      <th>mobile_push_purchase_cnt</th>\n",
       "      <th>mobile_push_send_cnt</th>\n",
       "      <th>mobile_push_soft_bounce_cnt</th>\n",
       "    </tr>\n",
       "    <tr>\n",
       "      <th>client_id</th>\n",
       "      <th></th>\n",
       "      <th></th>\n",
       "      <th></th>\n",
       "      <th></th>\n",
       "      <th></th>\n",
       "      <th></th>\n",
       "      <th></th>\n",
       "      <th></th>\n",
       "      <th></th>\n",
       "      <th></th>\n",
       "      <th></th>\n",
       "      <th></th>\n",
       "      <th></th>\n",
       "      <th></th>\n",
       "      <th></th>\n",
       "      <th></th>\n",
       "      <th></th>\n",
       "    </tr>\n",
       "  </thead>\n",
       "  <tbody>\n",
       "    <tr>\n",
       "      <th>1515915625468060902</th>\n",
       "      <td>10</td>\n",
       "      <td>0</td>\n",
       "      <td>0</td>\n",
       "      <td>0</td>\n",
       "      <td>35</td>\n",
       "      <td>5</td>\n",
       "      <td>126</td>\n",
       "      <td>0</td>\n",
       "      <td>0</td>\n",
       "      <td>1</td>\n",
       "      <td>0</td>\n",
       "      <td>0</td>\n",
       "      <td>0</td>\n",
       "      <td>0</td>\n",
       "      <td>0</td>\n",
       "      <td>0</td>\n",
       "      <td>0</td>\n",
       "    </tr>\n",
       "    <tr>\n",
       "      <th>1515915625468061003</th>\n",
       "      <td>5</td>\n",
       "      <td>0</td>\n",
       "      <td>0</td>\n",
       "      <td>0</td>\n",
       "      <td>5</td>\n",
       "      <td>1</td>\n",
       "      <td>154</td>\n",
       "      <td>0</td>\n",
       "      <td>0</td>\n",
       "      <td>0</td>\n",
       "      <td>0</td>\n",
       "      <td>0</td>\n",
       "      <td>0</td>\n",
       "      <td>0</td>\n",
       "      <td>0</td>\n",
       "      <td>0</td>\n",
       "      <td>0</td>\n",
       "    </tr>\n",
       "    <tr>\n",
       "      <th>1515915625468061099</th>\n",
       "      <td>8</td>\n",
       "      <td>0</td>\n",
       "      <td>0</td>\n",
       "      <td>0</td>\n",
       "      <td>17</td>\n",
       "      <td>0</td>\n",
       "      <td>157</td>\n",
       "      <td>0</td>\n",
       "      <td>0</td>\n",
       "      <td>0</td>\n",
       "      <td>0</td>\n",
       "      <td>0</td>\n",
       "      <td>2</td>\n",
       "      <td>34</td>\n",
       "      <td>0</td>\n",
       "      <td>58</td>\n",
       "      <td>0</td>\n",
       "    </tr>\n",
       "    <tr>\n",
       "      <th>1515915625468061100</th>\n",
       "      <td>0</td>\n",
       "      <td>0</td>\n",
       "      <td>0</td>\n",
       "      <td>0</td>\n",
       "      <td>0</td>\n",
       "      <td>0</td>\n",
       "      <td>0</td>\n",
       "      <td>0</td>\n",
       "      <td>0</td>\n",
       "      <td>0</td>\n",
       "      <td>1</td>\n",
       "      <td>0</td>\n",
       "      <td>1</td>\n",
       "      <td>157</td>\n",
       "      <td>1</td>\n",
       "      <td>267</td>\n",
       "      <td>1</td>\n",
       "    </tr>\n",
       "    <tr>\n",
       "      <th>1515915625468061170</th>\n",
       "      <td>16</td>\n",
       "      <td>0</td>\n",
       "      <td>0</td>\n",
       "      <td>0</td>\n",
       "      <td>19</td>\n",
       "      <td>3</td>\n",
       "      <td>164</td>\n",
       "      <td>0</td>\n",
       "      <td>0</td>\n",
       "      <td>0</td>\n",
       "      <td>0</td>\n",
       "      <td>0</td>\n",
       "      <td>0</td>\n",
       "      <td>12</td>\n",
       "      <td>0</td>\n",
       "      <td>79</td>\n",
       "      <td>0</td>\n",
       "    </tr>\n",
       "  </tbody>\n",
       "</table>\n",
       "</div>"
      ],
      "text/plain": [
       "                     email_click_cnt  email_complain_cnt  \\\n",
       "client_id                                                  \n",
       "1515915625468060902               10                   0   \n",
       "1515915625468061003                5                   0   \n",
       "1515915625468061099                8                   0   \n",
       "1515915625468061100                0                   0   \n",
       "1515915625468061170               16                   0   \n",
       "\n",
       "                     email_hard_bounce_cnt  email_hbq_spam_cnt  \\\n",
       "client_id                                                        \n",
       "1515915625468060902                      0                   0   \n",
       "1515915625468061003                      0                   0   \n",
       "1515915625468061099                      0                   0   \n",
       "1515915625468061100                      0                   0   \n",
       "1515915625468061170                      0                   0   \n",
       "\n",
       "                     email_open_cnt  email_purchase_cnt  email_send_cnt  \\\n",
       "client_id                                                                 \n",
       "1515915625468060902              35                   5             126   \n",
       "1515915625468061003               5                   1             154   \n",
       "1515915625468061099              17                   0             157   \n",
       "1515915625468061100               0                   0               0   \n",
       "1515915625468061170              19                   3             164   \n",
       "\n",
       "                     email_soft_bounce_cnt  email_subscribe_cnt  \\\n",
       "client_id                                                         \n",
       "1515915625468060902                      0                    0   \n",
       "1515915625468061003                      0                    0   \n",
       "1515915625468061099                      0                    0   \n",
       "1515915625468061100                      0                    0   \n",
       "1515915625468061170                      0                    0   \n",
       "\n",
       "                     email_unsubscribe_cnt  mobile_push_click_cnt  \\\n",
       "client_id                                                           \n",
       "1515915625468060902                      1                      0   \n",
       "1515915625468061003                      0                      0   \n",
       "1515915625468061099                      0                      0   \n",
       "1515915625468061100                      0                      1   \n",
       "1515915625468061170                      0                      0   \n",
       "\n",
       "                     mobile_push_close_cnt  mobile_push_hard_bounce_cnt  \\\n",
       "client_id                                                                 \n",
       "1515915625468060902                      0                            0   \n",
       "1515915625468061003                      0                            0   \n",
       "1515915625468061099                      0                            2   \n",
       "1515915625468061100                      0                            1   \n",
       "1515915625468061170                      0                            0   \n",
       "\n",
       "                     mobile_push_open_cnt  mobile_push_purchase_cnt  \\\n",
       "client_id                                                             \n",
       "1515915625468060902                     0                         0   \n",
       "1515915625468061003                     0                         0   \n",
       "1515915625468061099                    34                         0   \n",
       "1515915625468061100                   157                         1   \n",
       "1515915625468061170                    12                         0   \n",
       "\n",
       "                     mobile_push_send_cnt  mobile_push_soft_bounce_cnt  \n",
       "client_id                                                               \n",
       "1515915625468060902                     0                            0  \n",
       "1515915625468061003                     0                            0  \n",
       "1515915625468061099                    58                            0  \n",
       "1515915625468061100                   267                            1  \n",
       "1515915625468061170                    79                            0  "
      ]
     },
     "execution_count": 78,
     "metadata": {},
     "output_type": "execute_result"
    }
   ],
   "source": [
    "aggregated_df = apparel_messages.groupby(['client_id', 'channel', 'event']).size().reset_index(name='count')\n",
    "apparel_messages_agg = aggregated_df.pivot_table(index='client_id', columns=['channel', 'event'], values='count', fill_value=0)\n",
    "apparel_messages_agg.columns = [f'{channel}_{event}_cnt' for channel, event in apparel_messages_agg.columns]\n",
    "apparel_messages_agg.head()"
   ]
  },
  {
   "cell_type": "markdown",
   "metadata": {
    "id": "LomEk3h1IPRE"
   },
   "source": [
    "далее преобразуем `apparel_purchases`"
   ]
  },
  {
   "cell_type": "code",
   "execution_count": 79,
   "metadata": {
    "colab": {
     "base_uri": "https://localhost:8080/",
     "height": 206
    },
    "id": "7SO-ebpzIL-S",
    "outputId": "a666b427-420a-4a3b-a841-9fc15f2b7329"
   },
   "outputs": [
    {
     "data": {
      "text/html": [
       "<div>\n",
       "<style scoped>\n",
       "    .dataframe tbody tr th:only-of-type {\n",
       "        vertical-align: middle;\n",
       "    }\n",
       "\n",
       "    .dataframe tbody tr th {\n",
       "        vertical-align: top;\n",
       "    }\n",
       "\n",
       "    .dataframe thead th {\n",
       "        text-align: right;\n",
       "    }\n",
       "</style>\n",
       "<table border=\"1\" class=\"dataframe\">\n",
       "  <thead>\n",
       "    <tr style=\"text-align: right;\">\n",
       "      <th></th>\n",
       "      <th>category_ids</th>\n",
       "      <th>client_id</th>\n",
       "      <th>date</th>\n",
       "      <th>message_id</th>\n",
       "      <th>price</th>\n",
       "      <th>quantity</th>\n",
       "    </tr>\n",
       "  </thead>\n",
       "  <tbody>\n",
       "    <tr>\n",
       "      <th>0</th>\n",
       "      <td>['1', '22', '50', '685']</td>\n",
       "      <td>1515915625489044168</td>\n",
       "      <td>2022-07-12</td>\n",
       "      <td>1515915625489044168-5335-62c7d2d6bd056</td>\n",
       "      <td>1799.00</td>\n",
       "      <td>1</td>\n",
       "    </tr>\n",
       "    <tr>\n",
       "      <th>1</th>\n",
       "      <td>['1', '22', '50', '685']</td>\n",
       "      <td>1515915625789566616</td>\n",
       "      <td>2022-08-07</td>\n",
       "      <td>1515915625789566616-5785-62ecc38c85606</td>\n",
       "      <td>1799.00</td>\n",
       "      <td>1</td>\n",
       "    </tr>\n",
       "    <tr>\n",
       "      <th>2</th>\n",
       "      <td>['1', '8', '280', '710']</td>\n",
       "      <td>1515915625666901395</td>\n",
       "      <td>2022-06-01</td>\n",
       "      <td>1515915625666901395-4698-62971583c7270</td>\n",
       "      <td>199.00</td>\n",
       "      <td>1</td>\n",
       "    </tr>\n",
       "    <tr>\n",
       "      <th>3</th>\n",
       "      <td>['2', '17', '107', '453']</td>\n",
       "      <td>1515915625468069875</td>\n",
       "      <td>2022-07-09</td>\n",
       "      <td>1515915625487285028-5335-62c7d2b9eef22</td>\n",
       "      <td>999.00</td>\n",
       "      <td>1</td>\n",
       "    </tr>\n",
       "    <tr>\n",
       "      <th>4</th>\n",
       "      <td>['2', '17', '107', '453']</td>\n",
       "      <td>1515915625468124765</td>\n",
       "      <td>2022-07-08</td>\n",
       "      <td>1515915625468124765-5335-62c7d2d245db8</td>\n",
       "      <td>999.00</td>\n",
       "      <td>1</td>\n",
       "    </tr>\n",
       "  </tbody>\n",
       "</table>\n",
       "</div>"
      ],
      "text/plain": [
       "                category_ids            client_id       date  \\\n",
       "0   ['1', '22', '50', '685']  1515915625489044168 2022-07-12   \n",
       "1   ['1', '22', '50', '685']  1515915625789566616 2022-08-07   \n",
       "2   ['1', '8', '280', '710']  1515915625666901395 2022-06-01   \n",
       "3  ['2', '17', '107', '453']  1515915625468069875 2022-07-09   \n",
       "4  ['2', '17', '107', '453']  1515915625468124765 2022-07-08   \n",
       "\n",
       "                               message_id   price  quantity  \n",
       "0  1515915625489044168-5335-62c7d2d6bd056 1799.00         1  \n",
       "1  1515915625789566616-5785-62ecc38c85606 1799.00         1  \n",
       "2  1515915625666901395-4698-62971583c7270  199.00         1  \n",
       "3  1515915625487285028-5335-62c7d2b9eef22  999.00         1  \n",
       "4  1515915625468124765-5335-62c7d2d245db8  999.00         1  "
      ]
     },
     "execution_count": 79,
     "metadata": {},
     "output_type": "execute_result"
    }
   ],
   "source": [
    "apparel_purchases.head()"
   ]
  },
  {
   "cell_type": "code",
   "execution_count": 80,
   "metadata": {
    "colab": {
     "base_uri": "https://localhost:8080/"
    },
    "id": "4HPYnL1GIUYk",
    "outputId": "2e5a5f5d-070d-4b84-a9e0-197e63f265a0"
   },
   "outputs": [
    {
     "data": {
      "text/plain": [
       "(129018, 49849, 50204)"
      ]
     },
     "execution_count": 80,
     "metadata": {},
     "output_type": "execute_result"
    }
   ],
   "source": [
    "len(apparel_purchases), apparel_purchases['client_id'].nunique(), apparel_purchases['message_id'].nunique()"
   ]
  },
  {
   "cell_type": "code",
   "execution_count": 81,
   "metadata": {
    "id": "kegqJlhNIYFV"
   },
   "outputs": [],
   "source": [
    "apparel_purchases['subtotal'] = apparel_purchases['price'] * apparel_purchases['quantity']"
   ]
  },
  {
   "cell_type": "code",
   "execution_count": 82,
   "metadata": {
    "id": "byAqimH9Idt-"
   },
   "outputs": [],
   "source": [
    "apparel_purchases_agg = pd.DataFrame(index=apparel_purchases['client_id'].unique())"
   ]
  },
  {
   "cell_type": "code",
   "execution_count": 83,
   "metadata": {
    "id": "0NEavT1sIg3h"
   },
   "outputs": [],
   "source": [
    "apparel_purchases_agg['total'] = apparel_purchases.groupby('client_id')['subtotal'].sum()"
   ]
  },
  {
   "cell_type": "code",
   "execution_count": 84,
   "metadata": {
    "colab": {
     "base_uri": "https://localhost:8080/",
     "height": 206
    },
    "id": "DH0GTxH3IlCR",
    "outputId": "85ce1617-5d21-4bb2-b1af-bbf7afe0077d"
   },
   "outputs": [
    {
     "data": {
      "text/html": [
       "<div>\n",
       "<style scoped>\n",
       "    .dataframe tbody tr th:only-of-type {\n",
       "        vertical-align: middle;\n",
       "    }\n",
       "\n",
       "    .dataframe tbody tr th {\n",
       "        vertical-align: top;\n",
       "    }\n",
       "\n",
       "    .dataframe thead th {\n",
       "        text-align: right;\n",
       "    }\n",
       "</style>\n",
       "<table border=\"1\" class=\"dataframe\">\n",
       "  <thead>\n",
       "    <tr style=\"text-align: right;\">\n",
       "      <th></th>\n",
       "      <th>total</th>\n",
       "    </tr>\n",
       "  </thead>\n",
       "  <tbody>\n",
       "    <tr>\n",
       "      <th>1515915625489044168</th>\n",
       "      <td>3996.00</td>\n",
       "    </tr>\n",
       "    <tr>\n",
       "      <th>1515915625789566616</th>\n",
       "      <td>3198.00</td>\n",
       "    </tr>\n",
       "    <tr>\n",
       "      <th>1515915625666901395</th>\n",
       "      <td>36235.00</td>\n",
       "    </tr>\n",
       "    <tr>\n",
       "      <th>1515915625468069875</th>\n",
       "      <td>1397.00</td>\n",
       "    </tr>\n",
       "    <tr>\n",
       "      <th>1515915625468124765</th>\n",
       "      <td>999.00</td>\n",
       "    </tr>\n",
       "  </tbody>\n",
       "</table>\n",
       "</div>"
      ],
      "text/plain": [
       "                       total\n",
       "1515915625489044168  3996.00\n",
       "1515915625789566616  3198.00\n",
       "1515915625666901395 36235.00\n",
       "1515915625468069875  1397.00\n",
       "1515915625468124765   999.00"
      ]
     },
     "execution_count": 84,
     "metadata": {},
     "output_type": "execute_result"
    }
   ],
   "source": [
    "apparel_purchases_agg.head()"
   ]
  },
  {
   "cell_type": "code",
   "execution_count": 85,
   "metadata": {
    "id": "P3-uHqbrIn-T"
   },
   "outputs": [],
   "source": [
    "assert len(apparel_purchases_agg) == apparel_purchases['client_id'].nunique(),\\\n",
    "    'Количество ID сообщений не совпадает в общей и агрегированной таблицах'"
   ]
  },
  {
   "cell_type": "markdown",
   "metadata": {
    "id": "WbFXOYsoIqDo"
   },
   "source": [
    "### Объединение датафреймов"
   ]
  },
  {
   "cell_type": "code",
   "execution_count": 86,
   "metadata": {
    "colab": {
     "base_uri": "https://localhost:8080/",
     "height": 206
    },
    "id": "Ypd-h0-1Isiw",
    "outputId": "10a3e57c-c1fa-414f-c8cf-66e96dfe921b"
   },
   "outputs": [
    {
     "data": {
      "text/html": [
       "<div>\n",
       "<style scoped>\n",
       "    .dataframe tbody tr th:only-of-type {\n",
       "        vertical-align: middle;\n",
       "    }\n",
       "\n",
       "    .dataframe tbody tr th {\n",
       "        vertical-align: top;\n",
       "    }\n",
       "\n",
       "    .dataframe thead th {\n",
       "        text-align: right;\n",
       "    }\n",
       "</style>\n",
       "<table border=\"1\" class=\"dataframe\">\n",
       "  <thead>\n",
       "    <tr style=\"text-align: right;\">\n",
       "      <th></th>\n",
       "      <th>client_id</th>\n",
       "      <th>target</th>\n",
       "    </tr>\n",
       "  </thead>\n",
       "  <tbody>\n",
       "    <tr>\n",
       "      <th>0</th>\n",
       "      <td>1515915625468060902</td>\n",
       "      <td>0</td>\n",
       "    </tr>\n",
       "    <tr>\n",
       "      <th>1</th>\n",
       "      <td>1515915625468061003</td>\n",
       "      <td>1</td>\n",
       "    </tr>\n",
       "    <tr>\n",
       "      <th>2</th>\n",
       "      <td>1515915625468061099</td>\n",
       "      <td>0</td>\n",
       "    </tr>\n",
       "    <tr>\n",
       "      <th>3</th>\n",
       "      <td>1515915625468061100</td>\n",
       "      <td>0</td>\n",
       "    </tr>\n",
       "    <tr>\n",
       "      <th>4</th>\n",
       "      <td>1515915625468061170</td>\n",
       "      <td>0</td>\n",
       "    </tr>\n",
       "  </tbody>\n",
       "</table>\n",
       "</div>"
      ],
      "text/plain": [
       "             client_id  target\n",
       "0  1515915625468060902       0\n",
       "1  1515915625468061003       1\n",
       "2  1515915625468061099       0\n",
       "3  1515915625468061100       0\n",
       "4  1515915625468061170       0"
      ]
     },
     "execution_count": 86,
     "metadata": {},
     "output_type": "execute_result"
    }
   ],
   "source": [
    "apparel_target_binary.sort_index().head()"
   ]
  },
  {
   "cell_type": "code",
   "execution_count": 87,
   "metadata": {
    "colab": {
     "base_uri": "https://localhost:8080/",
     "height": 206
    },
    "id": "rYKJyfObIu6D",
    "outputId": "088d0c05-1a94-4fd3-ec2e-b5214bbe22d0"
   },
   "outputs": [
    {
     "data": {
      "text/html": [
       "<div>\n",
       "<style scoped>\n",
       "    .dataframe tbody tr th:only-of-type {\n",
       "        vertical-align: middle;\n",
       "    }\n",
       "\n",
       "    .dataframe tbody tr th {\n",
       "        vertical-align: top;\n",
       "    }\n",
       "\n",
       "    .dataframe thead th {\n",
       "        text-align: right;\n",
       "    }\n",
       "</style>\n",
       "<table border=\"1\" class=\"dataframe\">\n",
       "  <thead>\n",
       "    <tr style=\"text-align: right;\">\n",
       "      <th></th>\n",
       "      <th>total</th>\n",
       "    </tr>\n",
       "  </thead>\n",
       "  <tbody>\n",
       "    <tr>\n",
       "      <th>1515915625468060902</th>\n",
       "      <td>6993.00</td>\n",
       "    </tr>\n",
       "    <tr>\n",
       "      <th>1515915625468061003</th>\n",
       "      <td>16235.00</td>\n",
       "    </tr>\n",
       "    <tr>\n",
       "      <th>1515915625468061099</th>\n",
       "      <td>299.00</td>\n",
       "    </tr>\n",
       "    <tr>\n",
       "      <th>1515915625468061100</th>\n",
       "      <td>2098.00</td>\n",
       "    </tr>\n",
       "    <tr>\n",
       "      <th>1515915625468061170</th>\n",
       "      <td>33601.00</td>\n",
       "    </tr>\n",
       "  </tbody>\n",
       "</table>\n",
       "</div>"
      ],
      "text/plain": [
       "                       total\n",
       "1515915625468060902  6993.00\n",
       "1515915625468061003 16235.00\n",
       "1515915625468061099   299.00\n",
       "1515915625468061100  2098.00\n",
       "1515915625468061170 33601.00"
      ]
     },
     "execution_count": 87,
     "metadata": {},
     "output_type": "execute_result"
    }
   ],
   "source": [
    "apparel_purchases_agg.sort_index().head()"
   ]
  },
  {
   "cell_type": "code",
   "execution_count": 88,
   "metadata": {
    "id": "NldhUV-hIxUZ"
   },
   "outputs": [],
   "source": [
    "assert len(apparel_target_binary) == len(apparel_purchases_agg),\\\n",
    "    'Количество ID клиентов не совпадает (или есть дубликаты)'"
   ]
  },
  {
   "cell_type": "code",
   "execution_count": 89,
   "metadata": {
    "colab": {
     "base_uri": "https://localhost:8080/",
     "height": 206
    },
    "id": "2IqAtAaFIzQF",
    "outputId": "47cdac8f-84f2-45f0-f6f3-a2c6f8bb9ffb"
   },
   "outputs": [
    {
     "data": {
      "text/html": [
       "<div>\n",
       "<style scoped>\n",
       "    .dataframe tbody tr th:only-of-type {\n",
       "        vertical-align: middle;\n",
       "    }\n",
       "\n",
       "    .dataframe tbody tr th {\n",
       "        vertical-align: top;\n",
       "    }\n",
       "\n",
       "    .dataframe thead th {\n",
       "        text-align: right;\n",
       "    }\n",
       "</style>\n",
       "<table border=\"1\" class=\"dataframe\">\n",
       "  <thead>\n",
       "    <tr style=\"text-align: right;\">\n",
       "      <th></th>\n",
       "      <th>client_id</th>\n",
       "      <th>target</th>\n",
       "      <th>total</th>\n",
       "    </tr>\n",
       "  </thead>\n",
       "  <tbody>\n",
       "    <tr>\n",
       "      <th>0</th>\n",
       "      <td>1515915625468060902</td>\n",
       "      <td>0</td>\n",
       "      <td>6993.00</td>\n",
       "    </tr>\n",
       "    <tr>\n",
       "      <th>1</th>\n",
       "      <td>1515915625468061003</td>\n",
       "      <td>1</td>\n",
       "      <td>16235.00</td>\n",
       "    </tr>\n",
       "    <tr>\n",
       "      <th>2</th>\n",
       "      <td>1515915625468061099</td>\n",
       "      <td>0</td>\n",
       "      <td>299.00</td>\n",
       "    </tr>\n",
       "    <tr>\n",
       "      <th>3</th>\n",
       "      <td>1515915625468061100</td>\n",
       "      <td>0</td>\n",
       "      <td>2098.00</td>\n",
       "    </tr>\n",
       "    <tr>\n",
       "      <th>4</th>\n",
       "      <td>1515915625468061170</td>\n",
       "      <td>0</td>\n",
       "      <td>33601.00</td>\n",
       "    </tr>\n",
       "  </tbody>\n",
       "</table>\n",
       "</div>"
      ],
      "text/plain": [
       "             client_id  target    total\n",
       "0  1515915625468060902       0  6993.00\n",
       "1  1515915625468061003       1 16235.00\n",
       "2  1515915625468061099       0   299.00\n",
       "3  1515915625468061100       0  2098.00\n",
       "4  1515915625468061170       0 33601.00"
      ]
     },
     "execution_count": 89,
     "metadata": {},
     "output_type": "execute_result"
    }
   ],
   "source": [
    "df = pd.merge(apparel_target_binary, apparel_purchases_agg, how='left', left_on='client_id', right_index=True)\n",
    "df.head()"
   ]
  },
  {
   "cell_type": "code",
   "execution_count": 90,
   "metadata": {
    "colab": {
     "base_uri": "https://localhost:8080/",
     "height": 257
    },
    "id": "Is8LHq_aIz7G",
    "outputId": "4e99da8d-7fec-4236-d9ff-836bb0b43e59"
   },
   "outputs": [
    {
     "data": {
      "text/html": [
       "<div>\n",
       "<style scoped>\n",
       "    .dataframe tbody tr th:only-of-type {\n",
       "        vertical-align: middle;\n",
       "    }\n",
       "\n",
       "    .dataframe tbody tr th {\n",
       "        vertical-align: top;\n",
       "    }\n",
       "\n",
       "    .dataframe thead th {\n",
       "        text-align: right;\n",
       "    }\n",
       "</style>\n",
       "<table border=\"1\" class=\"dataframe\">\n",
       "  <thead>\n",
       "    <tr style=\"text-align: right;\">\n",
       "      <th></th>\n",
       "      <th>email_click_cnt</th>\n",
       "      <th>email_complain_cnt</th>\n",
       "      <th>email_hard_bounce_cnt</th>\n",
       "      <th>email_hbq_spam_cnt</th>\n",
       "      <th>email_open_cnt</th>\n",
       "      <th>email_purchase_cnt</th>\n",
       "      <th>email_send_cnt</th>\n",
       "      <th>email_soft_bounce_cnt</th>\n",
       "      <th>email_subscribe_cnt</th>\n",
       "      <th>email_unsubscribe_cnt</th>\n",
       "      <th>mobile_push_click_cnt</th>\n",
       "      <th>mobile_push_close_cnt</th>\n",
       "      <th>mobile_push_hard_bounce_cnt</th>\n",
       "      <th>mobile_push_open_cnt</th>\n",
       "      <th>mobile_push_purchase_cnt</th>\n",
       "      <th>mobile_push_send_cnt</th>\n",
       "      <th>mobile_push_soft_bounce_cnt</th>\n",
       "    </tr>\n",
       "    <tr>\n",
       "      <th>client_id</th>\n",
       "      <th></th>\n",
       "      <th></th>\n",
       "      <th></th>\n",
       "      <th></th>\n",
       "      <th></th>\n",
       "      <th></th>\n",
       "      <th></th>\n",
       "      <th></th>\n",
       "      <th></th>\n",
       "      <th></th>\n",
       "      <th></th>\n",
       "      <th></th>\n",
       "      <th></th>\n",
       "      <th></th>\n",
       "      <th></th>\n",
       "      <th></th>\n",
       "      <th></th>\n",
       "    </tr>\n",
       "  </thead>\n",
       "  <tbody>\n",
       "    <tr>\n",
       "      <th>1515915625468060902</th>\n",
       "      <td>10</td>\n",
       "      <td>0</td>\n",
       "      <td>0</td>\n",
       "      <td>0</td>\n",
       "      <td>35</td>\n",
       "      <td>5</td>\n",
       "      <td>126</td>\n",
       "      <td>0</td>\n",
       "      <td>0</td>\n",
       "      <td>1</td>\n",
       "      <td>0</td>\n",
       "      <td>0</td>\n",
       "      <td>0</td>\n",
       "      <td>0</td>\n",
       "      <td>0</td>\n",
       "      <td>0</td>\n",
       "      <td>0</td>\n",
       "    </tr>\n",
       "    <tr>\n",
       "      <th>1515915625468061003</th>\n",
       "      <td>5</td>\n",
       "      <td>0</td>\n",
       "      <td>0</td>\n",
       "      <td>0</td>\n",
       "      <td>5</td>\n",
       "      <td>1</td>\n",
       "      <td>154</td>\n",
       "      <td>0</td>\n",
       "      <td>0</td>\n",
       "      <td>0</td>\n",
       "      <td>0</td>\n",
       "      <td>0</td>\n",
       "      <td>0</td>\n",
       "      <td>0</td>\n",
       "      <td>0</td>\n",
       "      <td>0</td>\n",
       "      <td>0</td>\n",
       "    </tr>\n",
       "    <tr>\n",
       "      <th>1515915625468061099</th>\n",
       "      <td>8</td>\n",
       "      <td>0</td>\n",
       "      <td>0</td>\n",
       "      <td>0</td>\n",
       "      <td>17</td>\n",
       "      <td>0</td>\n",
       "      <td>157</td>\n",
       "      <td>0</td>\n",
       "      <td>0</td>\n",
       "      <td>0</td>\n",
       "      <td>0</td>\n",
       "      <td>0</td>\n",
       "      <td>2</td>\n",
       "      <td>34</td>\n",
       "      <td>0</td>\n",
       "      <td>58</td>\n",
       "      <td>0</td>\n",
       "    </tr>\n",
       "    <tr>\n",
       "      <th>1515915625468061100</th>\n",
       "      <td>0</td>\n",
       "      <td>0</td>\n",
       "      <td>0</td>\n",
       "      <td>0</td>\n",
       "      <td>0</td>\n",
       "      <td>0</td>\n",
       "      <td>0</td>\n",
       "      <td>0</td>\n",
       "      <td>0</td>\n",
       "      <td>0</td>\n",
       "      <td>1</td>\n",
       "      <td>0</td>\n",
       "      <td>1</td>\n",
       "      <td>157</td>\n",
       "      <td>1</td>\n",
       "      <td>267</td>\n",
       "      <td>1</td>\n",
       "    </tr>\n",
       "    <tr>\n",
       "      <th>1515915625468061170</th>\n",
       "      <td>16</td>\n",
       "      <td>0</td>\n",
       "      <td>0</td>\n",
       "      <td>0</td>\n",
       "      <td>19</td>\n",
       "      <td>3</td>\n",
       "      <td>164</td>\n",
       "      <td>0</td>\n",
       "      <td>0</td>\n",
       "      <td>0</td>\n",
       "      <td>0</td>\n",
       "      <td>0</td>\n",
       "      <td>0</td>\n",
       "      <td>12</td>\n",
       "      <td>0</td>\n",
       "      <td>79</td>\n",
       "      <td>0</td>\n",
       "    </tr>\n",
       "  </tbody>\n",
       "</table>\n",
       "</div>"
      ],
      "text/plain": [
       "                     email_click_cnt  email_complain_cnt  \\\n",
       "client_id                                                  \n",
       "1515915625468060902               10                   0   \n",
       "1515915625468061003                5                   0   \n",
       "1515915625468061099                8                   0   \n",
       "1515915625468061100                0                   0   \n",
       "1515915625468061170               16                   0   \n",
       "\n",
       "                     email_hard_bounce_cnt  email_hbq_spam_cnt  \\\n",
       "client_id                                                        \n",
       "1515915625468060902                      0                   0   \n",
       "1515915625468061003                      0                   0   \n",
       "1515915625468061099                      0                   0   \n",
       "1515915625468061100                      0                   0   \n",
       "1515915625468061170                      0                   0   \n",
       "\n",
       "                     email_open_cnt  email_purchase_cnt  email_send_cnt  \\\n",
       "client_id                                                                 \n",
       "1515915625468060902              35                   5             126   \n",
       "1515915625468061003               5                   1             154   \n",
       "1515915625468061099              17                   0             157   \n",
       "1515915625468061100               0                   0               0   \n",
       "1515915625468061170              19                   3             164   \n",
       "\n",
       "                     email_soft_bounce_cnt  email_subscribe_cnt  \\\n",
       "client_id                                                         \n",
       "1515915625468060902                      0                    0   \n",
       "1515915625468061003                      0                    0   \n",
       "1515915625468061099                      0                    0   \n",
       "1515915625468061100                      0                    0   \n",
       "1515915625468061170                      0                    0   \n",
       "\n",
       "                     email_unsubscribe_cnt  mobile_push_click_cnt  \\\n",
       "client_id                                                           \n",
       "1515915625468060902                      1                      0   \n",
       "1515915625468061003                      0                      0   \n",
       "1515915625468061099                      0                      0   \n",
       "1515915625468061100                      0                      1   \n",
       "1515915625468061170                      0                      0   \n",
       "\n",
       "                     mobile_push_close_cnt  mobile_push_hard_bounce_cnt  \\\n",
       "client_id                                                                 \n",
       "1515915625468060902                      0                            0   \n",
       "1515915625468061003                      0                            0   \n",
       "1515915625468061099                      0                            2   \n",
       "1515915625468061100                      0                            1   \n",
       "1515915625468061170                      0                            0   \n",
       "\n",
       "                     mobile_push_open_cnt  mobile_push_purchase_cnt  \\\n",
       "client_id                                                             \n",
       "1515915625468060902                     0                         0   \n",
       "1515915625468061003                     0                         0   \n",
       "1515915625468061099                    34                         0   \n",
       "1515915625468061100                   157                         1   \n",
       "1515915625468061170                    12                         0   \n",
       "\n",
       "                     mobile_push_send_cnt  mobile_push_soft_bounce_cnt  \n",
       "client_id                                                               \n",
       "1515915625468060902                     0                            0  \n",
       "1515915625468061003                     0                            0  \n",
       "1515915625468061099                    58                            0  \n",
       "1515915625468061100                   267                            1  \n",
       "1515915625468061170                    79                            0  "
      ]
     },
     "execution_count": 90,
     "metadata": {},
     "output_type": "execute_result"
    }
   ],
   "source": [
    "apparel_messages_agg.head()"
   ]
  },
  {
   "cell_type": "code",
   "execution_count": 91,
   "metadata": {
    "colab": {
     "base_uri": "https://localhost:8080/",
     "height": 257
    },
    "id": "eId0UW8_I31r",
    "outputId": "7840f2bb-e4b6-48ec-9414-3f0b54f5b97d"
   },
   "outputs": [
    {
     "data": {
      "text/html": [
       "<div>\n",
       "<style scoped>\n",
       "    .dataframe tbody tr th:only-of-type {\n",
       "        vertical-align: middle;\n",
       "    }\n",
       "\n",
       "    .dataframe tbody tr th {\n",
       "        vertical-align: top;\n",
       "    }\n",
       "\n",
       "    .dataframe thead th {\n",
       "        text-align: right;\n",
       "    }\n",
       "</style>\n",
       "<table border=\"1\" class=\"dataframe\">\n",
       "  <thead>\n",
       "    <tr style=\"text-align: right;\">\n",
       "      <th></th>\n",
       "      <th>target</th>\n",
       "      <th>total</th>\n",
       "      <th>email_click_cnt</th>\n",
       "      <th>email_complain_cnt</th>\n",
       "      <th>email_hard_bounce_cnt</th>\n",
       "      <th>email_hbq_spam_cnt</th>\n",
       "      <th>email_open_cnt</th>\n",
       "      <th>email_purchase_cnt</th>\n",
       "      <th>email_send_cnt</th>\n",
       "      <th>email_soft_bounce_cnt</th>\n",
       "      <th>email_subscribe_cnt</th>\n",
       "      <th>email_unsubscribe_cnt</th>\n",
       "      <th>mobile_push_click_cnt</th>\n",
       "      <th>mobile_push_close_cnt</th>\n",
       "      <th>mobile_push_hard_bounce_cnt</th>\n",
       "      <th>mobile_push_open_cnt</th>\n",
       "      <th>mobile_push_purchase_cnt</th>\n",
       "      <th>mobile_push_send_cnt</th>\n",
       "      <th>mobile_push_soft_bounce_cnt</th>\n",
       "    </tr>\n",
       "    <tr>\n",
       "      <th>client_id</th>\n",
       "      <th></th>\n",
       "      <th></th>\n",
       "      <th></th>\n",
       "      <th></th>\n",
       "      <th></th>\n",
       "      <th></th>\n",
       "      <th></th>\n",
       "      <th></th>\n",
       "      <th></th>\n",
       "      <th></th>\n",
       "      <th></th>\n",
       "      <th></th>\n",
       "      <th></th>\n",
       "      <th></th>\n",
       "      <th></th>\n",
       "      <th></th>\n",
       "      <th></th>\n",
       "      <th></th>\n",
       "      <th></th>\n",
       "    </tr>\n",
       "  </thead>\n",
       "  <tbody>\n",
       "    <tr>\n",
       "      <th>1515915625468060902</th>\n",
       "      <td>0</td>\n",
       "      <td>6993.00</td>\n",
       "      <td>10.00</td>\n",
       "      <td>0.00</td>\n",
       "      <td>0.00</td>\n",
       "      <td>0.00</td>\n",
       "      <td>35.00</td>\n",
       "      <td>5.00</td>\n",
       "      <td>126.00</td>\n",
       "      <td>0.00</td>\n",
       "      <td>0.00</td>\n",
       "      <td>1.00</td>\n",
       "      <td>0.00</td>\n",
       "      <td>0.00</td>\n",
       "      <td>0.00</td>\n",
       "      <td>0.00</td>\n",
       "      <td>0.00</td>\n",
       "      <td>0.00</td>\n",
       "      <td>0.00</td>\n",
       "    </tr>\n",
       "    <tr>\n",
       "      <th>1515915625468061003</th>\n",
       "      <td>1</td>\n",
       "      <td>16235.00</td>\n",
       "      <td>5.00</td>\n",
       "      <td>0.00</td>\n",
       "      <td>0.00</td>\n",
       "      <td>0.00</td>\n",
       "      <td>5.00</td>\n",
       "      <td>1.00</td>\n",
       "      <td>154.00</td>\n",
       "      <td>0.00</td>\n",
       "      <td>0.00</td>\n",
       "      <td>0.00</td>\n",
       "      <td>0.00</td>\n",
       "      <td>0.00</td>\n",
       "      <td>0.00</td>\n",
       "      <td>0.00</td>\n",
       "      <td>0.00</td>\n",
       "      <td>0.00</td>\n",
       "      <td>0.00</td>\n",
       "    </tr>\n",
       "    <tr>\n",
       "      <th>1515915625468061099</th>\n",
       "      <td>0</td>\n",
       "      <td>299.00</td>\n",
       "      <td>8.00</td>\n",
       "      <td>0.00</td>\n",
       "      <td>0.00</td>\n",
       "      <td>0.00</td>\n",
       "      <td>17.00</td>\n",
       "      <td>0.00</td>\n",
       "      <td>157.00</td>\n",
       "      <td>0.00</td>\n",
       "      <td>0.00</td>\n",
       "      <td>0.00</td>\n",
       "      <td>0.00</td>\n",
       "      <td>0.00</td>\n",
       "      <td>2.00</td>\n",
       "      <td>34.00</td>\n",
       "      <td>0.00</td>\n",
       "      <td>58.00</td>\n",
       "      <td>0.00</td>\n",
       "    </tr>\n",
       "    <tr>\n",
       "      <th>1515915625468061100</th>\n",
       "      <td>0</td>\n",
       "      <td>2098.00</td>\n",
       "      <td>0.00</td>\n",
       "      <td>0.00</td>\n",
       "      <td>0.00</td>\n",
       "      <td>0.00</td>\n",
       "      <td>0.00</td>\n",
       "      <td>0.00</td>\n",
       "      <td>0.00</td>\n",
       "      <td>0.00</td>\n",
       "      <td>0.00</td>\n",
       "      <td>0.00</td>\n",
       "      <td>1.00</td>\n",
       "      <td>0.00</td>\n",
       "      <td>1.00</td>\n",
       "      <td>157.00</td>\n",
       "      <td>1.00</td>\n",
       "      <td>267.00</td>\n",
       "      <td>1.00</td>\n",
       "    </tr>\n",
       "    <tr>\n",
       "      <th>1515915625468061170</th>\n",
       "      <td>0</td>\n",
       "      <td>33601.00</td>\n",
       "      <td>16.00</td>\n",
       "      <td>0.00</td>\n",
       "      <td>0.00</td>\n",
       "      <td>0.00</td>\n",
       "      <td>19.00</td>\n",
       "      <td>3.00</td>\n",
       "      <td>164.00</td>\n",
       "      <td>0.00</td>\n",
       "      <td>0.00</td>\n",
       "      <td>0.00</td>\n",
       "      <td>0.00</td>\n",
       "      <td>0.00</td>\n",
       "      <td>0.00</td>\n",
       "      <td>12.00</td>\n",
       "      <td>0.00</td>\n",
       "      <td>79.00</td>\n",
       "      <td>0.00</td>\n",
       "    </tr>\n",
       "  </tbody>\n",
       "</table>\n",
       "</div>"
      ],
      "text/plain": [
       "                     target    total  email_click_cnt  email_complain_cnt  \\\n",
       "client_id                                                                   \n",
       "1515915625468060902       0  6993.00            10.00                0.00   \n",
       "1515915625468061003       1 16235.00             5.00                0.00   \n",
       "1515915625468061099       0   299.00             8.00                0.00   \n",
       "1515915625468061100       0  2098.00             0.00                0.00   \n",
       "1515915625468061170       0 33601.00            16.00                0.00   \n",
       "\n",
       "                     email_hard_bounce_cnt  email_hbq_spam_cnt  \\\n",
       "client_id                                                        \n",
       "1515915625468060902                   0.00                0.00   \n",
       "1515915625468061003                   0.00                0.00   \n",
       "1515915625468061099                   0.00                0.00   \n",
       "1515915625468061100                   0.00                0.00   \n",
       "1515915625468061170                   0.00                0.00   \n",
       "\n",
       "                     email_open_cnt  email_purchase_cnt  email_send_cnt  \\\n",
       "client_id                                                                 \n",
       "1515915625468060902           35.00                5.00          126.00   \n",
       "1515915625468061003            5.00                1.00          154.00   \n",
       "1515915625468061099           17.00                0.00          157.00   \n",
       "1515915625468061100            0.00                0.00            0.00   \n",
       "1515915625468061170           19.00                3.00          164.00   \n",
       "\n",
       "                     email_soft_bounce_cnt  email_subscribe_cnt  \\\n",
       "client_id                                                         \n",
       "1515915625468060902                   0.00                 0.00   \n",
       "1515915625468061003                   0.00                 0.00   \n",
       "1515915625468061099                   0.00                 0.00   \n",
       "1515915625468061100                   0.00                 0.00   \n",
       "1515915625468061170                   0.00                 0.00   \n",
       "\n",
       "                     email_unsubscribe_cnt  mobile_push_click_cnt  \\\n",
       "client_id                                                           \n",
       "1515915625468060902                   1.00                   0.00   \n",
       "1515915625468061003                   0.00                   0.00   \n",
       "1515915625468061099                   0.00                   0.00   \n",
       "1515915625468061100                   0.00                   1.00   \n",
       "1515915625468061170                   0.00                   0.00   \n",
       "\n",
       "                     mobile_push_close_cnt  mobile_push_hard_bounce_cnt  \\\n",
       "client_id                                                                 \n",
       "1515915625468060902                   0.00                         0.00   \n",
       "1515915625468061003                   0.00                         0.00   \n",
       "1515915625468061099                   0.00                         2.00   \n",
       "1515915625468061100                   0.00                         1.00   \n",
       "1515915625468061170                   0.00                         0.00   \n",
       "\n",
       "                     mobile_push_open_cnt  mobile_push_purchase_cnt  \\\n",
       "client_id                                                             \n",
       "1515915625468060902                  0.00                      0.00   \n",
       "1515915625468061003                  0.00                      0.00   \n",
       "1515915625468061099                 34.00                      0.00   \n",
       "1515915625468061100                157.00                      1.00   \n",
       "1515915625468061170                 12.00                      0.00   \n",
       "\n",
       "                     mobile_push_send_cnt  mobile_push_soft_bounce_cnt  \n",
       "client_id                                                               \n",
       "1515915625468060902                  0.00                         0.00  \n",
       "1515915625468061003                  0.00                         0.00  \n",
       "1515915625468061099                 58.00                         0.00  \n",
       "1515915625468061100                267.00                         1.00  \n",
       "1515915625468061170                 79.00                         0.00  "
      ]
     },
     "execution_count": 91,
     "metadata": {},
     "output_type": "execute_result"
    }
   ],
   "source": [
    "df = pd.merge(df, apparel_messages_agg, how='left', left_on='client_id', right_index=True)\n",
    "df = df.set_index('client_id')\n",
    "df.head()"
   ]
  },
  {
   "cell_type": "markdown",
   "metadata": {
    "id": "4vH7EtnQJC0d"
   },
   "source": [
    "Далее проверим типы даннных после объединения"
   ]
  },
  {
   "cell_type": "code",
   "execution_count": 92,
   "metadata": {
    "colab": {
     "base_uri": "https://localhost:8080/"
    },
    "id": "UM2UeQpLJHG8",
    "outputId": "10ffecbb-8c86-4922-c116-40c511f339e6"
   },
   "outputs": [
    {
     "name": "stdout",
     "output_type": "stream",
     "text": [
      "<class 'pandas.core.frame.DataFrame'>\n",
      "Index: 49849 entries, 1515915625468060902 to 1515915626010443624\n",
      "Data columns (total 19 columns):\n",
      " #   Column                       Non-Null Count  Dtype  \n",
      "---  ------                       --------------  -----  \n",
      " 0   target                       49849 non-null  int8   \n",
      " 1   total                        49849 non-null  float32\n",
      " 2   email_click_cnt              41982 non-null  float64\n",
      " 3   email_complain_cnt           41982 non-null  float64\n",
      " 4   email_hard_bounce_cnt        41982 non-null  float64\n",
      " 5   email_hbq_spam_cnt           41982 non-null  float64\n",
      " 6   email_open_cnt               41982 non-null  float64\n",
      " 7   email_purchase_cnt           41982 non-null  float64\n",
      " 8   email_send_cnt               41982 non-null  float64\n",
      " 9   email_soft_bounce_cnt        41982 non-null  float64\n",
      " 10  email_subscribe_cnt          41982 non-null  float64\n",
      " 11  email_unsubscribe_cnt        41982 non-null  float64\n",
      " 12  mobile_push_click_cnt        41982 non-null  float64\n",
      " 13  mobile_push_close_cnt        41982 non-null  float64\n",
      " 14  mobile_push_hard_bounce_cnt  41982 non-null  float64\n",
      " 15  mobile_push_open_cnt         41982 non-null  float64\n",
      " 16  mobile_push_purchase_cnt     41982 non-null  float64\n",
      " 17  mobile_push_send_cnt         41982 non-null  float64\n",
      " 18  mobile_push_soft_bounce_cnt  41982 non-null  float64\n",
      "dtypes: float32(1), float64(17), int8(1)\n",
      "memory usage: 7.1 MB\n"
     ]
    }
   ],
   "source": [
    "df.info()"
   ]
  },
  {
   "cell_type": "code",
   "execution_count": 93,
   "metadata": {
    "id": "gn_QpWDwJIQI"
   },
   "outputs": [],
   "source": [
    "mask = df['email_click_cnt'].isna()\n",
    "na_ids = df.loc[mask].index.tolist()"
   ]
  },
  {
   "cell_type": "code",
   "execution_count": 94,
   "metadata": {
    "colab": {
     "base_uri": "https://localhost:8080/",
     "height": 53
    },
    "id": "xaOJcNHTJN40",
    "outputId": "1a300362-3770-4fcc-ba95-942478eab599"
   },
   "outputs": [
    {
     "data": {
      "text/html": [
       "<div>\n",
       "<style scoped>\n",
       "    .dataframe tbody tr th:only-of-type {\n",
       "        vertical-align: middle;\n",
       "    }\n",
       "\n",
       "    .dataframe tbody tr th {\n",
       "        vertical-align: top;\n",
       "    }\n",
       "\n",
       "    .dataframe thead th {\n",
       "        text-align: right;\n",
       "    }\n",
       "</style>\n",
       "<table border=\"1\" class=\"dataframe\">\n",
       "  <thead>\n",
       "    <tr style=\"text-align: right;\">\n",
       "      <th></th>\n",
       "      <th>bulk_campaign_id</th>\n",
       "      <th>client_id</th>\n",
       "      <th>message_id</th>\n",
       "      <th>event</th>\n",
       "      <th>channel</th>\n",
       "      <th>created_at</th>\n",
       "    </tr>\n",
       "  </thead>\n",
       "  <tbody>\n",
       "  </tbody>\n",
       "</table>\n",
       "</div>"
      ],
      "text/plain": [
       "Empty DataFrame\n",
       "Columns: [bulk_campaign_id, client_id, message_id, event, channel, created_at]\n",
       "Index: []"
      ]
     },
     "execution_count": 94,
     "metadata": {},
     "output_type": "execute_result"
    }
   ],
   "source": [
    "mask = apparel_messages['client_id'].isin(na_ids)\n",
    "apparel_messages[mask]"
   ]
  },
  {
   "cell_type": "markdown",
   "metadata": {
    "id": "17LeLOs2JQ5T"
   },
   "source": [
    "у этих пользователей рассылки не было, поэтому заполним нулями"
   ]
  },
  {
   "cell_type": "code",
   "execution_count": 95,
   "metadata": {
    "id": "c1vFlYm3JWB6"
   },
   "outputs": [],
   "source": [
    "df = df.fillna(0)"
   ]
  },
  {
   "cell_type": "code",
   "execution_count": 96,
   "metadata": {
    "colab": {
     "base_uri": "https://localhost:8080/"
    },
    "id": "NQk_YiSKJXZb",
    "outputId": "c6e5cb40-3814-44b3-e646-cca8761c53ff"
   },
   "outputs": [
    {
     "name": "stdout",
     "output_type": "stream",
     "text": [
      "+-----------------------------+----------------------+\n",
      "|           Feature           | Missing values count |\n",
      "+-----------------------------+----------------------+\n",
      "|            target           |      \u001b[32m0 (0.00%)\u001b[0m       |\n",
      "|   mobile_push_purchase_cnt  |      \u001b[32m0 (0.00%)\u001b[0m       |\n",
      "|     mobile_push_open_cnt    |      \u001b[32m0 (0.00%)\u001b[0m       |\n",
      "| mobile_push_hard_bounce_cnt |      \u001b[32m0 (0.00%)\u001b[0m       |\n",
      "|    mobile_push_close_cnt    |      \u001b[32m0 (0.00%)\u001b[0m       |\n",
      "|    mobile_push_click_cnt    |      \u001b[32m0 (0.00%)\u001b[0m       |\n",
      "|    email_unsubscribe_cnt    |      \u001b[32m0 (0.00%)\u001b[0m       |\n",
      "|     email_subscribe_cnt     |      \u001b[32m0 (0.00%)\u001b[0m       |\n",
      "|     mobile_push_send_cnt    |      \u001b[32m0 (0.00%)\u001b[0m       |\n",
      "|    email_soft_bounce_cnt    |      \u001b[32m0 (0.00%)\u001b[0m       |\n",
      "|      email_purchase_cnt     |      \u001b[32m0 (0.00%)\u001b[0m       |\n",
      "|        email_open_cnt       |      \u001b[32m0 (0.00%)\u001b[0m       |\n",
      "|      email_hbq_spam_cnt     |      \u001b[32m0 (0.00%)\u001b[0m       |\n",
      "|    email_hard_bounce_cnt    |      \u001b[32m0 (0.00%)\u001b[0m       |\n",
      "|      email_complain_cnt     |      \u001b[32m0 (0.00%)\u001b[0m       |\n",
      "|       email_click_cnt       |      \u001b[32m0 (0.00%)\u001b[0m       |\n",
      "|            total            |      \u001b[32m0 (0.00%)\u001b[0m       |\n",
      "|        email_send_cnt       |      \u001b[32m0 (0.00%)\u001b[0m       |\n",
      "| mobile_push_soft_bounce_cnt |      \u001b[32m0 (0.00%)\u001b[0m       |\n",
      "+-----------------------------+----------------------+\n"
     ]
    }
   ],
   "source": [
    "check_nans(df)"
   ]
  },
  {
   "cell_type": "code",
   "execution_count": 97,
   "metadata": {
    "colab": {
     "base_uri": "https://localhost:8080/"
    },
    "id": "6usYllUyLclc",
    "outputId": "3e089750-2515-4769-b861-3af2698166b9"
   },
   "outputs": [
    {
     "name": "stdout",
     "output_type": "stream",
     "text": [
      "Размер использования памяти: до  7.08 Mb - после  3.85 Mb (45.6%)\n"
     ]
    }
   ],
   "source": [
    "df = optimize_memory_usage(df)"
   ]
  },
  {
   "cell_type": "code",
   "execution_count": 98,
   "metadata": {
    "colab": {
     "base_uri": "https://localhost:8080/",
     "height": 1000
    },
    "id": "EIeHKM4DLf2v",
    "outputId": "6a3c9011-0f7b-420e-eb6c-13c1f48973d0"
   },
   "outputs": [
    {
     "data": {
      "image/png": "[encoded data removed]",
      "text/plain": [
       "<Figure size 2000x1000 with 2 Axes>"
      ]
     },
     "metadata": {},
     "output_type": "display_data"
    }
   ],
   "source": [
    "plt.figure(figsize=(20, 10))\n",
    "sns.heatmap(df.phik_matrix(interval_cols=df.columns),\n",
    "            cmap='Purples',\n",
    "            annot=True,\n",
    "            fmt='.2f');\n",
    "\n",
    "plt.title(r'Корреляция между всеми признаками', fontsize=18);"
   ]
  },
  {
   "cell_type": "code",
   "execution_count": 99,
   "metadata": {
    "colab": {
     "base_uri": "https://localhost:8080/",
     "height": 676
    },
    "id": "lomnU4ZIMAyC",
    "outputId": "72eac4c2-0305-4eb8-f4a6-9d6020ff0051"
   },
   "outputs": [
    {
     "data": {
      "text/html": [
       "<div>\n",
       "<style scoped>\n",
       "    .dataframe tbody tr th:only-of-type {\n",
       "        vertical-align: middle;\n",
       "    }\n",
       "\n",
       "    .dataframe tbody tr th {\n",
       "        vertical-align: top;\n",
       "    }\n",
       "\n",
       "    .dataframe thead th {\n",
       "        text-align: right;\n",
       "    }\n",
       "</style>\n",
       "<table border=\"1\" class=\"dataframe\">\n",
       "  <thead>\n",
       "    <tr style=\"text-align: right;\">\n",
       "      <th></th>\n",
       "      <th>variable</th>\n",
       "      <th>vif</th>\n",
       "    </tr>\n",
       "  </thead>\n",
       "  <tbody>\n",
       "    <tr>\n",
       "      <th>0</th>\n",
       "      <td>mobile_push_send_cnt</td>\n",
       "      <td>2.07</td>\n",
       "    </tr>\n",
       "    <tr>\n",
       "      <th>1</th>\n",
       "      <td>email_click_cnt</td>\n",
       "      <td>1.86</td>\n",
       "    </tr>\n",
       "    <tr>\n",
       "      <th>2</th>\n",
       "      <td>mobile_push_open_cnt</td>\n",
       "      <td>1.67</td>\n",
       "    </tr>\n",
       "    <tr>\n",
       "      <th>3</th>\n",
       "      <td>email_open_cnt</td>\n",
       "      <td>1.67</td>\n",
       "    </tr>\n",
       "    <tr>\n",
       "      <th>4</th>\n",
       "      <td>email_purchase_cnt</td>\n",
       "      <td>1.59</td>\n",
       "    </tr>\n",
       "    <tr>\n",
       "      <th>5</th>\n",
       "      <td>email_send_cnt</td>\n",
       "      <td>1.52</td>\n",
       "    </tr>\n",
       "    <tr>\n",
       "      <th>6</th>\n",
       "      <td>mobile_push_purchase_cnt</td>\n",
       "      <td>1.51</td>\n",
       "    </tr>\n",
       "    <tr>\n",
       "      <th>7</th>\n",
       "      <td>mobile_push_click_cnt</td>\n",
       "      <td>1.47</td>\n",
       "    </tr>\n",
       "    <tr>\n",
       "      <th>8</th>\n",
       "      <td>email_unsubscribe_cnt</td>\n",
       "      <td>1.11</td>\n",
       "    </tr>\n",
       "    <tr>\n",
       "      <th>9</th>\n",
       "      <td>email_subscribe_cnt</td>\n",
       "      <td>1.10</td>\n",
       "    </tr>\n",
       "    <tr>\n",
       "      <th>10</th>\n",
       "      <td>total</td>\n",
       "      <td>1.08</td>\n",
       "    </tr>\n",
       "    <tr>\n",
       "      <th>11</th>\n",
       "      <td>mobile_push_hard_bounce_cnt</td>\n",
       "      <td>1.03</td>\n",
       "    </tr>\n",
       "    <tr>\n",
       "      <th>12</th>\n",
       "      <td>mobile_push_soft_bounce_cnt</td>\n",
       "      <td>1.03</td>\n",
       "    </tr>\n",
       "    <tr>\n",
       "      <th>13</th>\n",
       "      <td>target</td>\n",
       "      <td>1.02</td>\n",
       "    </tr>\n",
       "    <tr>\n",
       "      <th>14</th>\n",
       "      <td>email_hbq_spam_cnt</td>\n",
       "      <td>1.01</td>\n",
       "    </tr>\n",
       "    <tr>\n",
       "      <th>15</th>\n",
       "      <td>email_soft_bounce_cnt</td>\n",
       "      <td>1.01</td>\n",
       "    </tr>\n",
       "    <tr>\n",
       "      <th>16</th>\n",
       "      <td>mobile_push_close_cnt</td>\n",
       "      <td>1.00</td>\n",
       "    </tr>\n",
       "    <tr>\n",
       "      <th>17</th>\n",
       "      <td>email_hard_bounce_cnt</td>\n",
       "      <td>1.00</td>\n",
       "    </tr>\n",
       "    <tr>\n",
       "      <th>18</th>\n",
       "      <td>email_complain_cnt</td>\n",
       "      <td>1.00</td>\n",
       "    </tr>\n",
       "    <tr>\n",
       "      <th>19</th>\n",
       "      <td>const</td>\n",
       "      <td>1.00</td>\n",
       "    </tr>\n",
       "  </tbody>\n",
       "</table>\n",
       "</div>"
      ],
      "text/plain": [
       "                       variable  vif\n",
       "0          mobile_push_send_cnt 2.07\n",
       "1               email_click_cnt 1.86\n",
       "2          mobile_push_open_cnt 1.67\n",
       "3                email_open_cnt 1.67\n",
       "4            email_purchase_cnt 1.59\n",
       "5                email_send_cnt 1.52\n",
       "6      mobile_push_purchase_cnt 1.51\n",
       "7         mobile_push_click_cnt 1.47\n",
       "8         email_unsubscribe_cnt 1.11\n",
       "9           email_subscribe_cnt 1.10\n",
       "10                        total 1.08\n",
       "11  mobile_push_hard_bounce_cnt 1.03\n",
       "12  mobile_push_soft_bounce_cnt 1.03\n",
       "13                       target 1.02\n",
       "14           email_hbq_spam_cnt 1.01\n",
       "15        email_soft_bounce_cnt 1.01\n",
       "16        mobile_push_close_cnt 1.00\n",
       "17        email_hard_bounce_cnt 1.00\n",
       "18           email_complain_cnt 1.00\n",
       "19                        const 1.00"
      ]
     },
     "execution_count": 99,
     "metadata": {},
     "output_type": "execute_result"
    }
   ],
   "source": [
    "scaler = StandardScaler()\n",
    "df_for_vif = pd.DataFrame(scaler.fit_transform(df), columns=df.columns)\n",
    "\n",
    "with_constants = add_constant(df_for_vif)\n",
    "\n",
    "vif_data = pd.DataFrame()\n",
    "vif_data['variable'] = with_constants.columns\n",
    "vif_data['vif'] = [variance_inflation_factor(with_constants.values, i) for i in range(with_constants.shape[1])]\n",
    "\n",
    "vif_data.sort_values(by='vif', ascending=False).reset_index(drop=True)"
   ]
  },
  {
   "cell_type": "markdown",
   "metadata": {
    "id": "7VDjQE74MEIn"
   },
   "source": [
    "Исходя из анализа, мультиколлинеарности нет"
   ]
  },
  {
   "cell_type": "markdown",
   "metadata": {
    "id": "Em_2dfR7MJA8"
   },
   "source": [
    "### Data splitting and training"
   ]
  },
  {
   "cell_type": "code",
   "execution_count": 100,
   "metadata": {
    "id": "yKcZLNOpMH72"
   },
   "outputs": [],
   "source": [
    "target = 'target'"
   ]
  },
  {
   "cell_type": "code",
   "execution_count": 101,
   "metadata": {
    "id": "x2S3v-OuMOh_"
   },
   "outputs": [],
   "source": [
    "X = df.drop(columns=target)\n",
    "y = df[target]"
   ]
  },
  {
   "cell_type": "code",
   "execution_count": 102,
   "metadata": {
    "colab": {
     "base_uri": "https://localhost:8080/"
    },
    "id": "dnE0Fe63MP65",
    "outputId": "d6750903-b395-4c87-886c-b36fd1e52781"
   },
   "outputs": [
    {
     "name": "stdout",
     "output_type": "stream",
     "text": [
      "(39879, 18) (39879,)\n",
      "(9970, 18) (9970,)\n"
     ]
    }
   ],
   "source": [
    "X_train, X_test, y_train, y_test = train_test_split(X,\n",
    "                                                    y,\n",
    "                                                    test_size=TEST_SIZE,\n",
    "                                                    random_state=RANDOM_STATE,\n",
    "                                                    stratify=y)\n",
    "\n",
    "print(X_train.shape, y_train.shape)\n",
    "print(X_test.shape, y_test.shape)"
   ]
  },
  {
   "cell_type": "code",
   "execution_count": 103,
   "metadata": {
    "id": "FaxXrNMbOseC"
   },
   "outputs": [],
   "source": [
    "def get_objective(estimator,\n",
    "                  X_train: pd.DataFrame,\n",
    "                  y_train: pd.Series):\n",
    "    def objective(params: dict) -> float:\n",
    "        \"\"\"Кросс-валидация с текущими гиперпараметрами.\n",
    "\n",
    "        Args:\n",
    "            estimator: пайплайн с моделью или отдельно модель\n",
    "            params (dict): гиперпараметры\n",
    "            X_train (pd.DataFrame): входные признаки (фичи)\n",
    "            y_train (pd.Series): таргет\n",
    "\n",
    "        Returns:\n",
    "            dict: Словарь со средним значением метрики, гиперпараметрами и статусом.\n",
    "        \"\"\"\n",
    "        # Некоторые параметры могут быть только целочисленные, приводим их к нужному типу\n",
    "        for key, value in params.items():\n",
    "            if isinstance(value, float) and value % 1 == 0:\n",
    "                params[key] = int(value)\n",
    "\n",
    "        estimator.set_params(**params)\n",
    "        skf = StratifiedKFold(n_splits=3, shuffle=True, random_state=RANDOM_STATE)\n",
    "        score = cross_val_score(estimator=estimator,\n",
    "                                X=X_train,\n",
    "                                y=y_train,\n",
    "                                scoring='roc_auc',\n",
    "                                cv=skf,\n",
    "                                n_jobs=-1)\n",
    "\n",
    "        return {\n",
    "            'loss': -score.mean(),\n",
    "            'params': params,\n",
    "            'status': STATUS_OK\n",
    "        }\n",
    "\n",
    "    return objective"
   ]
  },
  {
   "cell_type": "code",
   "execution_count": 104,
   "metadata": {
    "id": "nQQ_mv_YOu8p"
   },
   "outputs": [],
   "source": [
    "def get_model_results(estimator,\n",
    "                      param_space: dict,\n",
    "                      X_train: pd.DataFrame,\n",
    "                      y_train: pd.Series\n",
    "                      ) -> tuple[dict, float]:\n",
    "    objective = get_objective(estimator, X_train, y_train)\n",
    "    trials = Trials()\n",
    "\n",
    "    fmin(\n",
    "        fn=objective,\n",
    "        space=param_space,\n",
    "        algo=tpe.suggest,\n",
    "        max_evals=100,\n",
    "        trials=trials,\n",
    "        rstate=np.random.default_rng(RANDOM_STATE),\n",
    "        show_progressbar=True\n",
    "    )\n",
    "\n",
    "    clear_output()\n",
    "\n",
    "    best_params = trials.best_trial['result']['params']\n",
    "    best_score = abs(trials.best_trial['result']['loss'])\n",
    "    print(f\"Finish with best ROC_AUC = {best_score:.4f}\")\n",
    "\n",
    "    return best_params, best_score"
   ]
  },
  {
   "cell_type": "markdown",
   "metadata": {
    "id": "NAx75AbqOwZ1"
   },
   "source": [
    "Log Reg"
   ]
  },
  {
   "cell_type": "code",
   "execution_count": 105,
   "metadata": {
    "colab": {
     "base_uri": "https://localhost:8080/"
    },
    "id": "fo7wqgR1OxkE",
    "outputId": "b33a2c5f-347b-4c75-d475-028bfe044f72"
   },
   "outputs": [
    {
     "name": "stdout",
     "output_type": "stream",
     "text": [
      "Finish with best ROC_AUC = 0.6871\n"
     ]
    }
   ],
   "source": [
    "lr_pipeline = Pipeline([\n",
    "    ('scaler', MinMaxScaler()),\n",
    "    ('model', LogisticRegression(random_state=RANDOM_STATE))\n",
    "])\n",
    "\n",
    "param_space = {\n",
    "    'model__penalty': hp.choice('penalty', ['l1', 'l2']),  # Тип регуляризации\n",
    "    'model__C': hp.loguniform('C', -4, 4),  # Обратный коэффициент регуляризации\n",
    "    'model__solver': hp.choice('solver', ['liblinear', 'saga']),  # Алгоритм оптимизации\n",
    "    'model__fit_intercept': hp.choice('fit_intercept', [True, False]),  # Включение свободного члена\n",
    "    'model__class_weight': hp.choice('class_weight', ['balanced', None]),  # Взвешивание классов\n",
    "    'model__max_iter': hp.quniform('max_iter', 300, 1000, 50)  # Максимальное количество итераций\n",
    "}\n",
    "\n",
    "best_params_lr, best_score_lr = get_model_results(lr_pipeline, param_space, X_train, y_train)"
   ]
  },
  {
   "cell_type": "markdown",
   "metadata": {
    "id": "VAJ1wxVtQda9"
   },
   "source": [
    "Random Forest"
   ]
  },
  {
   "cell_type": "code",
   "execution_count": 106,
   "metadata": {
    "colab": {
     "base_uri": "https://localhost:8080/",
     "height": 339
    },
    "id": "pwXdI_R5Qcd_",
    "outputId": "2da5d9b1-f347-49fe-c692-fe05c79f2fd1"
   },
   "outputs": [
    {
     "name": "stdout",
     "output_type": "stream",
     "text": [
      "Finish with best ROC_AUC = 0.6824\n"
     ]
    }
   ],
   "source": [
    "rfc = RandomForestClassifier(random_state=RANDOM_STATE, n_jobs=-1)\n",
    "\n",
    "param_space = {\n",
    "    'n_estimators': hp.quniform('n_estimators', 100, 1000, 1),\n",
    "    'max_depth': hp.quniform('max_depth', 5, 50, 1),\n",
    "    'min_samples_split': hp.quniform('min_samples_split', 2, 20, 1),\n",
    "    'min_samples_leaf': hp.quniform('min_samples_leaf', 1, 20, 1),\n",
    "    'max_features': hp.choice('max_features', ['sqrt', 'log2', None]),\n",
    "    'class_weight': hp.choice('class_weight', ['balanced', {0: 1, 1: 49}]),\n",
    "    'criterion': hp.choice('criterion', ['gini', 'entropy']),\n",
    "    'bootstrap': hp.choice('bootstrap', [True, False])\n",
    "}\n",
    "\n",
    "best_params_rfc, best_score_rfc = get_model_results(rfc, param_space, X_train, y_train)"
   ]
  },
  {
   "cell_type": "markdown",
   "metadata": {
    "id": "EoWXfcoVR3dy"
   },
   "source": [
    "kneighbours"
   ]
  },
  {
   "cell_type": "code",
   "execution_count": 107,
   "metadata": {
    "id": "Ot7xZLmMR436"
   },
   "outputs": [
    {
     "name": "stdout",
     "output_type": "stream",
     "text": [
      "Finish with best ROC_AUC = 0.5530\n"
     ]
    }
   ],
   "source": [
    "knc = KNeighborsClassifier(n_jobs=-1)\n",
    "\n",
    "param_space = {\n",
    "    'n_neighbors': hp.quniform('n_neighbors', 1, 50, 1),  # количество соседей\n",
    "    'weights': hp.choice('weights', ['uniform', 'distance']),  # схема взвешивания\n",
    "    'algorithm': hp.choice('algorithm', ['auto', 'ball_tree', 'kd_tree', 'brute']),  # алгоритм поиска\n",
    "    'leaf_size': hp.quniform('leaf_size', 10, 50, 1),  # размер листа\n",
    "    'p': hp.choice('p', [1, 2])  # степень метрики Минковского (1 = манхэттенское, 2 = евклидово расстояние)\n",
    "}\n",
    "\n",
    "best_params_knc, best_score_knc = get_model_results(knc, param_space, X_train, y_train)"
   ]
  },
  {
   "cell_type": "markdown",
   "metadata": {
    "id": "U9epnukSR7Ml"
   },
   "source": [
    "LinearSVC"
   ]
  },
  {
   "cell_type": "code",
   "execution_count": 108,
   "metadata": {
    "id": "fZIYiKqQR8f3"
   },
   "outputs": [
    {
     "name": "stdout",
     "output_type": "stream",
     "text": [
      "Finish with best ROC_AUC = 0.6861\n"
     ]
    }
   ],
   "source": [
    "svc_pipeline = Pipeline([\n",
    "    ('scaler', MinMaxScaler()),\n",
    "    ('model', LinearSVC(random_state=RANDOM_STATE))\n",
    "])\n",
    "\n",
    "param_space = {\n",
    "    'model__C': hp.loguniform('C', -4, 2),  # Регуляризационный параметр C в лог-шкале\n",
    "    'model__loss': hp.choice('loss', ['hinge', 'squared_hinge']),\n",
    "    'model__tol': hp.loguniform('tol', -5, -1),  # Допуск на остановку в лог-шкале\n",
    "    'model__max_iter': hp.quniform('max_iter', 100, 1000, 50),  # Максимальное количество итераций\n",
    "    'model__class_weight': hp.choice('class_weight', [None, 'balanced']),  # Взвешивание классов\n",
    "}\n",
    "\n",
    "best_params_svc, best_score_svc = get_model_results(svc_pipeline, param_space, X_train, y_train)"
   ]
  },
  {
   "cell_type": "markdown",
   "metadata": {
    "id": "bUPLkfTJR93s"
   },
   "source": [
    "CatBoost"
   ]
  },
  {
   "cell_type": "code",
   "execution_count": 110,
   "metadata": {
    "id": "4uVDYN8UR_du"
   },
   "outputs": [
    {
     "name": "stdout",
     "output_type": "stream",
     "text": [
      "Finish with best ROC_AUC = 0.6918\n"
     ]
    }
   ],
   "source": [
    "cbc = CatBoostClassifier(random_state=RANDOM_STATE, thread_count=-1, silent=True)\n",
    "\n",
    "param_space = {\n",
    "    'iterations': hp.quniform('iterations', 100, 1000, 50),  # число итераций\n",
    "    'learning_rate': hp.loguniform('learning_rate', -5, -1),  # темп обучения\n",
    "    'depth': hp.quniform('depth', 4, 10, 1),  # глубина деревьев\n",
    "    'l2_leaf_reg': hp.loguniform('l2_leaf_reg', 0, 3),  # L2 регуляризация\n",
    "    'border_count': hp.quniform('border_count', 32, 255, 1),  # число разбиений\n",
    "    'random_strength': hp.uniform('random_strength', 0, 10),  # сила случайности\n",
    "    'scale_pos_weight': hp.loguniform('scale_pos_weight', -2, 2),  # вес положительных классов\n",
    "    'bootstrap_type': hp.choice('bootstrap_type', ['Bayesian', 'Bernoulli', 'MVS']),  # тип bootstrap\n",
    "    'grow_policy': hp.choice('grow_policy', ['SymmetricTree', 'Depthwise', 'Lossguide']),  # политика роста\n",
    "}\n",
    "\n",
    "best_params_cbc, best_score_cbc = get_model_results(cbc, param_space, X_train, y_train)"
   ]
  },
  {
   "cell_type": "markdown",
   "metadata": {
    "id": "9yoQmxggSAIu"
   },
   "source": [
    "LGBM"
   ]
  },
  {
   "cell_type": "code",
   "execution_count": 111,
   "metadata": {
    "id": "XdbxkHlFR_67"
   },
   "outputs": [
    {
     "name": "stdout",
     "output_type": "stream",
     "text": [
      "Finish with best ROC_AUC = 0.6911\n"
     ]
    }
   ],
   "source": [
    "lgbmc = LGBMClassifier(random_state=RANDOM_STATE, n_jobs=-1, verbosity=-1)\n",
    "\n",
    "param_space = {\n",
    "    'num_leaves': hp.quniform('num_leaves', 20, 150, 1),\n",
    "    'max_depth': hp.quniform('max_depth', 3, 12, 1),\n",
    "    'learning_rate': hp.loguniform('learning_rate', -5, 0),\n",
    "    'n_estimators': hp.quniform('n_estimators', 100, 1000, 10),\n",
    "    'min_child_samples': hp.quniform('min_child_samples', 5, 100, 1),\n",
    "    'subsample': hp.uniform('subsample', 0.5, 1.0),\n",
    "    'colsample_bytree': hp.uniform('colsample_bytree', 0.5, 1.0),\n",
    "    'reg_alpha': hp.loguniform('reg_alpha', -5, 1),\n",
    "    'reg_lambda': hp.loguniform('reg_lambda', -5, 1),\n",
    "    'scale_pos_weight': hp.loguniform('scale_pos_weight', -2, 1)  # Изменено для учета несбалансированных данных\n",
    "}\n",
    "\n",
    "best_params_lgbm, best_score_lgbm = get_model_results(lgbmc, param_space, X_train, y_train)"
   ]
  },
  {
   "cell_type": "markdown",
   "metadata": {
    "id": "uMWyu2FRSGqK"
   },
   "source": [
    "### Результаты"
   ]
  },
  {
   "cell_type": "code",
   "execution_count": 112,
   "metadata": {
    "id": "GVeLF2hVSJy8"
   },
   "outputs": [
    {
     "data": {
      "text/html": [
       "<div>\n",
       "<style scoped>\n",
       "    .dataframe tbody tr th:only-of-type {\n",
       "        vertical-align: middle;\n",
       "    }\n",
       "\n",
       "    .dataframe tbody tr th {\n",
       "        vertical-align: top;\n",
       "    }\n",
       "\n",
       "    .dataframe thead th {\n",
       "        text-align: right;\n",
       "    }\n",
       "</style>\n",
       "<table border=\"1\" class=\"dataframe\">\n",
       "  <thead>\n",
       "    <tr style=\"text-align: right;\">\n",
       "      <th></th>\n",
       "      <th>roc_auc</th>\n",
       "    </tr>\n",
       "  </thead>\n",
       "  <tbody>\n",
       "    <tr>\n",
       "      <th>CatBoostClassifier</th>\n",
       "      <td>0.6918</td>\n",
       "    </tr>\n",
       "    <tr>\n",
       "      <th>LGBMClassifier</th>\n",
       "      <td>0.6911</td>\n",
       "    </tr>\n",
       "    <tr>\n",
       "      <th>LogisticRegression</th>\n",
       "      <td>0.6871</td>\n",
       "    </tr>\n",
       "    <tr>\n",
       "      <th>SVC</th>\n",
       "      <td>0.6861</td>\n",
       "    </tr>\n",
       "    <tr>\n",
       "      <th>RandomForestClassifier</th>\n",
       "      <td>0.6824</td>\n",
       "    </tr>\n",
       "    <tr>\n",
       "      <th>KNeighborsClassifier</th>\n",
       "      <td>0.5530</td>\n",
       "    </tr>\n",
       "  </tbody>\n",
       "</table>\n",
       "</div>"
      ],
      "text/plain": [
       "                        roc_auc\n",
       "CatBoostClassifier       0.6918\n",
       "LGBMClassifier           0.6911\n",
       "LogisticRegression       0.6871\n",
       "SVC                      0.6861\n",
       "RandomForestClassifier   0.6824\n",
       "KNeighborsClassifier     0.5530"
      ]
     },
     "execution_count": 112,
     "metadata": {},
     "output_type": "execute_result"
    }
   ],
   "source": [
    "pd.options.display.float_format = '{:.4f}'.format\n",
    "\n",
    "pd.DataFrame(\n",
    "    data=[best_score_lr, best_score_rfc, best_score_knc, best_score_svc, best_score_cbc, best_score_lgbm],\n",
    "    index=['LogisticRegression', 'RandomForestClassifier', 'KNeighborsClassifier', 'SVC', 'CatBoostClassifier', 'LGBMClassifier'],\n",
    "    columns=['roc_auc']\n",
    ").sort_values('roc_auc', ascending=False)"
   ]
  },
  {
   "cell_type": "markdown",
   "metadata": {
    "id": "QuUD8ntsSNDB"
   },
   "source": [
    "метрика на тесте"
   ]
  },
  {
   "cell_type": "code",
   "execution_count": 113,
   "metadata": {
    "id": "BL0noIJASOYf"
   },
   "outputs": [],
   "source": [
    "# Некоторые параметры могут быть только целочисленные, приводим их к нужному типу\n",
    "for key, value in best_params_cbc.items():\n",
    "    if isinstance(value, float) and value % 1 == 0:\n",
    "        best_params_cbc[key] = int(value)"
   ]
  },
  {
   "cell_type": "code",
   "execution_count": 114,
   "metadata": {
    "id": "268lE_t1SQpx"
   },
   "outputs": [
    {
     "data": {
      "text/plain": [
       "{'bootstrap_type': 'Bayesian',\n",
       " 'border_count': 200,\n",
       " 'depth': 4,\n",
       " 'grow_policy': 'SymmetricTree',\n",
       " 'iterations': 900,\n",
       " 'l2_leaf_reg': 4.218585731014478,\n",
       " 'learning_rate': 0.02309380598609181,\n",
       " 'random_strength': 1.3032420654857055,\n",
       " 'scale_pos_weight': 2.255868943560115}"
      ]
     },
     "execution_count": 114,
     "metadata": {},
     "output_type": "execute_result"
    }
   ],
   "source": [
    "best_params_cbc"
   ]
  },
  {
   "cell_type": "code",
   "execution_count": 115,
   "metadata": {
    "id": "gsdAJBsFSSHO"
   },
   "outputs": [
    {
     "name": "stdout",
     "output_type": "stream",
     "text": [
      "ROC_AUC to test = 0.7245\n"
     ]
    }
   ],
   "source": [
    "best_model = CatBoostClassifier(random_state=RANDOM_STATE, thread_count=-1, silent=True, **best_params_cbc)\n",
    "best_model.fit(X_train, y_train)\n",
    "\n",
    "y_pred = best_model.predict(X_test)\n",
    "y_pred_prob = best_model.predict_proba(X_test)\n",
    "\n",
    "roc_auc = roc_auc_score(y_test, y_pred_prob[:, 1])\n",
    "print(f'ROC_AUC to test = {roc_auc:.4f}')"
   ]
  },
  {
   "cell_type": "code",
   "execution_count": 116,
   "metadata": {
    "id": "bQxOIWpJSTeP"
   },
   "outputs": [
    {
     "name": "stdout",
     "output_type": "stream",
     "text": [
      "              precision    recall  f1-score   support\n",
      "\n",
      "           0       0.98      1.00      0.99      9778\n",
      "           1       0.00      0.00      0.00       192\n",
      "\n",
      "    accuracy                           0.98      9970\n",
      "   macro avg       0.49      0.50      0.50      9970\n",
      "weighted avg       0.96      0.98      0.97      9970\n",
      "\n"
     ]
    }
   ],
   "source": [
    "print(classification_report(y_test, y_pred))"
   ]
  },
  {
   "cell_type": "code",
   "execution_count": 117,
   "metadata": {
    "id": "mtS3-Vj3SUtX"
   },
   "outputs": [
    {
     "data": {
      "image/png": "[encoded data removed]",
      "text/plain": [
       "<Figure size 640x480 with 2 Axes>"
      ]
     },
     "metadata": {},
     "output_type": "display_data"
    }
   ],
   "source": [
    "ConfusionMatrixDisplay.from_predictions(y_test, y_pred);"
   ]
  },
  {
   "cell_type": "markdown",
   "metadata": {
    "id": "rvhqPIzBSWrJ"
   },
   "source": [
    "ВАЖНОСТЬ ПРИЗНАКОВ"
   ]
  },
  {
   "cell_type": "code",
   "execution_count": 118,
   "metadata": {
    "id": "d752aiukSYca"
   },
   "outputs": [
    {
     "data": {
      "image/png": "[encoded data removed]",
      "text/plain": [
       "<Figure size 800x870 with 1 Axes>"
      ]
     },
     "metadata": {},
     "output_type": "display_data"
    }
   ],
   "source": [
    "explainer = shap.TreeExplainer(best_model)\n",
    "shap_values = explainer.shap_values(X_test)\n",
    "\n",
    "shap.summary_plot(shap_values,\n",
    "                  X_test,\n",
    "                  color_bar_label='Признаки',\n",
    "                  show=False,\n",
    "                  plot_type='bar',\n",
    "                  show_values_in_legend=True,\n",
    "                  max_display=20)\n",
    "plt.title('SHAP важность признаков')\n",
    "plt.xlabel('SHAP значение')\n",
    "plt.ylabel('Признаки', fontsize=13)\n",
    "\n",
    "plt.tight_layout()\n",
    "plt.show()"
   ]
  },
  {
   "cell_type": "markdown",
   "metadata": {},
   "source": [
    "В рамках данного проекта мы работали с различными датасетами с информацией о рассылках пользователям и их покупках. Нам было дано 3 основных датасета: apparel-messages, apparel_purchases и apparel-target-binary. Ни один из датасетов не содержит пропусков. Второй из них содержал незначительное количество полных дубликатов (0.38%). Они были удалены.\n",
    "\n",
    "Далее датасеты были проагрегированы и объединены.\n",
    "\n",
    "Было протестировано несколько различных моделей на трейн выборке с подбором гиперпараметров с помощью hyperopt. Лучше всего себя показала модель CatBoostClassifier с минимальным отрывом обогнав LGBMClassifier.\n",
    "\n",
    "Однако модель вообще ни разу не поставила метку 0 (при пороге 0.5)."
   ]
  }
 ],
 "metadata": {
  "colab": {
   "provenance": []
  },
  "kernelspec": {
   "display_name": "Python 3 (ipykernel)",
   "language": "python",
   "name": "python3"
  },
  "language_info": {
   "codemirror_mode": {
    "name": "ipython",
    "version": 3
   },
   "file_extension": ".py",
   "mimetype": "text/x-python",
   "name": "python",
   "nbconvert_exporter": "python",
   "pygments_lexer": "ipython3",
   "version": "3.11.5"
  }
 },
 "nbformat": 4,
 "nbformat_minor": 1
}
